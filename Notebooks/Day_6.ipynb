# Day 6 Notebook

## Introduction

This is the notebook for Day 6.

## Tasks

- Task 1
- Task 2
- Task 3


## Conclusion

End of Day 6 notebook.
