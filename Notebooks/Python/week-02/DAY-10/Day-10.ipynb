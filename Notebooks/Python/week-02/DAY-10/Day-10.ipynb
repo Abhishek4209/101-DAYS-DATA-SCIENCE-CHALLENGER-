{
 "cells": [
  {
   "cell_type": "markdown",
   "metadata": {},
   "source": [
    "## **Day-10:-**"
   ]
  },
  {
   "cell_type": "markdown",
   "metadata": {},
   "source": [
    "```\n",
    "Multithreading:-\n",
    "Multithreading is used to executed multiple thread at same time "
   ]
  },
  {
   "cell_type": "code",
   "execution_count": 2,
   "metadata": {},
   "outputs": [],
   "source": [
    "import threading"
   ]
  },
  {
   "cell_type": "code",
   "execution_count": 3,
   "metadata": {},
   "outputs": [],
   "source": [
    "def test(id):\n",
    "    print(\"program start\",id)"
   ]
  },
  {
   "cell_type": "code",
   "execution_count": 4,
   "metadata": {},
   "outputs": [
    {
     "name": "stdout",
     "output_type": "stream",
     "text": [
      "program start 3\n"
     ]
    }
   ],
   "source": [
    "test(3)"
   ]
  },
  {
   "cell_type": "code",
   "execution_count": 5,
   "metadata": {},
   "outputs": [],
   "source": [
    "thread=[threading.Thread(target =test,args = (i,)) for i in range(10)]"
   ]
  },
  {
   "cell_type": "code",
   "execution_count": 6,
   "metadata": {},
   "outputs": [
    {
     "data": {
      "text/plain": [
       "<Thread(Thread-15, initial)>"
      ]
     },
     "execution_count": 6,
     "metadata": {},
     "output_type": "execute_result"
    }
   ],
   "source": [
    "threading.Thread()"
   ]
  },
  {
   "cell_type": "code",
   "execution_count": 7,
   "metadata": {},
   "outputs": [
    {
     "name": "stdout",
     "output_type": "stream",
     "text": [
      "program start 0\n",
      "program start 1\n",
      "program start 2\n",
      "program start 3\n",
      "program start 4\n",
      "program start 5\n",
      "program start 6\n",
      "program start 7\n",
      "program start 8\n",
      "program start 9\n"
     ]
    }
   ],
   "source": [
    "for t in thread:\n",
    "    t.start()"
   ]
  },
  {
   "cell_type": "markdown",
   "metadata": {},
   "source": [
    "```\n",
    "\n",
    "thread=[threading.Thread(target =test,args = (i,)) "
   ]
  },
  {
   "cell_type": "code",
   "execution_count": null,
   "metadata": {},
   "outputs": [],
   "source": []
  },
  {
   "cell_type": "code",
   "execution_count": 8,
   "metadata": {},
   "outputs": [],
   "source": [
    "import threading\n",
    "import urllib.request"
   ]
  },
  {
   "cell_type": "code",
   "execution_count": 9,
   "metadata": {},
   "outputs": [],
   "source": [
    "def file_downloader(url, filename):\n",
    "    urllib.request.urlretrieve(url, filename)"
   ]
  },
  {
   "cell_type": "code",
   "execution_count": 10,
   "metadata": {},
   "outputs": [],
   "source": [
    "file_downloader(\"https://unsplash.com/s/photos/kashmir\",\"texxt.txt\")"
   ]
  },
  {
   "cell_type": "code",
   "execution_count": 11,
   "metadata": {},
   "outputs": [],
   "source": [
    "URL_LIST=[\"https://unsplash.com/s/photos/kashmir\",\"https://plus.unsplash.com/premium_photo-1661902264812-77019190be30?q=80&w=870&auto=format&fit=crop&ixlib=rb-4.0.3&ixid=M3wxMjA3fDB8MHxwaG90by1wYWdlfHx8fGVufDB8fHx8fA%3D%3D\",\"https://plus.unsplash.com/premium_photo-1661902264812-77019190be30?q=80&w=870&auto=format&fit=crop&ixlib=rb-4.0.3&ixid=M3wxMjA3fDB8MHxwaG90by1wYWdlfHx8fGVufDB8fHx8fA%3D%3D\"]"
   ]
  },
  {
   "cell_type": "code",
   "execution_count": 12,
   "metadata": {},
   "outputs": [
    {
     "data": {
      "text/plain": [
       "['https://unsplash.com/s/photos/kashmir',\n",
       " 'https://plus.unsplash.com/premium_photo-1661902264812-77019190be30?q=80&w=870&auto=format&fit=crop&ixlib=rb-4.0.3&ixid=M3wxMjA3fDB8MHxwaG90by1wYWdlfHx8fGVufDB8fHx8fA%3D%3D',\n",
       " 'https://plus.unsplash.com/premium_photo-1661902264812-77019190be30?q=80&w=870&auto=format&fit=crop&ixlib=rb-4.0.3&ixid=M3wxMjA3fDB8MHxwaG90by1wYWdlfHx8fGVufDB8fHx8fA%3D%3D']"
      ]
     },
     "execution_count": 12,
     "metadata": {},
     "output_type": "execute_result"
    }
   ],
   "source": [
    "URL_LIST"
   ]
  },
  {
   "cell_type": "code",
   "execution_count": 13,
   "metadata": {},
   "outputs": [],
   "source": [
    "file_name_list=[\"data1.txt\",\"data2.txt\",\"data3.txt\"]"
   ]
  },
  {
   "cell_type": "code",
   "execution_count": 14,
   "metadata": {},
   "outputs": [],
   "source": [
    "thread=[threading.Thread(target =file_downloader,args = (URL_LIST[i],file_name_list[i] ))for i in range(3)]"
   ]
  },
  {
   "cell_type": "code",
   "execution_count": 15,
   "metadata": {},
   "outputs": [
    {
     "data": {
      "text/plain": [
       "[<Thread(Thread-16 (file_downloader), initial)>,\n",
       " <Thread(Thread-17 (file_downloader), initial)>,\n",
       " <Thread(Thread-18 (file_downloader), initial)>]"
      ]
     },
     "execution_count": 15,
     "metadata": {},
     "output_type": "execute_result"
    }
   ],
   "source": [
    "thread"
   ]
  },
  {
   "cell_type": "code",
   "execution_count": 16,
   "metadata": {},
   "outputs": [],
   "source": [
    "for t in thread:\n",
    "    t.start()"
   ]
  },
  {
   "cell_type": "code",
   "execution_count": null,
   "metadata": {},
   "outputs": [],
   "source": []
  },
  {
   "cell_type": "markdown",
   "metadata": {},
   "source": [
    "```\n",
    "Importent Program related to Multithreading:-"
   ]
  },
  {
   "cell_type": "code",
   "execution_count": 17,
   "metadata": {},
   "outputs": [],
   "source": [
    "import time"
   ]
  },
  {
   "cell_type": "code",
   "execution_count": 18,
   "metadata": {},
   "outputs": [],
   "source": [
    "def test1(id):\n",
    "    for i in range(10):\n",
    "        print(\"test1 %d printing %d %s\"%(id,i,time.ctime()))   \n",
    "        time.sleep(1)"
   ]
  },
  {
   "cell_type": "code",
   "execution_count": 19,
   "metadata": {},
   "outputs": [
    {
     "name": "stdout",
     "output_type": "stream",
     "text": [
      "test1 1 printing 0 Sat Mar 16 21:11:54 2024\n",
      "test1 1 printing 1 Sat Mar 16 21:11:55 2024\n",
      "test1 1 printing 2 Sat Mar 16 21:11:56 2024\n",
      "test1 1 printing 3 Sat Mar 16 21:11:57 2024\n",
      "test1 1 printing 4 Sat Mar 16 21:11:58 2024\n",
      "test1 1 printing 5 Sat Mar 16 21:11:59 2024\n",
      "test1 1 printing 6 Sat Mar 16 21:12:00 2024\n",
      "test1 1 printing 7 Sat Mar 16 21:12:01 2024\n",
      "test1 1 printing 8 Sat Mar 16 21:12:02 2024\n",
      "test1 1 printing 9 Sat Mar 16 21:12:03 2024\n"
     ]
    }
   ],
   "source": [
    "test1(1)"
   ]
  },
  {
   "cell_type": "code",
   "execution_count": 20,
   "metadata": {},
   "outputs": [],
   "source": [
    "thread=[threading.Thread(target =test1,args=(i,))for i in range(3)]"
   ]
  },
  {
   "cell_type": "code",
   "execution_count": 21,
   "metadata": {},
   "outputs": [
    {
     "data": {
      "text/plain": [
       "[<Thread(Thread-19 (test1), initial)>,\n",
       " <Thread(Thread-20 (test1), initial)>,\n",
       " <Thread(Thread-21 (test1), initial)>]"
      ]
     },
     "execution_count": 21,
     "metadata": {},
     "output_type": "execute_result"
    }
   ],
   "source": [
    "thread"
   ]
  },
  {
   "cell_type": "code",
   "execution_count": 22,
   "metadata": {},
   "outputs": [
    {
     "name": "stdout",
     "output_type": "stream",
     "text": [
      "test1 0 printing 0 Sat Mar 16 21:12:04 2024\n",
      "test1 1 printing 0 Sat Mar 16 21:12:04 2024\n",
      "test1 2 printing 0 Sat Mar 16 21:12:04 2024\n"
     ]
    }
   ],
   "source": [
    "for t in thread:\n",
    "    t.start()"
   ]
  },
  {
   "cell_type": "code",
   "execution_count": null,
   "metadata": {},
   "outputs": [],
   "source": []
  },
  {
   "cell_type": "code",
   "execution_count": null,
   "metadata": {},
   "outputs": [],
   "source": []
  },
  {
   "cell_type": "code",
   "execution_count": 23,
   "metadata": {},
   "outputs": [],
   "source": [
    "shared_var=0\n",
    "lock_var=threading.Lock()"
   ]
  },
  {
   "cell_type": "code",
   "execution_count": 24,
   "metadata": {},
   "outputs": [],
   "source": [
    "def test2(id):\n",
    "    global shared_var\n",
    "    with lock_var:\n",
    "        shared_var=shared_var+1\n",
    "        print(\"test2 id is %d has increased the variable by shared variable by %d\"%(id, shared_var))    \n",
    "        time.sleep(1)\n",
    "    \n",
    "    "
   ]
  },
  {
   "cell_type": "code",
   "execution_count": 25,
   "metadata": {},
   "outputs": [
    {
     "name": "stdout",
     "output_type": "stream",
     "text": [
      "test2 id is 0 has increased the variable by shared variable by 1\n"
     ]
    },
    {
     "name": "stdout",
     "output_type": "stream",
     "text": [
      "test1 0 printing 1 Sat Mar 16 21:12:05 2024\n",
      "test1 1 printing 1 Sat Mar 16 21:12:05 2024\n",
      "test1 2 printing 1 Sat Mar 16 21:12:05 2024\n",
      "test1 0 printing 2 Sat Mar 16 21:12:06 2024\n",
      "test1 2 printing 2 Sat Mar 16 21:12:06 2024\n",
      "test1 1 printing 2 Sat Mar 16 21:12:06 2024\n",
      "test1 0 printing 3 Sat Mar 16 21:12:07 2024\n",
      "test1 2 printing 3 Sat Mar 16 21:12:07 2024\n",
      "test1 1 printing 3 Sat Mar 16 21:12:07 2024\n",
      "test1 0 printing 4 Sat Mar 16 21:12:08 2024\n",
      "test1 1 printing 4 Sat Mar 16 21:12:08 2024\n",
      "test1 2 printing 4 Sat Mar 16 21:12:08 2024\n",
      "test1 0 printing 5 Sat Mar 16 21:12:09 2024test1 1 printing 5 Sat Mar 16 21:12:09 2024\n",
      "test1 2 printing 5 Sat Mar 16 21:12:09 2024\n",
      "\n",
      "test1 1 printing 6 Sat Mar 16 21:12:10 2024\n",
      "test1 0 printing 6 Sat Mar 16 21:12:10 2024\n",
      "test1 2 printing 6 Sat Mar 16 21:12:10 2024\n",
      "test1 0 printing 7 Sat Mar 16 21:12:11 2024test1 1 printing 7 Sat Mar 16 21:12:11 2024\n",
      "\n",
      "test1 2 printing 7 Sat Mar 16 21:12:11 2024\n",
      "test1 1 printing 8 Sat Mar 16 21:12:12 2024\n",
      "test1 0 printing 8 Sat Mar 16 21:12:12 2024\n",
      "test1 2 printing 8 Sat Mar 16 21:12:12 2024\n",
      "test1 1 printing 9 Sat Mar 16 21:12:13 2024\n",
      "test1 0 printing 9 Sat Mar 16 21:12:13 2024\n",
      "test1 2 printing 9 Sat Mar 16 21:12:13 2024\n"
     ]
    }
   ],
   "source": [
    "test2(0)"
   ]
  },
  {
   "cell_type": "code",
   "execution_count": 26,
   "metadata": {},
   "outputs": [],
   "source": [
    "thread=[threading.Thread(target=test2,args=(id,))for i in range(3)]"
   ]
  },
  {
   "cell_type": "code",
   "execution_count": 27,
   "metadata": {},
   "outputs": [
    {
     "data": {
      "text/plain": [
       "[<Thread(Thread-22 (test2), initial)>,\n",
       " <Thread(Thread-23 (test2), initial)>,\n",
       " <Thread(Thread-24 (test2), initial)>]"
      ]
     },
     "execution_count": 27,
     "metadata": {},
     "output_type": "execute_result"
    }
   ],
   "source": [
    "thread"
   ]
  },
  {
   "cell_type": "code",
   "execution_count": 28,
   "metadata": {},
   "outputs": [
    {
     "name": "stderr",
     "output_type": "stream",
     "text": [
      "Exception in thread Thread-22 (test2):\n",
      "Traceback (most recent call last):\n",
      "  File \"e:\\DATA SCIENCE 101 DAYS CHALENGE\\abhi\\Lib\\threading.py\", line 1052, in _bootstrap_inner\n",
      "Exception in thread Thread-23 (test2):\n",
      "Traceback (most recent call last):\n",
      "  File \"e:\\DATA SCIENCE 101 DAYS CHALENGE\\abhi\\Lib\\threading.py\", line 1052, in _bootstrap_inner\n",
      "Exception in thread Thread-24 (test2):\n",
      "Traceback (most recent call last):\n",
      "  File \"e:\\DATA SCIENCE 101 DAYS CHALENGE\\abhi\\Lib\\threading.py\", line 1052, in _bootstrap_inner\n"
     ]
    }
   ],
   "source": [
    "for t in thread:\n",
    "    t.start()"
   ]
  },
  {
   "cell_type": "code",
   "execution_count": null,
   "metadata": {},
   "outputs": [],
   "source": []
  },
  {
   "cell_type": "code",
   "execution_count": null,
   "metadata": {},
   "outputs": [],
   "source": []
  },
  {
   "cell_type": "markdown",
   "metadata": {},
   "source": [
    "```\n",
    "Multiprocessing:-\n",
    "\n",
    "Multiprocessing means multiple process executed but not at same time \n"
   ]
  },
  {
   "cell_type": "code",
   "execution_count": 29,
   "metadata": {},
   "outputs": [
    {
     "name": "stderr",
     "output_type": "stream",
     "text": [
      "    self.run()\n",
      "  File \"e:\\DATA SCIENCE 101 DAYS CHALENGE\\abhi\\Lib\\site-packages\\ipykernel\\ipkernel.py\", line 761, in run_closure\n",
      "    self.run()\n",
      "  File \"e:\\DATA SCIENCE 101 DAYS CHALENGE\\abhi\\Lib\\site-packages\\ipykernel\\ipkernel.py\", line 761, in run_closure\n",
      "    self.run()\n",
      "  File \"e:\\DATA SCIENCE 101 DAYS CHALENGE\\abhi\\Lib\\site-packages\\ipykernel\\ipkernel.py\", line 761, in run_closure\n",
      "    _threading_Thread_run(self)\n",
      "  File \"e:\\DATA SCIENCE 101 DAYS CHALENGE\\abhi\\Lib\\threading.py\", line 989, in run\n",
      "    _threading_Thread_run(self)\n",
      "  File \"e:\\DATA SCIENCE 101 DAYS CHALENGE\\abhi\\Lib\\threading.py\", line 989, in run\n",
      "    _threading_Thread_run(self)\n",
      "  File \"e:\\DATA SCIENCE 101 DAYS CHALENGE\\abhi\\Lib\\threading.py\", line 989, in run\n",
      "    self._target(*self._args, **self._kwargs)\n",
      "  File \"C:\\Users\\Abhi\\AppData\\Local\\Temp\\ipykernel_10912\\1908964499.py\", line 5, in test2\n",
      "    self._target(*self._args, **self._kwargs)\n",
      "  File \"C:\\Users\\Abhi\\AppData\\Local\\Temp\\ipykernel_10912\\1908964499.py\", line 5, in test2\n",
      "    self._target(*self._args, **self._kwargs)\n",
      "  File \"C:\\Users\\Abhi\\AppData\\Local\\Temp\\ipykernel_10912\\1908964499.py\", line 5, in test2\n",
      "TypeError: %d format: a real number is required, not builtin_function_or_method\n",
      "TypeError: %d format: a real number is required, not builtin_function_or_method\n",
      "TypeError: %d format: a real number is required, not builtin_function_or_method\n"
     ]
    }
   ],
   "source": [
    "import multiprocessing"
   ]
  },
  {
   "cell_type": "code",
   "execution_count": 30,
   "metadata": {},
   "outputs": [],
   "source": [
    "def test4():\n",
    "    print(\"this is my multiprocessing function example\")"
   ]
  },
  {
   "cell_type": "code",
   "execution_count": 31,
   "metadata": {},
   "outputs": [
    {
     "name": "stdout",
     "output_type": "stream",
     "text": [
      "this is my main program\n"
     ]
    }
   ],
   "source": [
    "if __name__==\"__main__\":\n",
    "    m=multiprocessing.Process(target=test4,)\n",
    "    print(\"this is my main program\")\n",
    "    m.start()\n",
    "    m.join()"
   ]
  },
  {
   "cell_type": "code",
   "execution_count": 32,
   "metadata": {},
   "outputs": [
    {
     "name": "stdout",
     "output_type": "stream",
     "text": [
      "this is my multiprocessing function example\n"
     ]
    }
   ],
   "source": [
    "test4()"
   ]
  },
  {
   "cell_type": "code",
   "execution_count": 33,
   "metadata": {},
   "outputs": [],
   "source": [
    "def sqr(n):\n",
    "    return n**2\n",
    "\n",
    "\n",
    "if __name__ ==\"__main__\":\n",
    "    with multiprocessing.Pool(processes=10) as pool:\n",
    "        out=pool.map(sqr,[1,2,3,4,5,6,7,8])\n",
    "        print(out)"
   ]
  },
  {
   "cell_type": "code",
   "execution_count": null,
   "metadata": {},
   "outputs": [],
   "source": []
  }
 ],
 "metadata": {
  "kernelspec": {
   "display_name": "Python 3",
   "language": "python",
   "name": "python3"
  },
  "language_info": {
   "codemirror_mode": {
    "name": "ipython",
    "version": 3
   },
   "file_extension": ".py",
   "mimetype": "text/x-python",
   "name": "python",
   "nbconvert_exporter": "python",
   "pygments_lexer": "ipython3",
   "version": "3.12.0"
  }
 },
 "nbformat": 4,
 "nbformat_minor": 2
}
