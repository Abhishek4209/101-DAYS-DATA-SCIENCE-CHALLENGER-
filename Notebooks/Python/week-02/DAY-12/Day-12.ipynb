{
 "cells": [
  {
   "cell_type": "markdown",
   "metadata": {},
   "source": [
    "## Day-12:-"
   ]
  },
  {
   "cell_type": "markdown",
   "metadata": {},
   "source": [
    "```\n",
    "MongoDB"
   ]
  },
  {
   "cell_type": "code",
   "execution_count": 28,
   "metadata": {},
   "outputs": [],
   "source": [
    "# pip install pymongo"
   ]
  },
  {
   "cell_type": "code",
   "execution_count": 29,
   "metadata": {},
   "outputs": [],
   "source": [
    "import pymongo"
   ]
  },
  {
   "cell_type": "code",
   "execution_count": 30,
   "metadata": {},
   "outputs": [
    {
     "name": "stdout",
     "output_type": "stream",
     "text": [
      "Mongo DB version :- 4.4.1\n"
     ]
    }
   ],
   "source": [
    "print(\"Mongo DB version :-\",pymongo.__version__)"
   ]
  },
  {
   "cell_type": "code",
   "execution_count": 31,
   "metadata": {},
   "outputs": [
    {
     "name": "stdout",
     "output_type": "stream",
     "text": [
      "Database(MongoClient(host=['localhost:27017'], document_class=dict, tz_aware=False, connect=True), 'test')\n"
     ]
    }
   ],
   "source": [
    "import pymongo\n",
    "client = pymongo.MongoClient(\"mongodb://localhost:27017\")\n",
    "db=client.test\n",
    "print(db)"
   ]
  },
  {
   "cell_type": "code",
   "execution_count": 32,
   "metadata": {},
   "outputs": [
    {
     "data": {
      "text/plain": [
       "Database(MongoClient(host=['localhost:27017'], document_class=dict, tz_aware=False, connect=True), 'test')"
      ]
     },
     "execution_count": 32,
     "metadata": {},
     "output_type": "execute_result"
    }
   ],
   "source": [
    "db"
   ]
  },
  {
   "cell_type": "code",
   "execution_count": 33,
   "metadata": {},
   "outputs": [],
   "source": [
    "data={\n",
    "    \"name\":\"Abhishek\",\n",
    "    \"class\":\"Data Science Master\",\n",
    "    \"time\":\"flexi\"\n",
    "}"
   ]
  },
  {
   "cell_type": "code",
   "execution_count": 34,
   "metadata": {},
   "outputs": [],
   "source": [
    "coll_pwskills=db[\"my_record\"]"
   ]
  },
  {
   "cell_type": "code",
   "execution_count": 35,
   "metadata": {},
   "outputs": [
    {
     "data": {
      "text/plain": [
       "<pymongo.results.InsertOneResult at 0x1775c9a1a20>"
      ]
     },
     "execution_count": 35,
     "metadata": {},
     "output_type": "execute_result"
    }
   ],
   "source": [
    "coll_pwskills.insert_one(data)"
   ]
  },
  {
   "cell_type": "code",
   "execution_count": 36,
   "metadata": {},
   "outputs": [],
   "source": [
    "data1={\n",
    "    \n",
    "    \"mail_id\":\"abhishekupadhyay9336@gmail.com\",\n",
    "    \"phone_number\":9336123434,\n",
    "    \"address\": \"Varanasi\"\n",
    "    \n",
    "    \n",
    "}"
   ]
  },
  {
   "cell_type": "code",
   "execution_count": 37,
   "metadata": {},
   "outputs": [
    {
     "data": {
      "text/plain": [
       "<pymongo.results.InsertOneResult at 0x1775c9a2da0>"
      ]
     },
     "execution_count": 37,
     "metadata": {},
     "output_type": "execute_result"
    }
   ],
   "source": [
    "coll_pwskills.insert_one(data1)"
   ]
  },
  {
   "cell_type": "code",
   "execution_count": 38,
   "metadata": {},
   "outputs": [],
   "source": [
    "data3=[\n",
    "    {\"name\":\"Abhishek Upadhyay\",\"Age\":21,\"Education\":\"UG\"},\n",
    "    {\"name\":\"Ankit Upadhyay\",\"Age\":24,\"Education\":\"UG\"},\n",
    "    {\"name\":\"Pradeep Upadhyay\",\"Age\":49,\"Education\":\"PG\"},\n",
    "    {\"name\":\"Rachana Upadhyay\",\"Age\":45,\"Education\":\"PG\"},\n",
    "    {\"name\":\"Khusi Upadhyay\",\"Age\":19,\"Education\":\"UG\"},\n",
    "    {\"name\":\"Nidhi Upadhyay\",\"Age\":26,\"Education\":\"PG\"},\n",
    "    {\"name\":\"Vidhi Upadhyay\",\"Age\":23,\"Education\":\"PG\"},\n",
    "    {\"name\":\"Manshi Upadhyay\",\"Age\":16,\"Education\":\"12\"},\n",
    "]"
   ]
  },
  {
   "cell_type": "code",
   "execution_count": 39,
   "metadata": {},
   "outputs": [
    {
     "data": {
      "text/plain": [
       "<pymongo.results.InsertManyResult at 0x1775c9a2bf0>"
      ]
     },
     "execution_count": 39,
     "metadata": {},
     "output_type": "execute_result"
    }
   ],
   "source": [
    "coll_pwskills.insert_many(data3)"
   ]
  },
  {
   "cell_type": "code",
   "execution_count": 41,
   "metadata": {},
   "outputs": [
    {
     "data": {
      "text/plain": [
       "{'_id': ObjectId('65f70ddad53f379fbb9fbb41'),\n",
       " 'name': 'Abhishek',\n",
       " 'class': 'Data Science Master',\n",
       " 'time': 'flexi'}"
      ]
     },
     "execution_count": 41,
     "metadata": {},
     "output_type": "execute_result"
    }
   ],
   "source": [
    "coll_pwskills.find_one()"
   ]
  },
  {
   "cell_type": "code",
   "execution_count": 42,
   "metadata": {},
   "outputs": [
    {
     "name": "stdout",
     "output_type": "stream",
     "text": [
      "{'_id': ObjectId('65f70ddad53f379fbb9fbb41'), 'name': 'Abhishek', 'class': 'Data Science Master', 'time': 'flexi'}\n",
      "{'_id': ObjectId('65f70de1d53f379fbb9fbb43'), 'name': 'Abhishek', 'class': 'Data Science Master', 'time': 'flexi'}\n",
      "{'_id': ObjectId('65f70ea8d53f379fbb9fbb44'), 'mail_id': 'abhishekupadhyay9336@gmail.com', 'phone_number': 9336123434, 'address': 'Varanasi'}\n",
      "{'_id': ObjectId('65f71062d53f379fbb9fbb45'), 'name': 'Abhishek Upadhyay', 'Age': 21, 'Education': 'UG'}\n",
      "{'_id': ObjectId('65f71062d53f379fbb9fbb46'), 'name': 'Ankit Upadhyay', 'Age': 24, 'Education': 'UG'}\n",
      "{'_id': ObjectId('65f71062d53f379fbb9fbb47'), 'name': 'Pradeep Upadhyay', 'Age': 49, 'Education': 'PG'}\n",
      "{'_id': ObjectId('65f71062d53f379fbb9fbb48'), 'name': 'Rachana Upadhyay', 'Age': 45, 'Education': 'PG'}\n",
      "{'_id': ObjectId('65f71062d53f379fbb9fbb49'), 'name': 'Khusi Upadhyay', 'Age': 19, 'Education': 'UG'}\n",
      "{'_id': ObjectId('65f71062d53f379fbb9fbb4a'), 'name': 'Nidhi Upadhyay', 'Age': 26, 'Education': 'PG'}\n",
      "{'_id': ObjectId('65f71062d53f379fbb9fbb4b'), 'name': 'Vidhi Upadhyay', 'Age': 23, 'Education': 'PG'}\n",
      "{'_id': ObjectId('65f71062d53f379fbb9fbb4c'), 'name': ' Upadhyay', 'Age': 23, 'Education': 'PG'}\n",
      "{'_id': ObjectId('65f710b3d53f379fbb9fbb4e'), 'name': 'Abhishek', 'class': 'Data Science Master', 'time': 'flexi'}\n",
      "{'_id': ObjectId('65f710b3d53f379fbb9fbb4f'), 'mail_id': 'abhishekupadhyay9336@gmail.com', 'phone_number': 9336123434, 'address': 'Varanasi'}\n",
      "{'_id': ObjectId('65f710b3d53f379fbb9fbb50'), 'name': 'Abhishek Upadhyay', 'Age': 21, 'Education': 'UG'}\n",
      "{'_id': ObjectId('65f710b3d53f379fbb9fbb51'), 'name': 'Ankit Upadhyay', 'Age': 24, 'Education': 'UG'}\n",
      "{'_id': ObjectId('65f710b3d53f379fbb9fbb52'), 'name': 'Pradeep Upadhyay', 'Age': 49, 'Education': 'PG'}\n",
      "{'_id': ObjectId('65f710b3d53f379fbb9fbb53'), 'name': 'Rachana Upadhyay', 'Age': 45, 'Education': 'PG'}\n",
      "{'_id': ObjectId('65f710b3d53f379fbb9fbb54'), 'name': 'Khusi Upadhyay', 'Age': 19, 'Education': 'UG'}\n",
      "{'_id': ObjectId('65f710b3d53f379fbb9fbb55'), 'name': 'Nidhi Upadhyay', 'Age': 26, 'Education': 'PG'}\n",
      "{'_id': ObjectId('65f710b3d53f379fbb9fbb56'), 'name': 'Vidhi Upadhyay', 'Age': 23, 'Education': 'PG'}\n",
      "{'_id': ObjectId('65f710b3d53f379fbb9fbb57'), 'name': 'Manshi Upadhyay', 'Age': 16, 'Education': '12'}\n"
     ]
    }
   ],
   "source": [
    "for i in coll_pwskills.find():\n",
    "    print(i)"
   ]
  },
  {
   "cell_type": "code",
   "execution_count": 44,
   "metadata": {},
   "outputs": [
    {
     "name": "stdout",
     "output_type": "stream",
     "text": [
      "{'_id': ObjectId('65f70ddad53f379fbb9fbb41'), 'name': 'Abhishek', 'class': 'Data Science Master', 'time': 'flexi'}\n",
      "{'_id': ObjectId('65f70de1d53f379fbb9fbb43'), 'name': 'Abhishek', 'class': 'Data Science Master', 'time': 'flexi'}\n",
      "{'_id': ObjectId('65f710b3d53f379fbb9fbb4e'), 'name': 'Abhishek', 'class': 'Data Science Master', 'time': 'flexi'}\n"
     ]
    }
   ],
   "source": [
    "for i in coll_pwskills.find({\"name\":\"Abhishek\"}):\n",
    "    print(i)"
   ]
  },
  {
   "cell_type": "code",
   "execution_count": 45,
   "metadata": {},
   "outputs": [
    {
     "name": "stdout",
     "output_type": "stream",
     "text": [
      "{'_id': ObjectId('65f71062d53f379fbb9fbb45'), 'name': 'Abhishek Upadhyay', 'Age': 21, 'Education': 'UG'}\n",
      "{'_id': ObjectId('65f71062d53f379fbb9fbb46'), 'name': 'Ankit Upadhyay', 'Age': 24, 'Education': 'UG'}\n",
      "{'_id': ObjectId('65f71062d53f379fbb9fbb49'), 'name': 'Khusi Upadhyay', 'Age': 19, 'Education': 'UG'}\n",
      "{'_id': ObjectId('65f710b3d53f379fbb9fbb50'), 'name': 'Abhishek Upadhyay', 'Age': 21, 'Education': 'UG'}\n",
      "{'_id': ObjectId('65f710b3d53f379fbb9fbb51'), 'name': 'Ankit Upadhyay', 'Age': 24, 'Education': 'UG'}\n",
      "{'_id': ObjectId('65f710b3d53f379fbb9fbb54'), 'name': 'Khusi Upadhyay', 'Age': 19, 'Education': 'UG'}\n"
     ]
    }
   ],
   "source": [
    "for i in coll_pwskills.find({'Education': 'UG'}):\n",
    "    print(i)"
   ]
  },
  {
   "cell_type": "code",
   "execution_count": null,
   "metadata": {},
   "outputs": [],
   "source": []
  },
  {
   "cell_type": "code",
   "execution_count": null,
   "metadata": {},
   "outputs": [],
   "source": []
  },
  {
   "cell_type": "markdown",
   "metadata": {},
   "source": [
    "```\n",
    "What Is Web Api?"
   ]
  },
  {
   "cell_type": "markdown",
   "metadata": {},
   "source": [
    "```\n",
    "Application Programing Interface\n",
    "HTTP Call"
   ]
  },
  {
   "cell_type": "code",
   "execution_count": null,
   "metadata": {},
   "outputs": [],
   "source": []
  },
  {
   "cell_type": "code",
   "execution_count": null,
   "metadata": {},
   "outputs": [],
   "source": []
  },
  {
   "cell_type": "markdown",
   "metadata": {},
   "source": [
    "```\n",
    "Difference B/W Api And Web Api"
   ]
  },
  {
   "cell_type": "markdown",
   "metadata": {},
   "source": [
    "##### web api is made by HTTP call\n",
    "##### api is made by TCP/IP call"
   ]
  },
  {
   "cell_type": "code",
   "execution_count": null,
   "metadata": {},
   "outputs": [],
   "source": []
  },
  {
   "cell_type": "code",
   "execution_count": null,
   "metadata": {},
   "outputs": [],
   "source": []
  },
  {
   "cell_type": "markdown",
   "metadata": {},
   "source": [
    "```\n",
    "Rest And Soap Architecture"
   ]
  },
  {
   "cell_type": "markdown",
   "metadata": {},
   "source": [
    "Rest Protocall is put,get ,post,delete"
   ]
  },
  {
   "cell_type": "markdown",
   "metadata": {},
   "source": [
    "Rest is simple scalibility flexbility"
   ]
  },
  {
   "cell_type": "code",
   "execution_count": null,
   "metadata": {},
   "outputs": [],
   "source": []
  },
  {
   "cell_type": "markdown",
   "metadata": {},
   "source": [
    "Soap Architecture is worked on xml based data"
   ]
  },
  {
   "cell_type": "markdown",
   "metadata": {},
   "source": [
    "Soap Architecture support WSDL"
   ]
  },
  {
   "cell_type": "code",
   "execution_count": null,
   "metadata": {},
   "outputs": [],
   "source": []
  },
  {
   "cell_type": "code",
   "execution_count": null,
   "metadata": {},
   "outputs": [],
   "source": []
  },
  {
   "cell_type": "markdown",
   "metadata": {},
   "source": [
    "```\n",
    "Restful Services"
   ]
  },
  {
   "cell_type": "markdown",
   "metadata": {},
   "source": []
  },
  {
   "cell_type": "code",
   "execution_count": null,
   "metadata": {},
   "outputs": [],
   "source": []
  },
  {
   "cell_type": "markdown",
   "metadata": {},
   "source": [
    "```\n",
    "Flask Introduction, Application, Open Link Flask, App Routing Flask & Url Building Flask"
   ]
  },
  {
   "cell_type": "code",
   "execution_count": 48,
   "metadata": {},
   "outputs": [],
   "source": [
    "from flask import Flask\n",
    "\n",
    "app=Flask(__name__)\n",
    "\n",
    "@app.route('/')\n",
    "def hello_world():\n",
    "    return \"<h1>Hellow world </h1>\"\n",
    "if __name__ ==\"main\":\n",
    "    app.run(host='0.0.0.0')"
   ]
  },
  {
   "cell_type": "code",
   "execution_count": null,
   "metadata": {},
   "outputs": [],
   "source": []
  }
 ],
 "metadata": {
  "kernelspec": {
   "display_name": "Python 3",
   "language": "python",
   "name": "python3"
  },
  "language_info": {
   "codemirror_mode": {
    "name": "ipython",
    "version": 3
   },
   "file_extension": ".py",
   "mimetype": "text/x-python",
   "name": "python",
   "nbconvert_exporter": "python",
   "pygments_lexer": "ipython3",
   "version": "3.11.5"
  }
 },
 "nbformat": 4,
 "nbformat_minor": 2
}
