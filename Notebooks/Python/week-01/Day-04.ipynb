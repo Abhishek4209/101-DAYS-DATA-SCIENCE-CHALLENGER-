{
 "cells": [
  {
   "cell_type": "markdown",
   "metadata": {},
   "source": [
    "## **Day-04**"
   ]
  },
  {
   "cell_type": "markdown",
   "metadata": {},
   "source": [
    "```\n",
    "OOPs:-"
   ]
  },
  {
   "cell_type": "code",
   "execution_count": 698,
   "metadata": {},
   "outputs": [
    {
     "name": "stdout",
     "output_type": "stream",
     "text": [
      "<class 'int'>\n"
     ]
    }
   ],
   "source": [
    "a=1\n",
    "print(type(a))"
   ]
  },
  {
   "cell_type": "markdown",
   "metadata": {},
   "source": [
    "```\n",
    "Class:- \n",
    "class is define real worls entity\n",
    "class is a blue print of object which contain mutiple object and function method inside us"
   ]
  },
  {
   "cell_type": "code",
   "execution_count": 699,
   "metadata": {},
   "outputs": [],
   "source": [
    "class test:\n",
    "    pass"
   ]
  },
  {
   "cell_type": "code",
   "execution_count": 700,
   "metadata": {},
   "outputs": [],
   "source": [
    "a=test()"
   ]
  },
  {
   "cell_type": "code",
   "execution_count": 701,
   "metadata": {},
   "outputs": [
    {
     "data": {
      "text/plain": [
       "__main__.test"
      ]
     },
     "execution_count": 701,
     "metadata": {},
     "output_type": "execute_result"
    }
   ],
   "source": [
    "type(a)"
   ]
  },
  {
   "cell_type": "code",
   "execution_count": 702,
   "metadata": {},
   "outputs": [
    {
     "name": "stdout",
     "output_type": "stream",
     "text": [
      "<class '__main__.test'>\n"
     ]
    }
   ],
   "source": [
    "print(type(a))"
   ]
  },
  {
   "cell_type": "markdown",
   "metadata": {},
   "source": [
    "```\n",
    "self:-\n",
    "self keyword is used to bind the method and function with the class"
   ]
  },
  {
   "cell_type": "code",
   "execution_count": 703,
   "metadata": {},
   "outputs": [],
   "source": [
    "class pwskills:\n",
    "    \n",
    "    def welcome_msg(self):\n",
    "        print(\"welcome to pwskills\")"
   ]
  },
  {
   "cell_type": "code",
   "execution_count": 704,
   "metadata": {},
   "outputs": [],
   "source": [
    "rohan=pwskills()"
   ]
  },
  {
   "cell_type": "code",
   "execution_count": 705,
   "metadata": {},
   "outputs": [
    {
     "name": "stdout",
     "output_type": "stream",
     "text": [
      "<class '__main__.pwskills'>\n"
     ]
    }
   ],
   "source": [
    "print(type(rohan))"
   ]
  },
  {
   "cell_type": "code",
   "execution_count": 706,
   "metadata": {},
   "outputs": [
    {
     "name": "stdout",
     "output_type": "stream",
     "text": [
      "welcome to pwskills\n"
     ]
    }
   ],
   "source": [
    "rohan.welcome_msg()"
   ]
  },
  {
   "cell_type": "code",
   "execution_count": 707,
   "metadata": {},
   "outputs": [
    {
     "name": "stdout",
     "output_type": "stream",
     "text": [
      "welcome to pwskills\n"
     ]
    }
   ],
   "source": [
    "Abhishek=pwskills()\n",
    "Abhishek.welcome_msg()"
   ]
  },
  {
   "cell_type": "markdown",
   "metadata": {},
   "source": [
    "```\n",
    "__init(self,)__\n",
    "this is constructer which is used to passing the argument in class object\n",
    "```"
   ]
  },
  {
   "cell_type": "code",
   "execution_count": 708,
   "metadata": {},
   "outputs": [],
   "source": [
    "class pwskills1:\n",
    "    def __init__(self,phone_number,student_id):\n",
    "        self.phone_number1 = phone_number\n",
    "        self.student_id1 = student_id\n",
    "    def return_student_info(self):\n",
    "        print(self.phone_number1)\n",
    "        print(self.student_id1)\n",
    "        "
   ]
  },
  {
   "cell_type": "code",
   "execution_count": 709,
   "metadata": {},
   "outputs": [],
   "source": [
    "Abhishek=pwskills1(9336821382,21732306)"
   ]
  },
  {
   "cell_type": "code",
   "execution_count": 710,
   "metadata": {},
   "outputs": [
    {
     "name": "stdout",
     "output_type": "stream",
     "text": [
      "9336821382\n",
      "21732306\n"
     ]
    }
   ],
   "source": [
    "Abhishek.return_student_info()"
   ]
  },
  {
   "cell_type": "code",
   "execution_count": 711,
   "metadata": {},
   "outputs": [
    {
     "name": "stdout",
     "output_type": "stream",
     "text": [
      "123\n",
      "23\n"
     ]
    }
   ],
   "source": [
    "gaurav=pwskills1(123,23)\n",
    "gaurav.return_student_info()"
   ]
  },
  {
   "cell_type": "code",
   "execution_count": 712,
   "metadata": {},
   "outputs": [
    {
     "name": "stdout",
     "output_type": "stream",
     "text": [
      "32342323\n",
      "342332\n"
     ]
    }
   ],
   "source": [
    "sudh=pwskills1(32342323,342332)\n",
    "sudh.return_student_info()"
   ]
  },
  {
   "cell_type": "code",
   "execution_count": 713,
   "metadata": {},
   "outputs": [
    {
     "name": "stdout",
     "output_type": "stream",
     "text": [
      "32342323\n",
      "342332\n"
     ]
    }
   ],
   "source": [
    "print(sudh.phone_number1)\n",
    "print(sudh.student_id1)\n"
   ]
  },
  {
   "cell_type": "markdown",
   "metadata": {},
   "source": [
    "```\n",
    "POLYMORPHISM:-\n",
    "Polymorphism is concept of OOPs programing which indecate multiple nature at same time \n",
    "```"
   ]
  },
  {
   "cell_type": "code",
   "execution_count": 714,
   "metadata": {},
   "outputs": [],
   "source": [
    "def add(a,b):\n",
    "    return a+b"
   ]
  },
  {
   "cell_type": "code",
   "execution_count": 715,
   "metadata": {},
   "outputs": [
    {
     "name": "stdout",
     "output_type": "stream",
     "text": [
      "3\n",
      "Abhishke Upadhyay\n"
     ]
    }
   ],
   "source": [
    "print(add(1,2))\n",
    "print(add(\"Abhishke \",\"Upadhyay\"))"
   ]
  },
  {
   "cell_type": "code",
   "execution_count": 716,
   "metadata": {},
   "outputs": [],
   "source": [
    "class DataScience:\n",
    "    def syllabus(self):\n",
    "        print(\"this is my Data Science Master Syllabus\")"
   ]
  },
  {
   "cell_type": "code",
   "execution_count": 717,
   "metadata": {},
   "outputs": [],
   "source": [
    "class Webdev:\n",
    "    def syllabus(self):\n",
    "        print(\"this is my Web Dev Syllabus\")"
   ]
  },
  {
   "cell_type": "code",
   "execution_count": 718,
   "metadata": {},
   "outputs": [],
   "source": [
    "ds=DataScience()\n",
    "wd=Webdev()\n",
    "class_obj1=[wd,ds]"
   ]
  },
  {
   "cell_type": "code",
   "execution_count": 719,
   "metadata": {},
   "outputs": [],
   "source": [
    "def poly(class_obj):\n",
    "    for i in class_obj:\n",
    "        (i.syllabus())\n"
   ]
  },
  {
   "cell_type": "code",
   "execution_count": 720,
   "metadata": {},
   "outputs": [],
   "source": [
    "class_obj=[ds,wd]\n"
   ]
  },
  {
   "cell_type": "code",
   "execution_count": 721,
   "metadata": {},
   "outputs": [
    {
     "name": "stdout",
     "output_type": "stream",
     "text": [
      "this is my Web Dev Syllabus\n",
      "this is my Data Science Master Syllabus\n"
     ]
    }
   ],
   "source": [
    "poly(class_obj1)"
   ]
  },
  {
   "cell_type": "markdown",
   "metadata": {},
   "source": []
  },
  {
   "cell_type": "markdown",
   "metadata": {},
   "source": [
    "```\n",
    "ENCAPSULATION:-\n",
    "\n",
    "self.__\n",
    "\n",
    "\n",
    "object._classname__method\n",
    "\n",
    "Encapsulation is a techniue which is used for hide the some specific information to user which we dont want to shaire with us \n",
    "```"
   ]
  },
  {
   "cell_type": "code",
   "execution_count": 722,
   "metadata": {},
   "outputs": [],
   "source": [
    "class test:\n",
    "    def __init__(self,a,b):\n",
    "        self.a = a\n",
    "        self.b = b\n",
    "        "
   ]
  },
  {
   "cell_type": "code",
   "execution_count": 723,
   "metadata": {},
   "outputs": [
    {
     "data": {
      "text/plain": [
       "23"
      ]
     },
     "execution_count": 723,
     "metadata": {},
     "output_type": "execute_result"
    }
   ],
   "source": [
    "t=test(23,34)\n",
    "t.a"
   ]
  },
  {
   "cell_type": "code",
   "execution_count": 724,
   "metadata": {},
   "outputs": [],
   "source": [
    "class car:\n",
    "    def __init__(self,name,model,year,prices):\n",
    "        self.__name = name\n",
    "        self.__model = model\n",
    "        self.__year = year\n",
    "        self.__prices = prices\n"
   ]
  },
  {
   "cell_type": "code",
   "execution_count": 725,
   "metadata": {},
   "outputs": [],
   "source": [
    "car1=car(\"Toyota\",\"Inova\",2015,700000)"
   ]
  },
  {
   "cell_type": "code",
   "execution_count": 726,
   "metadata": {},
   "outputs": [
    {
     "data": {
      "text/plain": [
       "<__main__.car at 0x18e8def8650>"
      ]
     },
     "execution_count": 726,
     "metadata": {},
     "output_type": "execute_result"
    }
   ],
   "source": [
    "car1"
   ]
  },
  {
   "cell_type": "code",
   "execution_count": 727,
   "metadata": {},
   "outputs": [
    {
     "name": "stdout",
     "output_type": "stream",
     "text": [
      "2015\n",
      "700000\n",
      "Inova\n"
     ]
    }
   ],
   "source": [
    "print(car1._car__year)\n",
    "print(car1._car__prices)\n",
    "print(car1._car__model)"
   ]
  },
  {
   "cell_type": "code",
   "execution_count": 728,
   "metadata": {},
   "outputs": [],
   "source": [
    "class car:\n",
    "    def __init__(self,name,model,year,prices):\n",
    "        self.__name = name\n",
    "        self.__model = model\n",
    "        self.__year = year\n",
    "        self.__prices = prices\n",
    "\n",
    "    "
   ]
  },
  {
   "cell_type": "markdown",
   "metadata": {},
   "source": [
    "```\n",
    "Inheritence:-\n",
    "\n",
    "Inheritence is a way by which we can inherite or acces other classes \n",
    "\n",
    "```"
   ]
  },
  {
   "cell_type": "markdown",
   "metadata": {},
   "source": [
    "```\n",
    "Simple Inheritence:-\n",
    "```"
   ]
  },
  {
   "cell_type": "code",
   "execution_count": 729,
   "metadata": {},
   "outputs": [],
   "source": [
    "class father:\n",
    "    def __init__(self,name,age,occupation):\n",
    "        self.name = name\n",
    "        self.age = age\n",
    "        self.occupation = occupation\n",
    "    \n",
    "    def return_info(self):\n",
    "        print(f\"Father name is {self.name}\")\n",
    "        print(f\"Father age is {self.age}\")\n",
    "        print(f\"Father occupation is {self.occupation}\")"
   ]
  },
  {
   "cell_type": "code",
   "execution_count": 730,
   "metadata": {},
   "outputs": [],
   "source": [
    "class son(father):\n",
    "    def __init__(self,name,age,occupation):\n",
    "        self.name = name\n",
    "        self.age = age\n",
    "        self.occupation = occupation\n",
    "    \n",
    "    def return_info_son(self):\n",
    "        print(f\"Son name = {self.name}\")\n",
    "        print(f\"Son age = {self.age}\")\n",
    "        print(f\"Son occupation = {self.occupation}\")"
   ]
  },
  {
   "cell_type": "code",
   "execution_count": 731,
   "metadata": {},
   "outputs": [
    {
     "name": "stdout",
     "output_type": "stream",
     "text": [
      "Father name is Abhishek Upadhyay\n",
      "Father age is 21\n",
      "Father occupation is Student\n"
     ]
    }
   ],
   "source": [
    "father_info=father(\"Pradeep Upadhyay\",49,\"Bussinessman\")\n",
    "son1=son(\"Abhishek Upadhyay\",21,\"Student\")\n",
    "(son1.return_info())\n"
   ]
  },
  {
   "cell_type": "code",
   "execution_count": 732,
   "metadata": {},
   "outputs": [
    {
     "name": "stdout",
     "output_type": "stream",
     "text": [
      "Son name = Abhishek Upadhyay\n",
      "Son age = 21\n",
      "Son occupation = Student\n"
     ]
    }
   ],
   "source": [
    "(son1.return_info_son())"
   ]
  },
  {
   "cell_type": "markdown",
   "metadata": {},
   "source": [
    "```\n",
    "Multilevel Inheritence:-\n",
    "```"
   ]
  },
  {
   "cell_type": "code",
   "execution_count": 733,
   "metadata": {},
   "outputs": [],
   "source": [
    "class father:\n",
    "    def __init__(self,name,age,occupation):\n",
    "        self.name = name\n",
    "        self.age = age\n",
    "        self.occupation = occupation\n",
    "    def return_father_info(self):\n",
    "        print(f\"Father name {self.name}\")\n",
    "        print(f\"Father age {self.age}\")\n",
    "        print(f\"Father occupation {self.occupation}\")"
   ]
  },
  {
   "cell_type": "code",
   "execution_count": 734,
   "metadata": {},
   "outputs": [],
   "source": [
    "class mother(father):\n",
    "    def __init__(self,name,age,occupation):\n",
    "        self.name = name\n",
    "        self.age = age\n",
    "        self.occupation = occupation\n",
    "    def return_mother_info(self):\n",
    "        print(f\"mother name {self.name}\")\n",
    "        print(f\"mother age {self.age}\")\n",
    "        print(f\"mother occupation {self.occupation}\")"
   ]
  },
  {
   "cell_type": "code",
   "execution_count": 735,
   "metadata": {},
   "outputs": [],
   "source": [
    "class son(mother):\n",
    "    def __init__(self,name,age,occupation):\n",
    "        self.name = name\n",
    "        self.age = age\n",
    "        self.occupation = occupation\n",
    "    def return_son_info(self):\n",
    "        print(f\"Son name {self.name}\")\n",
    "        print(f\"Son age {self.age}\")\n",
    "        print(f\"Son occupation {self.occupation}\")"
   ]
  },
  {
   "cell_type": "code",
   "execution_count": 736,
   "metadata": {},
   "outputs": [],
   "source": [
    "S=son(\"Abhishek Upadhyay\",21,\"Student\")\n"
   ]
  },
  {
   "cell_type": "code",
   "execution_count": 737,
   "metadata": {},
   "outputs": [
    {
     "name": "stdout",
     "output_type": "stream",
     "text": [
      "Son name Abhishek Upadhyay\n",
      "Son age 21\n",
      "Son occupation Student\n"
     ]
    }
   ],
   "source": [
    "S.return_son_info()"
   ]
  },
  {
   "cell_type": "code",
   "execution_count": 738,
   "metadata": {},
   "outputs": [],
   "source": [
    "S=father(\"Pradeep Upadhyay\",49,\"Bussinesman\")"
   ]
  },
  {
   "cell_type": "code",
   "execution_count": 739,
   "metadata": {},
   "outputs": [
    {
     "name": "stdout",
     "output_type": "stream",
     "text": [
      "Father name Pradeep Upadhyay\n",
      "Father age 49\n",
      "Father occupation Bussinesman\n"
     ]
    }
   ],
   "source": [
    "S.return_father_info()"
   ]
  },
  {
   "cell_type": "code",
   "execution_count": 740,
   "metadata": {},
   "outputs": [],
   "source": [
    "S=mother(\"Rachana Upadhyay\",45,\"Housewife\")"
   ]
  },
  {
   "cell_type": "code",
   "execution_count": 741,
   "metadata": {},
   "outputs": [
    {
     "name": "stdout",
     "output_type": "stream",
     "text": [
      "mother name Rachana Upadhyay\n",
      "mother age 45\n",
      "mother occupation Housewife\n"
     ]
    }
   ],
   "source": [
    "S.return_mother_info()"
   ]
  },
  {
   "cell_type": "code",
   "execution_count": null,
   "metadata": {},
   "outputs": [],
   "source": []
  },
  {
   "cell_type": "markdown",
   "metadata": {},
   "source": [
    "```\n",
    "Multiple Inheritence:-\n",
    "```"
   ]
  },
  {
   "cell_type": "code",
   "execution_count": 742,
   "metadata": {},
   "outputs": [],
   "source": [
    "class father:\n",
    "    def __init__(self,name,age,occupation):\n",
    "        self.name = name\n",
    "        self.age = age\n",
    "        self.occupation = occupation\n",
    "        \n",
    "    def retunr_info(self):\n",
    "        print(f\"Father Name : {self.name}\")\n",
    "        print(f\"Father Age : {self.age}\")\n",
    "        print(f\"Father Occupation : {self.occupation}\")\n"
   ]
  },
  {
   "cell_type": "code",
   "execution_count": 743,
   "metadata": {},
   "outputs": [],
   "source": [
    "class mother:\n",
    "    def __init__(self,name,age,occupation):\n",
    "        self.name = name\n",
    "        self.age = age\n",
    "        self.occupation = occupation\n",
    "        \n",
    "    def return_mother_info(self):\n",
    "        print(f\"Mother name :{self.name}\")\n",
    "        print(f\"Mother age :{self.age}\")\n",
    "        print(f\"Mother occupation :{self.occupation}\")"
   ]
  },
  {
   "cell_type": "code",
   "execution_count": 744,
   "metadata": {},
   "outputs": [],
   "source": [
    "class son(father,mother):\n",
    "    def return_son_info(self):\n",
    "        print(\"Parent Information of Given child\")"
   ]
  },
  {
   "cell_type": "code",
   "execution_count": 745,
   "metadata": {},
   "outputs": [
    {
     "data": {
      "text/plain": [
       "<__main__.mother at 0x18e8def81a0>"
      ]
     },
     "execution_count": 745,
     "metadata": {},
     "output_type": "execute_result"
    }
   ],
   "source": [
    "father(\"Pradeep Upadhyay\",49,\"Bussinesman\")\n",
    "mother(\"Rachna Upadhyay\",45,\"Housewife\")"
   ]
  },
  {
   "cell_type": "code",
   "execution_count": 746,
   "metadata": {},
   "outputs": [],
   "source": [
    "S=son(\"Pradeep Upadhyay\",49,\"Bussinesman\")"
   ]
  },
  {
   "cell_type": "code",
   "execution_count": 747,
   "metadata": {},
   "outputs": [
    {
     "name": "stdout",
     "output_type": "stream",
     "text": [
      "Father Name : Pradeep Upadhyay\n",
      "Father Age : 49\n",
      "Father Occupation : Bussinesman\n"
     ]
    }
   ],
   "source": [
    "S.retunr_info()"
   ]
  },
  {
   "cell_type": "code",
   "execution_count": 748,
   "metadata": {},
   "outputs": [],
   "source": [
    "S=son(\"Rachana Upadhyay\",45,\"Housewife\")"
   ]
  },
  {
   "cell_type": "code",
   "execution_count": 749,
   "metadata": {},
   "outputs": [
    {
     "name": "stdout",
     "output_type": "stream",
     "text": [
      "Mother name :Rachana Upadhyay\n",
      "Mother age :45\n",
      "Mother occupation :Housewife\n"
     ]
    }
   ],
   "source": [
    "S.return_mother_info()"
   ]
  },
  {
   "cell_type": "code",
   "execution_count": null,
   "metadata": {},
   "outputs": [],
   "source": []
  }
 ],
 "metadata": {
  "kernelspec": {
   "display_name": "Python 3",
   "language": "python",
   "name": "python3"
  },
  "language_info": {
   "codemirror_mode": {
    "name": "ipython",
    "version": 3
   },
   "file_extension": ".py",
   "mimetype": "text/x-python",
   "name": "python",
   "nbconvert_exporter": "python",
   "pygments_lexer": "ipython3",
   "version": "3.12.0"
  }
 },
 "nbformat": 4,
 "nbformat_minor": 2
}
