# Day 26 Notebook

## Introduction

This is the notebook for Day 26.

## Tasks

- Task 1
- Task 2
- Task 3


## Conclusion

End of Day 26 notebook.
