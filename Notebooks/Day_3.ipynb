# Day 3 Notebook

## Introduction

This is the notebook for Day 3.

## Tasks

- Task 1
- Task 2
- Task 3


## Conclusion

End of Day 3 notebook.
