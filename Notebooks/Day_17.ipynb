# Day 17 Notebook

## Introduction

This is the notebook for Day 17.

## Tasks

- Task 1
- Task 2
- Task 3


## Conclusion

End of Day 17 notebook.
