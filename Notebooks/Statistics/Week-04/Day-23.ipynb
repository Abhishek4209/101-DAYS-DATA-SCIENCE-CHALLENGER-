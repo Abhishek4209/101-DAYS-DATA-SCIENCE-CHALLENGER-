{
 "cells": [
  {
   "cell_type": "markdown",
   "metadata": {},
   "source": [
    "## Day-23:-"
   ]
  },
  {
   "cell_type": "markdown",
   "metadata": {},
   "source": [
    "```\n",
    "Uniform Distribution:-"
   ]
  },
  {
   "cell_type": "markdown",
   "metadata": {},
   "source": [
    "```\n",
    "1. Continuous Uniform Distribution (PDF)\n",
    "2. Discrete Uniform Distribution (PMF)\n"
   ]
  },
  {
   "cell_type": "code",
   "execution_count": null,
   "metadata": {},
   "outputs": [],
   "source": []
  },
  {
   "cell_type": "markdown",
   "metadata": {},
   "source": [
    "## Continuous Uniform Distribution:-"
   ]
  },
  {
   "cell_type": "markdown",
   "metadata": {},
   "source": [
    "```\n",
    "In probability theroy and statstics , the continuous distribution or rectangular distribution is a family of symetric probability distribution. The distribution describes an experiment where there is an arbitary outcome that lies between certain bounds . The bounds are define the parameters a and b. Which are the minimum and maximum values."
   ]
  },
  {
   "cell_type": "code",
   "execution_count": null,
   "metadata": {},
   "outputs": [],
   "source": []
  },
  {
   "cell_type": "markdown",
   "metadata": {},
   "source": [
    "```\n",
    "PDF:-\n",
    "\n",
    "  1    for x E[a,b]     \n",
    "_____\n",
    " (b-a)\n",
    "\n",
    " 0 othervise."
   ]
  },
  {
   "cell_type": "code",
   "execution_count": null,
   "metadata": {},
   "outputs": [],
   "source": []
  },
  {
   "cell_type": "markdown",
   "metadata": {},
   "source": [
    "```\n",
    "CDF:-\n",
    "\n",
    "0 for x < a\n",
    "\n",
    "(x-a)\n",
    "_____   for x E [a,b]\n",
    "(x-b)\n",
    "\n",
    "1 for x > b"
   ]
  },
  {
   "cell_type": "code",
   "execution_count": null,
   "metadata": {},
   "outputs": [],
   "source": []
  },
  {
   "cell_type": "markdown",
   "metadata": {},
   "source": [
    "```\n",
    "Mean= (a+b)/2\n",
    "\n",
    "Median= (a+b)/2\n",
    "\n",
    "variance= (b-a)^2/12"
   ]
  },
  {
   "cell_type": "code",
   "execution_count": null,
   "metadata": {},
   "outputs": [],
   "source": []
  },
  {
   "cell_type": "code",
   "execution_count": null,
   "metadata": {},
   "outputs": [],
   "source": []
  },
  {
   "cell_type": "markdown",
   "metadata": {},
   "source": [
    "## Discrete Uniform Distribution:-"
   ]
  },
  {
   "cell_type": "markdown",
   "metadata": {},
   "source": [
    "```\n",
    "In probability theroy and statstics the discrete uniform distribution is a symetric probability distribution wherein a finite number of values are equaly likely to be observed every one of n values has equal probability 1/n .\n",
    "\n",
    "n=b-a+1\n",
    "\n",
    "Another way of saying  \"discrete Uniform Distribution be a known finite number of outcomes equaly likely to happen\""
   ]
  },
  {
   "cell_type": "code",
   "execution_count": null,
   "metadata": {},
   "outputs": [],
   "source": []
  },
  {
   "cell_type": "markdown",
   "metadata": {},
   "source": [
    "```\n",
    "PMF:-\n",
    "\n",
    "  1/n\n",
    "\n",
    "mean= (a+b)/2\n",
    "\n",
    "median= (a+b)/2\n",
    "\n"
   ]
  },
  {
   "cell_type": "code",
   "execution_count": null,
   "metadata": {},
   "outputs": [],
   "source": []
  },
  {
   "cell_type": "code",
   "execution_count": null,
   "metadata": {},
   "outputs": [],
   "source": []
  },
  {
   "cell_type": "code",
   "execution_count": null,
   "metadata": {},
   "outputs": [],
   "source": []
  },
  {
   "cell_type": "markdown",
   "metadata": {},
   "source": [
    "```\n",
    "Z-stats:-\n",
    "\n",
    "Standard Normal Distribution and z-score \n",
    "\n",
    "mean=0\n",
    "S.D.=1\n",
    "\n",
    "It is say that a value is how much away from their mean."
   ]
  },
  {
   "cell_type": "code",
   "execution_count": null,
   "metadata": {},
   "outputs": [],
   "source": []
  },
  {
   "cell_type": "markdown",
   "metadata": {},
   "source": [
    "```\n",
    "Z-score= (Xi-mean)\n",
    "         _________\n",
    "         S.D.\n",
    "\n",
    "         "
   ]
  },
  {
   "cell_type": "code",
   "execution_count": null,
   "metadata": {},
   "outputs": [],
   "source": []
  },
  {
   "cell_type": "code",
   "execution_count": null,
   "metadata": {},
   "outputs": [],
   "source": []
  },
  {
   "cell_type": "markdown",
   "metadata": {},
   "source": [
    "## Central Limit Theorm:-\n",
    "```\n",
    "The CLT says that The sampling  distribution of the mean will alawys be normaly distributed , as the sample size in large enough. Regardless of whether the population has a normal , Poisson , binomial ,or any other distribution , the sampling distribution ,the sampling distribution of the mean will be normal."
   ]
  },
  {
   "cell_type": "code",
   "execution_count": null,
   "metadata": {},
   "outputs": [],
   "source": []
  },
  {
   "cell_type": "code",
   "execution_count": null,
   "metadata": {},
   "outputs": [],
   "source": []
  },
  {
   "cell_type": "markdown",
   "metadata": {},
   "source": [
    "```\n",
    "n>=30\n",
    "\n",
    "_\n",
    "X= N(mean,S.D./(n)^1/2)"
   ]
  },
  {
   "cell_type": "code",
   "execution_count": null,
   "metadata": {},
   "outputs": [],
   "source": []
  },
  {
   "cell_type": "code",
   "execution_count": null,
   "metadata": {},
   "outputs": [],
   "source": []
  },
  {
   "cell_type": "markdown",
   "metadata": {},
   "source": [
    "# Infrenctial Statstics:-"
   ]
  },
  {
   "cell_type": "markdown",
   "metadata": {},
   "source": [
    "## Estimate:-\n",
    "\n",
    "```\n",
    "It is an observed numerical valued used to estemate an unknown population parameter.\n",
    "```\n",
    "#### 1- Point Estimate:-\n",
    "```\n",
    "Single numerical value used to estemate the unknown population parameter.\n",
    "```\n",
    "#### 2- Interval Estimate:-\n",
    "```\n",
    "Range of value used to estemate the unknown population parameter. \n",
    "```"
   ]
  },
  {
   "cell_type": "code",
   "execution_count": null,
   "metadata": {},
   "outputs": [],
   "source": []
  },
  {
   "cell_type": "code",
   "execution_count": null,
   "metadata": {},
   "outputs": [],
   "source": []
  },
  {
   "cell_type": "code",
   "execution_count": null,
   "metadata": {},
   "outputs": [],
   "source": []
  },
  {
   "cell_type": "markdown",
   "metadata": {},
   "source": [
    "## Hypothesis Testing:-\n",
    "#### Steps---->\n",
    "\n",
    "### 1-NULL HYPOTHESIS (H0):-\n",
    "```\n",
    "The assumption you are begning with.\n",
    "```\n",
    "### 2-Alternate Hypothesis(H1):-\n",
    "```\n",
    "This will be opposite of null hypothesis.\n",
    "```\n",
    "\n",
    "### 3-Testing "
   ]
  },
  {
   "cell_type": "code",
   "execution_count": null,
   "metadata": {},
   "outputs": [],
   "source": []
  },
  {
   "cell_type": "code",
   "execution_count": null,
   "metadata": {},
   "outputs": [],
   "source": []
  },
  {
   "cell_type": "markdown",
   "metadata": {},
   "source": [
    "## P-Value:-\n",
    "```\n",
    "The p value is a number ,calcilated from a statsical test that describes HOW LIKELY YOU ARE TO HAVE FOUND A PARTICULAR SET OF OBSERVATION IF THE NULL HYPOTHESIS WERE TRUE. \n",
    "\n",
    "p values used in hypothesis testing to help decode whether to reject the null hypothesis."
   ]
  },
  {
   "cell_type": "code",
   "execution_count": null,
   "metadata": {},
   "outputs": [],
   "source": []
  },
  {
   "cell_type": "markdown",
   "metadata": {},
   "source": [
    "## Confidence Interval:-\n",
    "```\n",
    "Those regian where our null hypothsis will be True ."
   ]
  },
  {
   "cell_type": "code",
   "execution_count": null,
   "metadata": {},
   "outputs": [],
   "source": []
  },
  {
   "cell_type": "markdown",
   "metadata": {},
   "source": [
    "## Significance Value (alpha):-\n",
    "```\n",
    "C.I.=1-alpha"
   ]
  },
  {
   "cell_type": "code",
   "execution_count": null,
   "metadata": {},
   "outputs": [],
   "source": []
  },
  {
   "cell_type": "code",
   "execution_count": null,
   "metadata": {},
   "outputs": [],
   "source": []
  }
 ],
 "metadata": {
  "language_info": {
   "name": "python"
  }
 },
 "nbformat": 4,
 "nbformat_minor": 2
}
