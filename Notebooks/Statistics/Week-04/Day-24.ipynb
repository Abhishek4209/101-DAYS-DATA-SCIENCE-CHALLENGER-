{
 "cells": [
  {
   "cell_type": "markdown",
   "metadata": {},
   "source": [
    "## Day-24:-"
   ]
  },
  {
   "cell_type": "markdown",
   "metadata": {},
   "source": [
    "### T-test:-\n",
    "\n",
    "```\n",
    "Degree of Freedom:-\n",
    " dof=n-1"
   ]
  },
  {
   "cell_type": "code",
   "execution_count": null,
   "metadata": {},
   "outputs": [],
   "source": []
  },
  {
   "cell_type": "markdown",
   "metadata": {},
   "source": [
    "```\n",
    "    _\n",
    "t= (X-myu)\n",
    "   _______\n",
    "   s/(n)^1/2"
   ]
  },
  {
   "cell_type": "code",
   "execution_count": null,
   "metadata": {},
   "outputs": [],
   "source": []
  },
  {
   "cell_type": "code",
   "execution_count": null,
   "metadata": {},
   "outputs": [],
   "source": []
  },
  {
   "cell_type": "code",
   "execution_count": null,
   "metadata": {},
   "outputs": [],
   "source": []
  },
  {
   "cell_type": "markdown",
   "metadata": {},
   "source": [
    "## Student T-distribution:-"
   ]
  },
  {
   "cell_type": "markdown",
   "metadata": {},
   "source": [
    "```\n",
    "Use case :-\n",
    "How do we perform an analysis when we don't know the population standard deviation."
   ]
  },
  {
   "cell_type": "code",
   "execution_count": null,
   "metadata": {},
   "outputs": [],
   "source": []
  },
  {
   "cell_type": "markdown",
   "metadata": {},
   "source": [
    "```\n",
    "    _\n",
    "t= (X-myu)\n",
    "   _______\n",
    "   s/(n)1/2\n",
    "\n",
    "*s----> sample Standard Deviation.   "
   ]
  },
  {
   "cell_type": "code",
   "execution_count": null,
   "metadata": {},
   "outputs": [],
   "source": []
  },
  {
   "cell_type": "code",
   "execution_count": null,
   "metadata": {},
   "outputs": [],
   "source": []
  },
  {
   "cell_type": "code",
   "execution_count": null,
   "metadata": {},
   "outputs": [],
   "source": []
  },
  {
   "cell_type": "markdown",
   "metadata": {},
   "source": [
    "## T-test vs Z-test:-"
   ]
  },
  {
   "cell_type": "markdown",
   "metadata": {},
   "source": [
    "```\n",
    "                       Do you Know the population std deviation ?\n",
    "                                         |\n",
    "                                         |\n",
    "              _________________Yes__________________________________No______\n",
    "             |                                                             |\n",
    "             |                                                             |\n",
    "         ______________                                                  _______________\n",
    "        |IF THE SAMPLE|                                                  |USE T-TEST     |\n",
    "        |SIZE IS ABOVE|                                                  |               |\n",
    "        |30           |                                                  |               | \n",
    "   ---NO----------------YES---                                           |               |\n",
    "   |                          |                                          -----------------\n",
    "   |                          |\n",
    "_____________              ___________\n",
    "|            |             |          |\n",
    "USE THE Z-TEST             USE THE T-TEST"
   ]
  },
  {
   "cell_type": "code",
   "execution_count": null,
   "metadata": {},
   "outputs": [],
   "source": []
  },
  {
   "cell_type": "code",
   "execution_count": null,
   "metadata": {},
   "outputs": [],
   "source": []
  },
  {
   "cell_type": "markdown",
   "metadata": {},
   "source": [
    "## Type -1 Error Type -2 Error:-\n",
    "```\n",
    "Reality:- Null Hypothesis is True or Null Hypothesis is False.\n",
    "Decision:- Null Hypothesis is True or Null Hypothesis is False.\n",
    "```\n",
    "### Outcome -1:- We reject the null hypothesis when in reality is false. ----> Good \n",
    "\n",
    "## Type -1 Error:-\n",
    "```\n",
    "Outcome -2:- We reject the null hypothesis when in reality is True.-----> Bad \n",
    "```\n",
    "\n",
    "## Type -2 Error:-\n",
    "```\n",
    "Outcome -3:- We retain the Null hypothesis when in reality is False.-----> Bad\n",
    "\n",
    "\n",
    "```\n",
    "\n",
    "\n",
    "```\n",
    "Outcome-4:- We retain the Null hypothesis when in reality is True.-----> Good"
   ]
  },
  {
   "cell_type": "markdown",
   "metadata": {},
   "source": []
  }
 ],
 "metadata": {
  "language_info": {
   "name": "python"
  }
 },
 "nbformat": 4,
 "nbformat_minor": 2
}
