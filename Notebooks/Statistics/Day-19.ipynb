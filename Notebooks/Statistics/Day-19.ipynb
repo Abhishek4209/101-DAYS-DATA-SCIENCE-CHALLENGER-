{
 "cells": [
  {
   "cell_type": "markdown",
   "metadata": {},
   "source": [
    "## Day-19:-"
   ]
  },
  {
   "cell_type": "markdown",
   "metadata": {},
   "source": [
    "Sum of all Probabilities is 1."
   ]
  },
  {
   "cell_type": "markdown",
   "metadata": {},
   "source": [
    "```\n",
    "Probability Density function:-\n",
    "a.Probability mass function:-\n",
    "\n",
    "This is used in discrete variable or value case."
   ]
  },
  {
   "cell_type": "code",
   "execution_count": null,
   "metadata": {},
   "outputs": [],
   "source": []
  },
  {
   "cell_type": "markdown",
   "metadata": {},
   "source": [
    "```\n",
    "b.Probability Density Function:-\n",
    "\n",
    "This is used in continuous distributions or continuous valriable case"
   ]
  },
  {
   "cell_type": "markdown",
   "metadata": {},
   "source": [
    "Cumalative Destribution Function:-\n",
    "\n",
    "Sum of previous probabilities."
   ]
  },
  {
   "cell_type": "code",
   "execution_count": null,
   "metadata": {},
   "outputs": [],
   "source": []
  },
  {
   "cell_type": "code",
   "execution_count": null,
   "metadata": {},
   "outputs": [],
   "source": []
  },
  {
   "cell_type": "markdown",
   "metadata": {},
   "source": [
    "```\n",
    "Types of Distribution:-\n",
    "1.Normal / Gaussian Distribution :- bell curve,    [pdf]\n",
    "2.Bernauli Distribution :- 0 or 1 ,always binary outcome ,   [pmf]\n",
    "3.Uniform Distribution [Pmf]\n",
    "4.Poisson Distribution;- [pmf]\n",
    "5.Log Normal Distribution :- [pdf]\n",
    "6.Binomial Distribution:- [pmf]  , Special case of bernauli distribution like more time an experiment was happen."
   ]
  },
  {
   "cell_type": "code",
   "execution_count": null,
   "metadata": {},
   "outputs": [],
   "source": []
  },
  {
   "cell_type": "code",
   "execution_count": null,
   "metadata": {},
   "outputs": [],
   "source": []
  },
  {
   "cell_type": "markdown",
   "metadata": {},
   "source": [
    "```\n",
    "Bernoulli Distribution:-\n",
    "\n",
    "Descrite Random variable used in this distribution. It outcomes are binary .\n",
    "\n",
    "\n",
    "p,q  p is probability of succeses q is probability of failure.\n",
    "\n",
    "p+q=1\n",
    "\n",
    "ex:-\n",
    "A coin is tossed 10 times then we can used bernuolli distribution.\n",
    "\n",
    "\n",
    "0 <= p <= 1\n",
    "\n",
    "PMF (Bernoulli)= p*k (1-p)*(1-k)        , k E{0,1}\n",
    "\n",
    "\n",
    "\n",
    "pmf= {\n",
    "    \n",
    "      q=1-p ,if k=0\n",
    "      \n",
    "      p if k=1\n",
    "\n",
    "}\n",
    "\n",
    "\n",
    "\n",
    "1.MEAN:-\n",
    "\n",
    "E(K)=  summation (i=1 to k) [ k.p(k)] = p\n",
    "\n",
    "2.Median:-\n",
    "\n",
    "{\n",
    "\n",
    " 0, if p < 1/2\n",
    "\n",
    " [0,1] if p=1/2\n",
    "\n",
    "1 if p > 1/2\n",
    "\n",
    "\n",
    "}\n",
    "\n",
    "\n",
    "\n",
    "3.variance:-\n",
    "\n",
    "\n",
    "var = p*(1-p)\n",
    "\n",
    "\n",
    "\n"
   ]
  },
  {
   "cell_type": "code",
   "execution_count": null,
   "metadata": {},
   "outputs": [],
   "source": []
  },
  {
   "cell_type": "code",
   "execution_count": null,
   "metadata": {},
   "outputs": [],
   "source": []
  },
  {
   "cell_type": "markdown",
   "metadata": {},
   "source": [
    "``` \n",
    "Poission Distribution:-\n",
    "\n",
    "1.Discrete Random Variable  [pmf]\n",
    "2.Describe the number of events occuring in a fixed time interval.\n",
    "\n",
    "\n",
    "ex:-\n",
    "No of people wisting in Scholl in every hour.\n",
    "\n",
    "\n",
    "p(x=5) =[e^-d * d^x]/x!   , d is expected no of events in every hour.\n",
    "\n",
    "\n",
    "\n",
    "1.Mean:-\n",
    "E(x)=d*t   , Expected no of events in every hour."
   ]
  }
 ],
 "metadata": {
  "language_info": {
   "name": "python"
  }
 },
 "nbformat": 4,
 "nbformat_minor": 2
}
