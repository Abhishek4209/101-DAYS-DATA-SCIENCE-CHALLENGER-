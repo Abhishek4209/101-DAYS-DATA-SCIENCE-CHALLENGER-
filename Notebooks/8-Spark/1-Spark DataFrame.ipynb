{
 "cells": [
  {
   "cell_type": "markdown",
   "metadata": {},
   "source": [
    "## Spark DataFrame :-"
   ]
  },
  {
   "cell_type": "code",
   "execution_count": 1,
   "metadata": {},
   "outputs": [],
   "source": [
    "import pyspark"
   ]
  },
  {
   "cell_type": "code",
   "execution_count": 2,
   "metadata": {},
   "outputs": [],
   "source": [
    "from pyspark.sql import SparkSession"
   ]
  },
  {
   "cell_type": "code",
   "execution_count": 3,
   "metadata": {},
   "outputs": [],
   "source": [
    "spark=SparkSession.builder.appName('cardata').getOrCreate()"
   ]
  },
  {
   "cell_type": "code",
   "execution_count": 4,
   "metadata": {},
   "outputs": [
    {
     "data": {
      "text/html": [
       "\n",
       "            <div>\n",
       "                <p><b>SparkSession - in-memory</b></p>\n",
       "                \n",
       "        <div>\n",
       "            <p><b>SparkContext</b></p>\n",
       "\n",
       "            <p><a href=\"http://host.docker.internal:4041\">Spark UI</a></p>\n",
       "\n",
       "            <dl>\n",
       "              <dt>Version</dt>\n",
       "                <dd><code>v3.5.1</code></dd>\n",
       "              <dt>Master</dt>\n",
       "                <dd><code>local[*]</code></dd>\n",
       "              <dt>AppName</dt>\n",
       "                <dd><code>cardata</code></dd>\n",
       "            </dl>\n",
       "        </div>\n",
       "        \n",
       "            </div>\n",
       "        "
      ],
      "text/plain": [
       "<pyspark.sql.session.SparkSession at 0x1d72d8bd940>"
      ]
     },
     "execution_count": 4,
     "metadata": {},
     "output_type": "execute_result"
    }
   ],
   "source": [
    "spark"
   ]
  },
  {
   "cell_type": "code",
   "execution_count": 5,
   "metadata": {},
   "outputs": [],
   "source": [
    "df_spark=spark.read.csv(r'E:\\DATA SCIENCE 101 DAYS CHALENGE\\Notebooks\\8-Spark\\cardekho_dataset.csv')"
   ]
  },
  {
   "cell_type": "code",
   "execution_count": 6,
   "metadata": {},
   "outputs": [
    {
     "name": "stdout",
     "output_type": "stream",
     "text": [
      "+----+--------------------+-------------+--------+-----------+---------+-----------+---------+-----------------+-------+------+---------+-----+-------------+\n",
      "| _c0|                 _c1|          _c2|     _c3|        _c4|      _c5|        _c6|      _c7|              _c8|    _c9|  _c10|     _c11| _c12|         _c13|\n",
      "+----+--------------------+-------------+--------+-----------+---------+-----------+---------+-----------------+-------+------+---------+-----+-------------+\n",
      "|NULL|            car_name|        brand|   model|vehicle_age|km_driven|seller_type|fuel_type|transmission_type|mileage|engine|max_power|seats|selling_price|\n",
      "|   0|         Maruti Alto|       Maruti|    Alto|          9|   120000| Individual|   Petrol|           Manual|   19.7|   796|     46.3|    5|       120000|\n",
      "|   1|       Hyundai Grand|      Hyundai|   Grand|          5|    20000| Individual|   Petrol|           Manual|   18.9|  1197|       82|    5|       550000|\n",
      "|   2|         Hyundai i20|      Hyundai|     i20|         11|    60000| Individual|   Petrol|           Manual|     17|  1197|       80|    5|       215000|\n",
      "|   3|         Maruti Alto|       Maruti|    Alto|          9|    37000| Individual|   Petrol|           Manual|  20.92|   998|     67.1|    5|       226000|\n",
      "|   4|       Ford Ecosport|         Ford|Ecosport|          6|    30000|     Dealer|   Diesel|           Manual|  22.77|  1498|    98.59|    5|       570000|\n",
      "|   5|      Maruti Wagon R|       Maruti| Wagon R|          8|    35000| Individual|   Petrol|           Manual|   18.9|   998|     67.1|    5|       350000|\n",
      "|   6|         Hyundai i10|      Hyundai|     i10|          8|    40000|     Dealer|   Petrol|           Manual|  20.36|  1197|     78.9|    5|       315000|\n",
      "|   7|      Maruti Wagon R|       Maruti| Wagon R|          3|    17512|     Dealer|   Petrol|           Manual|  20.51|   998|    67.04|    5|       410000|\n",
      "|   8|       Hyundai Venue|      Hyundai|   Venue|          2|    20000| Individual|   Petrol|        Automatic|  18.15|   998|   118.35|    5|      1050000|\n",
      "|  12|        Maruti Swift|       Maruti|   Swift|          4|    28321|     Dealer|   Petrol|           Manual|   16.6|  1197|       85|    5|       511000|\n",
      "|  14|       Hyundai Verna|      Hyundai|   Verna|          8|    65278|     Dealer|   Diesel|           Manual|  22.32|  1582|   126.32|    5|       425000|\n",
      "|  15|      Renault Duster|      Renault|  Duster|          5|    50000| Individual|   Diesel|           Manual|  19.64|  1461|   108.45|    5|       750000|\n",
      "|  16|         Mini Cooper|         Mini|  Cooper|          4|     6000|     Dealer|   Petrol|        Automatic|  14.41|  1998|   189.08|    5|      3250000|\n",
      "|  17|         Maruti Ciaz|       Maruti|    Ciaz|          5|    76000|     Dealer|   Diesel|           Manual|  28.09|  1248|     88.5|    5|       650000|\n",
      "|  18|        Maruti Swift|       Maruti|   Swift|          5|    20000| Individual|   Diesel|           Manual|   25.2|  1248|       74|    5|       627000|\n",
      "|  19|Mercedes-Benz C-C...|Mercedes-Benz| C-Class|          7|    65000|     Dealer|   Diesel|        Automatic|  19.27|  2143|      170|    5|      1425000|\n",
      "|  20|        Maruti Swift|       Maruti|   Swift|          7|    62200|     Dealer|   Diesel|           Manual|   28.4|  1248|       74|    5|       425000|\n",
      "|  21|       Toyota Innova|       Toyota|  Innova|          8|   110000| Individual|   Diesel|           Manual|  12.99|  2494|    100.6|    8|       605000|\n",
      "|  22|       Maruti Baleno|       Maruti|  Baleno|          6|    20000| Individual|   Petrol|           Manual|   21.4|  1197|     83.1|    5|       600000|\n",
      "+----+--------------------+-------------+--------+-----------+---------+-----------+---------+-----------------+-------+------+---------+-----+-------------+\n",
      "only showing top 20 rows\n",
      "\n"
     ]
    }
   ],
   "source": [
    "df_spark.show()"
   ]
  },
  {
   "cell_type": "code",
   "execution_count": 7,
   "metadata": {},
   "outputs": [
    {
     "name": "stdout",
     "output_type": "stream",
     "text": [
      "root\n",
      " |-- _c0: string (nullable = true)\n",
      " |-- _c1: string (nullable = true)\n",
      " |-- _c2: string (nullable = true)\n",
      " |-- _c3: string (nullable = true)\n",
      " |-- _c4: string (nullable = true)\n",
      " |-- _c5: string (nullable = true)\n",
      " |-- _c6: string (nullable = true)\n",
      " |-- _c7: string (nullable = true)\n",
      " |-- _c8: string (nullable = true)\n",
      " |-- _c9: string (nullable = true)\n",
      " |-- _c10: string (nullable = true)\n",
      " |-- _c11: string (nullable = true)\n",
      " |-- _c12: string (nullable = true)\n",
      " |-- _c13: string (nullable = true)\n",
      "\n"
     ]
    }
   ],
   "source": [
    "df_spark.printSchema()"
   ]
  },
  {
   "cell_type": "code",
   "execution_count": 8,
   "metadata": {},
   "outputs": [
    {
     "data": {
      "text/plain": [
       "pyspark.sql.dataframe.DataFrame"
      ]
     },
     "execution_count": 8,
     "metadata": {},
     "output_type": "execute_result"
    }
   ],
   "source": [
    "type(df_spark)"
   ]
  },
  {
   "cell_type": "code",
   "execution_count": 9,
   "metadata": {},
   "outputs": [],
   "source": [
    "# df_spark.select(['car_name','brand']).show()"
   ]
  },
  {
   "cell_type": "code",
   "execution_count": 10,
   "metadata": {},
   "outputs": [
    {
     "data": {
      "text/plain": [
       "[('_c0', 'string'),\n",
       " ('_c1', 'string'),\n",
       " ('_c2', 'string'),\n",
       " ('_c3', 'string'),\n",
       " ('_c4', 'string'),\n",
       " ('_c5', 'string'),\n",
       " ('_c6', 'string'),\n",
       " ('_c7', 'string'),\n",
       " ('_c8', 'string'),\n",
       " ('_c9', 'string'),\n",
       " ('_c10', 'string'),\n",
       " ('_c11', 'string'),\n",
       " ('_c12', 'string'),\n",
       " ('_c13', 'string')]"
      ]
     },
     "execution_count": 10,
     "metadata": {},
     "output_type": "execute_result"
    }
   ],
   "source": [
    "df_spark.dtypes"
   ]
  },
  {
   "cell_type": "code",
   "execution_count": 11,
   "metadata": {},
   "outputs": [
    {
     "name": "stdout",
     "output_type": "stream",
     "text": [
      "+-------+-----------------+--------+-----+------------------+------------------+-----------------+-----------+---------+-----------------+------------------+------------------+-----------------+-----------------+-----------------+\n",
      "|summary|              _c0|     _c1|  _c2|               _c3|               _c4|              _c5|        _c6|      _c7|              _c8|               _c9|              _c10|             _c11|             _c12|             _c13|\n",
      "+-------+-----------------+--------+-----+------------------+------------------+-----------------+-----------+---------+-----------------+------------------+------------------+-----------------+-----------------+-----------------+\n",
      "|  count|            15411|   15412|15412|             15412|             15412|            15412|      15412|    15412|            15412|             15412|             15412|            15412|            15412|            15412|\n",
      "|   mean|9811.857699046135|    NULL| NULL|4.3476923076923075|6.0363376808772955|55616.48063071832|       NULL|     NULL|             NULL|19.701151125819095|1486.0577509571085|100.5882538446622|5.325481798715203|774971.1164103562|\n",
      "| stddev|5643.418541882794|    NULL| NULL|1.4007391889297625| 3.013291461417931|51618.54842178997|       NULL|     NULL|             NULL| 4.171264603904163| 521.1066956281886|42.97297907656083|0.807628428967241|894128.3632627012|\n",
      "|    min|                0| Audi A4| Audi|                 3|                 0|              100|     Dealer|      CNG|        Automatic|                10|              1047|              100|                0|           100000|\n",
      "|    max|             9999|car_name|brand|           redi-GO|       vehicle_age|        km_driven|seller_type|fuel_type|transmission_type|           mileage|            engine|        max_power|            seats|    selling_price|\n",
      "+-------+-----------------+--------+-----+------------------+------------------+-----------------+-----------+---------+-----------------+------------------+------------------+-----------------+-----------------+-----------------+\n",
      "\n"
     ]
    }
   ],
   "source": [
    "df_spark.describe().show()"
   ]
  },
  {
   "cell_type": "code",
   "execution_count": 12,
   "metadata": {},
   "outputs": [
    {
     "data": {
      "text/plain": [
       "['_c0',\n",
       " '_c1',\n",
       " '_c2',\n",
       " '_c3',\n",
       " '_c4',\n",
       " '_c5',\n",
       " '_c6',\n",
       " '_c7',\n",
       " '_c8',\n",
       " '_c9',\n",
       " '_c10',\n",
       " '_c11',\n",
       " '_c12',\n",
       " '_c13']"
      ]
     },
     "execution_count": 12,
     "metadata": {},
     "output_type": "execute_result"
    }
   ],
   "source": [
    "df_spark.columns"
   ]
  },
  {
   "cell_type": "code",
   "execution_count": 13,
   "metadata": {},
   "outputs": [
    {
     "name": "stdout",
     "output_type": "stream",
     "text": [
      "+----+--------------------+-------------+--------+-----------+---------+-----------+---------+-----------------+-------+------+---------+-----+-------------+\n",
      "| _c0|                 _c1|          _c2|     _c3|        _c4|      _c5|        _c6|      _c7|              _c8|    _c9|  _c10|     _c11| _c12|         _c13|\n",
      "+----+--------------------+-------------+--------+-----------+---------+-----------+---------+-----------------+-------+------+---------+-----+-------------+\n",
      "|NULL|            car_name|        brand|   model|vehicle_age|km_driven|seller_type|fuel_type|transmission_type|mileage|engine|max_power|seats|selling_price|\n",
      "|   0|         Maruti Alto|       Maruti|    Alto|          9|   120000| Individual|   Petrol|           Manual|   19.7|   796|     46.3|    5|       120000|\n",
      "|   1|       Hyundai Grand|      Hyundai|   Grand|          5|    20000| Individual|   Petrol|           Manual|   18.9|  1197|       82|    5|       550000|\n",
      "|   2|         Hyundai i20|      Hyundai|     i20|         11|    60000| Individual|   Petrol|           Manual|     17|  1197|       80|    5|       215000|\n",
      "|   3|         Maruti Alto|       Maruti|    Alto|          9|    37000| Individual|   Petrol|           Manual|  20.92|   998|     67.1|    5|       226000|\n",
      "|   4|       Ford Ecosport|         Ford|Ecosport|          6|    30000|     Dealer|   Diesel|           Manual|  22.77|  1498|    98.59|    5|       570000|\n",
      "|   5|      Maruti Wagon R|       Maruti| Wagon R|          8|    35000| Individual|   Petrol|           Manual|   18.9|   998|     67.1|    5|       350000|\n",
      "|   6|         Hyundai i10|      Hyundai|     i10|          8|    40000|     Dealer|   Petrol|           Manual|  20.36|  1197|     78.9|    5|       315000|\n",
      "|   7|      Maruti Wagon R|       Maruti| Wagon R|          3|    17512|     Dealer|   Petrol|           Manual|  20.51|   998|    67.04|    5|       410000|\n",
      "|   8|       Hyundai Venue|      Hyundai|   Venue|          2|    20000| Individual|   Petrol|        Automatic|  18.15|   998|   118.35|    5|      1050000|\n",
      "|  12|        Maruti Swift|       Maruti|   Swift|          4|    28321|     Dealer|   Petrol|           Manual|   16.6|  1197|       85|    5|       511000|\n",
      "|  14|       Hyundai Verna|      Hyundai|   Verna|          8|    65278|     Dealer|   Diesel|           Manual|  22.32|  1582|   126.32|    5|       425000|\n",
      "|  15|      Renault Duster|      Renault|  Duster|          5|    50000| Individual|   Diesel|           Manual|  19.64|  1461|   108.45|    5|       750000|\n",
      "|  16|         Mini Cooper|         Mini|  Cooper|          4|     6000|     Dealer|   Petrol|        Automatic|  14.41|  1998|   189.08|    5|      3250000|\n",
      "|  17|         Maruti Ciaz|       Maruti|    Ciaz|          5|    76000|     Dealer|   Diesel|           Manual|  28.09|  1248|     88.5|    5|       650000|\n",
      "|  18|        Maruti Swift|       Maruti|   Swift|          5|    20000| Individual|   Diesel|           Manual|   25.2|  1248|       74|    5|       627000|\n",
      "|  19|Mercedes-Benz C-C...|Mercedes-Benz| C-Class|          7|    65000|     Dealer|   Diesel|        Automatic|  19.27|  2143|      170|    5|      1425000|\n",
      "|  20|        Maruti Swift|       Maruti|   Swift|          7|    62200|     Dealer|   Diesel|           Manual|   28.4|  1248|       74|    5|       425000|\n",
      "|  21|       Toyota Innova|       Toyota|  Innova|          8|   110000| Individual|   Diesel|           Manual|  12.99|  2494|    100.6|    8|       605000|\n",
      "|  22|       Maruti Baleno|       Maruti|  Baleno|          6|    20000| Individual|   Petrol|           Manual|   21.4|  1197|     83.1|    5|       600000|\n",
      "+----+--------------------+-------------+--------+-----------+---------+-----------+---------+-----------------+-------+------+---------+-----+-------------+\n",
      "only showing top 20 rows\n",
      "\n"
     ]
    }
   ],
   "source": [
    "df_spark.withColumnRenamed('brand','Brand').show()"
   ]
  },
  {
   "cell_type": "code",
   "execution_count": 1,
   "metadata": {},
   "outputs": [],
   "source": [
    "import pyspark"
   ]
  },
  {
   "cell_type": "code",
   "execution_count": 7,
   "metadata": {},
   "outputs": [],
   "source": [
    "from pyspark.sql import SparkSession\n",
    "spark = SparkSession.builder.appName('car-dekho').getOrCreate()"
   ]
  },
  {
   "cell_type": "code",
   "execution_count": 8,
   "metadata": {},
   "outputs": [
    {
     "data": {
      "text/html": [
       "\n",
       "            <div>\n",
       "                <p><b>SparkSession - in-memory</b></p>\n",
       "                \n",
       "        <div>\n",
       "            <p><b>SparkContext</b></p>\n",
       "\n",
       "            <p><a href=\"http://[2409:40e3:310d:3f59:95ae:6a6:7a59:2c6f]:4040\">Spark UI</a></p>\n",
       "\n",
       "            <dl>\n",
       "              <dt>Version</dt>\n",
       "                <dd><code>v3.5.1</code></dd>\n",
       "              <dt>Master</dt>\n",
       "                <dd><code>local[*]</code></dd>\n",
       "              <dt>AppName</dt>\n",
       "                <dd><code>car-dekho</code></dd>\n",
       "            </dl>\n",
       "        </div>\n",
       "        \n",
       "            </div>\n",
       "        "
      ],
      "text/plain": [
       "<pyspark.sql.session.SparkSession at 0x21f19bade20>"
      ]
     },
     "execution_count": 8,
     "metadata": {},
     "output_type": "execute_result"
    }
   ],
   "source": [
    "spark"
   ]
  },
  {
   "cell_type": "code",
   "execution_count": 9,
   "metadata": {},
   "outputs": [],
   "source": [
    "df_spark=spark.read.csv(r'E:\\DATA SCIENCE 101 DAYS CHALENGE\\Notebooks\\8-Spark\\cardekho_dataset.csv')"
   ]
  },
  {
   "cell_type": "code",
   "execution_count": 11,
   "metadata": {},
   "outputs": [
    {
     "name": "stdout",
     "output_type": "stream",
     "text": [
      "+----+--------------------+-------------+--------+-----------+---------+-----------+---------+-----------------+-------+------+---------+-----+-------------+\n",
      "| _c0|                 _c1|          _c2|     _c3|        _c4|      _c5|        _c6|      _c7|              _c8|    _c9|  _c10|     _c11| _c12|         _c13|\n",
      "+----+--------------------+-------------+--------+-----------+---------+-----------+---------+-----------------+-------+------+---------+-----+-------------+\n",
      "|NULL|            car_name|        brand|   model|vehicle_age|km_driven|seller_type|fuel_type|transmission_type|mileage|engine|max_power|seats|selling_price|\n",
      "|   0|         Maruti Alto|       Maruti|    Alto|          9|   120000| Individual|   Petrol|           Manual|   19.7|   796|     46.3|    5|       120000|\n",
      "|   1|       Hyundai Grand|      Hyundai|   Grand|          5|    20000| Individual|   Petrol|           Manual|   18.9|  1197|       82|    5|       550000|\n",
      "|   2|         Hyundai i20|      Hyundai|     i20|         11|    60000| Individual|   Petrol|           Manual|     17|  1197|       80|    5|       215000|\n",
      "|   3|         Maruti Alto|       Maruti|    Alto|          9|    37000| Individual|   Petrol|           Manual|  20.92|   998|     67.1|    5|       226000|\n",
      "|   4|       Ford Ecosport|         Ford|Ecosport|          6|    30000|     Dealer|   Diesel|           Manual|  22.77|  1498|    98.59|    5|       570000|\n",
      "|   5|      Maruti Wagon R|       Maruti| Wagon R|          8|    35000| Individual|   Petrol|           Manual|   18.9|   998|     67.1|    5|       350000|\n",
      "|   6|         Hyundai i10|      Hyundai|     i10|          8|    40000|     Dealer|   Petrol|           Manual|  20.36|  1197|     78.9|    5|       315000|\n",
      "|   7|      Maruti Wagon R|       Maruti| Wagon R|          3|    17512|     Dealer|   Petrol|           Manual|  20.51|   998|    67.04|    5|       410000|\n",
      "|   8|       Hyundai Venue|      Hyundai|   Venue|          2|    20000| Individual|   Petrol|        Automatic|  18.15|   998|   118.35|    5|      1050000|\n",
      "|  12|        Maruti Swift|       Maruti|   Swift|          4|    28321|     Dealer|   Petrol|           Manual|   16.6|  1197|       85|    5|       511000|\n",
      "|  14|       Hyundai Verna|      Hyundai|   Verna|          8|    65278|     Dealer|   Diesel|           Manual|  22.32|  1582|   126.32|    5|       425000|\n",
      "|  15|      Renault Duster|      Renault|  Duster|          5|    50000| Individual|   Diesel|           Manual|  19.64|  1461|   108.45|    5|       750000|\n",
      "|  16|         Mini Cooper|         Mini|  Cooper|          4|     6000|     Dealer|   Petrol|        Automatic|  14.41|  1998|   189.08|    5|      3250000|\n",
      "|  17|         Maruti Ciaz|       Maruti|    Ciaz|          5|    76000|     Dealer|   Diesel|           Manual|  28.09|  1248|     88.5|    5|       650000|\n",
      "|  18|        Maruti Swift|       Maruti|   Swift|          5|    20000| Individual|   Diesel|           Manual|   25.2|  1248|       74|    5|       627000|\n",
      "|  19|Mercedes-Benz C-C...|Mercedes-Benz| C-Class|          7|    65000|     Dealer|   Diesel|        Automatic|  19.27|  2143|      170|    5|      1425000|\n",
      "|  20|        Maruti Swift|       Maruti|   Swift|          7|    62200|     Dealer|   Diesel|           Manual|   28.4|  1248|       74|    5|       425000|\n",
      "|  21|       Toyota Innova|       Toyota|  Innova|          8|   110000| Individual|   Diesel|           Manual|  12.99|  2494|    100.6|    8|       605000|\n",
      "|  22|       Maruti Baleno|       Maruti|  Baleno|          6|    20000| Individual|   Petrol|           Manual|   21.4|  1197|     83.1|    5|       600000|\n",
      "+----+--------------------+-------------+--------+-----------+---------+-----------+---------+-----------------+-------+------+---------+-----+-------------+\n",
      "only showing top 20 rows\n",
      "\n"
     ]
    }
   ],
   "source": [
    "df_spark.show()"
   ]
  },
  {
   "cell_type": "code",
   "execution_count": 24,
   "metadata": {},
   "outputs": [
    {
     "data": {
      "text/plain": [
       "DataFrame[_c0: string, _c1: string, _c2: string, _c3: string, _c4: string, _c5: string, _c6: string, _c7: string, _c8: string, _c9: string, _c10: string, _c11: string, _c12: string, _c13: string]"
      ]
     },
     "execution_count": 24,
     "metadata": {},
     "output_type": "execute_result"
    }
   ],
   "source": [
    "df_spark"
   ]
  },
  {
   "cell_type": "code",
   "execution_count": 16,
   "metadata": {},
   "outputs": [
    {
     "name": "stdout",
     "output_type": "stream",
     "text": [
      "+-------+-----------------+--------+-----+------------------+------------------+-----------------+-----------+---------+-----------------+------------------+------------------+-----------------+-----------------+-----------------+\n",
      "|summary|              _c0|     _c1|  _c2|               _c3|               _c4|              _c5|        _c6|      _c7|              _c8|               _c9|              _c10|             _c11|             _c12|             _c13|\n",
      "+-------+-----------------+--------+-----+------------------+------------------+-----------------+-----------+---------+-----------------+------------------+------------------+-----------------+-----------------+-----------------+\n",
      "|  count|            15411|   15412|15412|             15412|             15412|            15412|      15412|    15412|            15412|             15412|             15412|            15412|            15412|            15412|\n",
      "|   mean|9811.857699046135|    NULL| NULL|4.3476923076923075|6.0363376808772955|55616.48063071832|       NULL|     NULL|             NULL|19.701151125819095|1486.0577509571085|100.5882538446622|5.325481798715203|774971.1164103562|\n",
      "| stddev|5643.418541882794|    NULL| NULL|1.4007391889297625| 3.013291461417931|51618.54842178997|       NULL|     NULL|             NULL| 4.171264603904163| 521.1066956281886|42.97297907656083|0.807628428967241|894128.3632627012|\n",
      "|    min|                0| Audi A4| Audi|                 3|                 0|              100|     Dealer|      CNG|        Automatic|                10|              1047|              100|                0|           100000|\n",
      "|    max|             9999|car_name|brand|           redi-GO|       vehicle_age|        km_driven|seller_type|fuel_type|transmission_type|           mileage|            engine|        max_power|            seats|    selling_price|\n",
      "+-------+-----------------+--------+-----+------------------+------------------+-----------------+-----------+---------+-----------------+------------------+------------------+-----------------+-----------------+-----------------+\n",
      "\n"
     ]
    }
   ],
   "source": [
    "df_spark.describe().show()"
   ]
  },
  {
   "cell_type": "code",
   "execution_count": null,
   "metadata": {},
   "outputs": [],
   "source": []
  }
 ],
 "metadata": {
  "kernelspec": {
   "display_name": "base",
   "language": "python",
   "name": "python3"
  },
  "language_info": {
   "codemirror_mode": {
    "name": "ipython",
    "version": 3
   },
   "file_extension": ".py",
   "mimetype": "text/x-python",
   "name": "python",
   "nbconvert_exporter": "python",
   "pygments_lexer": "ipython3",
   "version": "3.12.0"
  }
 },
 "nbformat": 4,
 "nbformat_minor": 2
}
