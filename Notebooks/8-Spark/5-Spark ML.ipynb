{
 "cells": [
  {
   "cell_type": "markdown",
   "metadata": {},
   "source": [
    "https://sparkbyexamples.com/pyspark-tutorial/"
   ]
  },
  {
   "cell_type": "markdown",
   "metadata": {},
   "source": [
    "# **Spark ML**"
   ]
  },
  {
   "cell_type": "markdown",
   "metadata": {},
   "source": [
    "### Linear Regression Using Spark ML:-"
   ]
  },
  {
   "cell_type": "code",
   "execution_count": 57,
   "metadata": {},
   "outputs": [],
   "source": [
    "import pyspark"
   ]
  },
  {
   "cell_type": "code",
   "execution_count": 58,
   "metadata": {},
   "outputs": [],
   "source": [
    "from pyspark.sql import SparkSession"
   ]
  },
  {
   "cell_type": "code",
   "execution_count": 59,
   "metadata": {},
   "outputs": [],
   "source": [
    "spark=SparkSession.builder.appName('Car_Dekho').getOrCreate()"
   ]
  },
  {
   "cell_type": "code",
   "execution_count": 60,
   "metadata": {},
   "outputs": [
    {
     "data": {
      "text/html": [
       "\n",
       "            <div>\n",
       "                <p><b>SparkSession - in-memory</b></p>\n",
       "                \n",
       "        <div>\n",
       "            <p><b>SparkContext</b></p>\n",
       "\n",
       "            <p><a href=\"http://kubernetes.docker.internal:4040\">Spark UI</a></p>\n",
       "\n",
       "            <dl>\n",
       "              <dt>Version</dt>\n",
       "                <dd><code>v3.5.1</code></dd>\n",
       "              <dt>Master</dt>\n",
       "                <dd><code>local[*]</code></dd>\n",
       "              <dt>AppName</dt>\n",
       "                <dd><code>Car_Dekho</code></dd>\n",
       "            </dl>\n",
       "        </div>\n",
       "        \n",
       "            </div>\n",
       "        "
      ],
      "text/plain": [
       "<pyspark.sql.session.SparkSession at 0x1cbff67d610>"
      ]
     },
     "execution_count": 60,
     "metadata": {},
     "output_type": "execute_result"
    }
   ],
   "source": [
    "spark"
   ]
  },
  {
   "cell_type": "code",
   "execution_count": 61,
   "metadata": {},
   "outputs": [],
   "source": [
    "df=spark.read.csv(r'E:\\DATA SCIENCE 101 DAYS CHALENGE\\Notebooks\\8-Spark\\cardekho_dataset.csv',inferSchema=True,header=True)"
   ]
  },
  {
   "cell_type": "code",
   "execution_count": 62,
   "metadata": {},
   "outputs": [
    {
     "name": "stdout",
     "output_type": "stream",
     "text": [
      "+---+--------------------+-------------+-----------+-----------+---------+-----------+---------+-----------------+-------+------+---------+-----+-------------+\n",
      "|_c0|            car_name|        brand|      model|vehicle_age|km_driven|seller_type|fuel_type|transmission_type|mileage|engine|max_power|seats|selling_price|\n",
      "+---+--------------------+-------------+-----------+-----------+---------+-----------+---------+-----------------+-------+------+---------+-----+-------------+\n",
      "|  0|         Maruti Alto|       Maruti|       Alto|          9|   120000| Individual|   Petrol|           Manual|   19.7|   796|     46.3|    5|       120000|\n",
      "|  1|       Hyundai Grand|      Hyundai|      Grand|          5|    20000| Individual|   Petrol|           Manual|   18.9|  1197|     82.0|    5|       550000|\n",
      "|  2|         Hyundai i20|      Hyundai|        i20|         11|    60000| Individual|   Petrol|           Manual|   17.0|  1197|     80.0|    5|       215000|\n",
      "|  3|         Maruti Alto|       Maruti|       Alto|          9|    37000| Individual|   Petrol|           Manual|  20.92|   998|     67.1|    5|       226000|\n",
      "|  4|       Ford Ecosport|         Ford|   Ecosport|          6|    30000|     Dealer|   Diesel|           Manual|  22.77|  1498|    98.59|    5|       570000|\n",
      "|  5|      Maruti Wagon R|       Maruti|    Wagon R|          8|    35000| Individual|   Petrol|           Manual|   18.9|   998|     67.1|    5|       350000|\n",
      "|  6|         Hyundai i10|      Hyundai|        i10|          8|    40000|     Dealer|   Petrol|           Manual|  20.36|  1197|     78.9|    5|       315000|\n",
      "|  7|      Maruti Wagon R|       Maruti|    Wagon R|          3|    17512|     Dealer|   Petrol|           Manual|  20.51|   998|    67.04|    5|       410000|\n",
      "|  8|       Hyundai Venue|      Hyundai|      Venue|          2|    20000| Individual|   Petrol|        Automatic|  18.15|   998|   118.35|    5|      1050000|\n",
      "| 12|        Maruti Swift|       Maruti|      Swift|          4|    28321|     Dealer|   Petrol|           Manual|   16.6|  1197|     85.0|    5|       511000|\n",
      "| 14|       Hyundai Verna|      Hyundai|      Verna|          8|    65278|     Dealer|   Diesel|           Manual|  22.32|  1582|   126.32|    5|       425000|\n",
      "| 15|      Renault Duster|      Renault|     Duster|          5|    50000| Individual|   Diesel|           Manual|  19.64|  1461|   108.45|    5|       750000|\n",
      "| 16|         Mini Cooper|         Mini|     Cooper|          4|     6000|     Dealer|   Petrol|        Automatic|  14.41|  1998|   189.08|    5|      3250000|\n",
      "| 17|         Maruti Ciaz|       Maruti|       Ciaz|          5|    76000|     Dealer|   Diesel|           Manual|  28.09|  1248|     88.5|    5|       650000|\n",
      "| 18|        Maruti Swift|       Maruti|      Swift|          5|    20000| Individual|   Diesel|           Manual|   25.2|  1248|     74.0|    5|       627000|\n",
      "| 19|Mercedes-Benz C-C...|Mercedes-Benz|    C-Class|          7|    65000|     Dealer|   Diesel|        Automatic|  19.27|  2143|    170.0|    5|      1425000|\n",
      "| 20|        Maruti Swift|       Maruti|      Swift|          7|    62200|     Dealer|   Diesel|           Manual|   28.4|  1248|     74.0|    5|       425000|\n",
      "| 21|       Toyota Innova|       Toyota|     Innova|          8|   110000| Individual|   Diesel|           Manual|  12.99|  2494|    100.6|    8|       605000|\n",
      "| 22|       Maruti Baleno|       Maruti|     Baleno|          6|    20000| Individual|   Petrol|           Manual|   21.4|  1197|     83.1|    5|       600000|\n",
      "| 23|  Maruti Swift Dzire|       Maruti|Swift Dzire|          5|    40000| Individual|   Petrol|           Manual|  20.85|  1197|    83.14|    5|       575000|\n",
      "+---+--------------------+-------------+-----------+-----------+---------+-----------+---------+-----------------+-------+------+---------+-----+-------------+\n",
      "only showing top 20 rows\n",
      "\n"
     ]
    }
   ],
   "source": [
    "df.show()"
   ]
  },
  {
   "cell_type": "code",
   "execution_count": 63,
   "metadata": {},
   "outputs": [
    {
     "name": "stdout",
     "output_type": "stream",
     "text": [
      "root\n",
      " |-- _c0: integer (nullable = true)\n",
      " |-- car_name: string (nullable = true)\n",
      " |-- brand: string (nullable = true)\n",
      " |-- model: string (nullable = true)\n",
      " |-- vehicle_age: integer (nullable = true)\n",
      " |-- km_driven: integer (nullable = true)\n",
      " |-- seller_type: string (nullable = true)\n",
      " |-- fuel_type: string (nullable = true)\n",
      " |-- transmission_type: string (nullable = true)\n",
      " |-- mileage: double (nullable = true)\n",
      " |-- engine: integer (nullable = true)\n",
      " |-- max_power: double (nullable = true)\n",
      " |-- seats: integer (nullable = true)\n",
      " |-- selling_price: integer (nullable = true)\n",
      "\n"
     ]
    }
   ],
   "source": [
    "df.printSchema()"
   ]
  },
  {
   "cell_type": "code",
   "execution_count": 64,
   "metadata": {},
   "outputs": [],
   "source": [
    "from pyspark.ml.feature import StringIndexer\n",
    "\n",
    "indexer1=StringIndexer(inputCol='brand',outputCol='brand_index')\n",
    "indexer2=StringIndexer(inputCol='model',outputCol='model_index')\n",
    "indexer3=StringIndexer(inputCol='seller_type',outputCol='seller_type_index')\n",
    "indexer4=StringIndexer(inputCol='fuel_type',outputCol='fuel_type_index')\n",
    "indexer5=StringIndexer(inputCol='transmission_type',outputCol='transmission_type_index')\n",
    "indexer6=StringIndexer(inputCol='seller_type',outputCol='seller_type_index')\n",
    "indexer7=StringIndexer(inputCol='car_name',outputCol='car_name_index')"
   ]
  },
  {
   "cell_type": "code",
   "execution_count": 65,
   "metadata": {},
   "outputs": [],
   "source": [
    "df_indexed=indexer1.fit(df).transform(df)\n",
    "df_indexed=indexer2.fit(df).transform(df)\n",
    "df_indexed=indexer3.fit(df).transform(df)\n",
    "df_indexed=indexer4.fit(df).transform(df)\n",
    "df_indexed=indexer5.fit(df).transform(df)\n",
    "df_indexed=indexer6.fit(df).transform(df)\n",
    "df_indexed=indexer7.fit(df).transform(df)"
   ]
  },
  {
   "cell_type": "code",
   "execution_count": 66,
   "metadata": {},
   "outputs": [
    {
     "name": "stdout",
     "output_type": "stream",
     "text": [
      "+---+-------------+-------+-----+-----------+---------+-----------+---------+-----------------+-------+------+---------+-----+-------------+--------------+\n",
      "|_c0|     car_name|  brand|model|vehicle_age|km_driven|seller_type|fuel_type|transmission_type|mileage|engine|max_power|seats|selling_price|car_name_index|\n",
      "+---+-------------+-------+-----+-----------+---------+-----------+---------+-----------------+-------+------+---------+-----+-------------+--------------+\n",
      "|  0|  Maruti Alto| Maruti| Alto|          9|   120000| Individual|   Petrol|           Manual|   19.7|   796|     46.3|    5|       120000|           3.0|\n",
      "|  1|Hyundai Grand|Hyundai|Grand|          5|    20000| Individual|   Petrol|           Manual|   18.9|  1197|     82.0|    5|       550000|           6.0|\n",
      "|  2|  Hyundai i20|Hyundai|  i20|         11|    60000| Individual|   Petrol|           Manual|   17.0|  1197|     80.0|    5|       215000|           0.0|\n",
      "+---+-------------+-------+-----+-----------+---------+-----------+---------+-----------------+-------+------+---------+-----+-------------+--------------+\n",
      "only showing top 3 rows\n",
      "\n"
     ]
    }
   ],
   "source": [
    "df_indexed.show(3)"
   ]
  },
  {
   "cell_type": "code",
   "execution_count": 67,
   "metadata": {},
   "outputs": [
    {
     "name": "stdout",
     "output_type": "stream",
     "text": [
      "+---+-----------+------+-----+-----------+---------+-----------+---------+-----------------+-------+------+---------+-----+-------------+--------------+\n",
      "|_c0|   car_name| brand|model|vehicle_age|km_driven|seller_type|fuel_type|transmission_type|mileage|engine|max_power|seats|selling_price|car_name_index|\n",
      "+---+-----------+------+-----+-----------+---------+-----------+---------+-----------------+-------+------+---------+-----+-------------+--------------+\n",
      "|  0|Maruti Alto|Maruti| Alto|          9|   120000| Individual|   Petrol|           Manual|   19.7|   796|     46.3|    5|       120000|           3.0|\n",
      "+---+-----------+------+-----+-----------+---------+-----------+---------+-----------------+-------+------+---------+-----+-------------+--------------+\n",
      "only showing top 1 row\n",
      "\n"
     ]
    }
   ],
   "source": [
    "df_indexed.show(1)"
   ]
  },
  {
   "cell_type": "code",
   "execution_count": 68,
   "metadata": {},
   "outputs": [
    {
     "name": "stdout",
     "output_type": "stream",
     "text": [
      "+-------------------+--------------+\n",
      "|           car_name|car_name_index|\n",
      "+-------------------+--------------+\n",
      "|    Porsche Cayenne|          77.0|\n",
      "|      Porsche Macan|         111.0|\n",
      "|    Mahindra KUV100|          66.0|\n",
      "|       Jeep Compass|          57.0|\n",
      "|     Maruti Celerio|          23.0|\n",
      "|            Audi A8|          90.0|\n",
      "|            Audi Q7|          69.0|\n",
      "|      Hyundai Creta|          16.0|\n",
      "|      Toyota Innova|           7.0|\n",
      "|   Land Rover Rover|          53.0|\n",
      "|Bentley Continental|         100.0|\n",
      "|         Honda City|           4.0|\n",
      "|    Volkswagen Polo|          11.0|\n",
      "|        Tata Safari|          37.0|\n",
      "|           Lexus NX|         108.0|\n",
      "|         Tata Tiago|          30.0|\n",
      "|        Maruti Eeco|          32.0|\n",
      "|        Skoda Rapid|          27.0|\n",
      "|             BMW X1|          51.0|\n",
      "|    Hyundai Elantra|          54.0|\n",
      "+-------------------+--------------+\n",
      "only showing top 20 rows\n",
      "\n"
     ]
    }
   ],
   "source": [
    "df_indexed.select('car_name','car_name_index').distinct().show()"
   ]
  },
  {
   "cell_type": "code",
   "execution_count": 69,
   "metadata": {},
   "outputs": [
    {
     "name": "stdout",
     "output_type": "stream",
     "text": [
      "+--------------------+-----+\n",
      "|            car_name|count|\n",
      "+--------------------+-----+\n",
      "|        Skoda Superb|   93|\n",
      "|         Maruti Alto|  778|\n",
      "|        Toyota Camry|   36|\n",
      "|         Mini Cooper|   17|\n",
      "|         Hyundai i20|  906|\n",
      "|Mercedes-Benz C-C...|  118|\n",
      "|       Maruti Vitara|  295|\n",
      "| Bentley Continental|    3|\n",
      "|          Tata Nexon|   85|\n",
      "|        Kia Carnival|    4|\n",
      "|       Hyundai Verna|  492|\n",
      "|         Maruti Eeco|  125|\n",
      "|    Porsche Panamera|    3|\n",
      "|        Maruti Ignis|   73|\n",
      "|    Mahindra Alturas|    3|\n",
      "|            Lexus NX|    2|\n",
      "|     Toyota Fortuner|  187|\n",
      "|     Volkswagen Polo|  373|\n",
      "|              BMW X5|   25|\n",
      "|          Honda WR-V|  101|\n",
      "+--------------------+-----+\n",
      "only showing top 20 rows\n",
      "\n"
     ]
    }
   ],
   "source": [
    "df_indexed.groupBy('car_name').count().show()"
   ]
  },
  {
   "cell_type": "code",
   "execution_count": 70,
   "metadata": {},
   "outputs": [],
   "source": [
    "from pyspark.ml.feature import VectorAssembler"
   ]
  },
  {
   "cell_type": "code",
   "execution_count": 71,
   "metadata": {},
   "outputs": [
    {
     "name": "stdout",
     "output_type": "stream",
     "text": [
      "+---+-------------+-------+-----+-----------+---------+-----------+---------+-----------------+-------+------+---------+-----+-------------+--------------+\n",
      "|_c0|     car_name|  brand|model|vehicle_age|km_driven|seller_type|fuel_type|transmission_type|mileage|engine|max_power|seats|selling_price|car_name_index|\n",
      "+---+-------------+-------+-----+-----------+---------+-----------+---------+-----------------+-------+------+---------+-----+-------------+--------------+\n",
      "|  0|  Maruti Alto| Maruti| Alto|          9|   120000| Individual|   Petrol|           Manual|   19.7|   796|     46.3|    5|       120000|           3.0|\n",
      "|  1|Hyundai Grand|Hyundai|Grand|          5|    20000| Individual|   Petrol|           Manual|   18.9|  1197|     82.0|    5|       550000|           6.0|\n",
      "|  2|  Hyundai i20|Hyundai|  i20|         11|    60000| Individual|   Petrol|           Manual|   17.0|  1197|     80.0|    5|       215000|           0.0|\n",
      "|  3|  Maruti Alto| Maruti| Alto|          9|    37000| Individual|   Petrol|           Manual|  20.92|   998|     67.1|    5|       226000|           3.0|\n",
      "+---+-------------+-------+-----+-----------+---------+-----------+---------+-----------------+-------+------+---------+-----+-------------+--------------+\n",
      "only showing top 4 rows\n",
      "\n"
     ]
    }
   ],
   "source": [
    "df_indexed.show(4)"
   ]
  },
  {
   "cell_type": "code",
   "execution_count": 72,
   "metadata": {},
   "outputs": [],
   "source": [
    "assembler=VectorAssembler(inputCols=['vehicle_age','km_driven','mileage','engine','max_power','seats','car_name_index'],outputCol='features')"
   ]
  },
  {
   "cell_type": "code",
   "execution_count": 73,
   "metadata": {},
   "outputs": [],
   "source": [
    "output=assembler.transform(df_indexed)"
   ]
  },
  {
   "cell_type": "code",
   "execution_count": 74,
   "metadata": {},
   "outputs": [
    {
     "name": "stdout",
     "output_type": "stream",
     "text": [
      "+---+-------------+-------+--------+-----------+---------+-----------+---------+-----------------+-------+------+---------+-----+-------------+--------------+\n",
      "|_c0|     car_name|  brand|   model|vehicle_age|km_driven|seller_type|fuel_type|transmission_type|mileage|engine|max_power|seats|selling_price|car_name_index|\n",
      "+---+-------------+-------+--------+-----------+---------+-----------+---------+-----------------+-------+------+---------+-----+-------------+--------------+\n",
      "|  0|  Maruti Alto| Maruti|    Alto|          9|   120000| Individual|   Petrol|           Manual|   19.7|   796|     46.3|    5|       120000|           3.0|\n",
      "|  1|Hyundai Grand|Hyundai|   Grand|          5|    20000| Individual|   Petrol|           Manual|   18.9|  1197|     82.0|    5|       550000|           6.0|\n",
      "|  2|  Hyundai i20|Hyundai|     i20|         11|    60000| Individual|   Petrol|           Manual|   17.0|  1197|     80.0|    5|       215000|           0.0|\n",
      "|  3|  Maruti Alto| Maruti|    Alto|          9|    37000| Individual|   Petrol|           Manual|  20.92|   998|     67.1|    5|       226000|           3.0|\n",
      "|  4|Ford Ecosport|   Ford|Ecosport|          6|    30000|     Dealer|   Diesel|           Manual|  22.77|  1498|    98.59|    5|       570000|          10.0|\n",
      "+---+-------------+-------+--------+-----------+---------+-----------+---------+-----------------+-------+------+---------+-----+-------------+--------------+\n",
      "only showing top 5 rows\n",
      "\n"
     ]
    }
   ],
   "source": [
    "df_indexed.show(5)"
   ]
  },
  {
   "cell_type": "code",
   "execution_count": 75,
   "metadata": {},
   "outputs": [],
   "source": [
    "train_data,test_data=output.randomSplit([.8,.2])"
   ]
  },
  {
   "cell_type": "code",
   "execution_count": 76,
   "metadata": {},
   "outputs": [],
   "source": [
    "from pyspark.ml.regression import LinearRegression"
   ]
  },
  {
   "cell_type": "code",
   "execution_count": 77,
   "metadata": {},
   "outputs": [],
   "source": [
    "car_req=LinearRegression(featuresCol='features',labelCol='selling_price')\n",
    "model=car_req.fit(train_data)"
   ]
  },
  {
   "cell_type": "code",
   "execution_count": 78,
   "metadata": {},
   "outputs": [
    {
     "data": {
      "text/plain": [
       "0.6234152095763835"
      ]
     },
     "execution_count": 78,
     "metadata": {},
     "output_type": "execute_result"
    }
   ],
   "source": [
    "result=model.evaluate(train_data)\n",
    "result.r2\n"
   ]
  },
  {
   "cell_type": "code",
   "execution_count": 79,
   "metadata": {},
   "outputs": [
    {
     "data": {
      "text/plain": [
       "561437.497147557"
      ]
     },
     "execution_count": 79,
     "metadata": {},
     "output_type": "execute_result"
    }
   ],
   "source": [
    "result.rootMeanSquaredError"
   ]
  },
  {
   "cell_type": "code",
   "execution_count": 80,
   "metadata": {},
   "outputs": [],
   "source": [
    "pred=model.transform(test_data)"
   ]
  },
  {
   "cell_type": "code",
   "execution_count": 81,
   "metadata": {},
   "outputs": [
    {
     "name": "stdout",
     "output_type": "stream",
     "text": [
      "+---+--------------------+-------------+-----------+-----------+---------+-----------+---------+-----------------+-------+------+---------+-----+-------------+--------------+--------------------+------------------+\n",
      "|_c0|            car_name|        brand|      model|vehicle_age|km_driven|seller_type|fuel_type|transmission_type|mileage|engine|max_power|seats|selling_price|car_name_index|            features|        prediction|\n",
      "+---+--------------------+-------------+-----------+-----------+---------+-----------+---------+-----------------+-------+------+---------+-----+-------------+--------------+--------------------+------------------+\n",
      "|  8|       Hyundai Venue|      Hyundai|      Venue|          2|    20000| Individual|   Petrol|        Automatic|  18.15|   998|   118.35|    5|      1050000|          50.0|[2.0,20000.0,18.1...| 1356442.192817013|\n",
      "| 17|         Maruti Ciaz|       Maruti|       Ciaz|          5|    76000|     Dealer|   Diesel|           Manual|  28.09|  1248|     88.5|    5|       650000|          14.0|[5.0,76000.0,28.0...| 747278.3728899073|\n",
      "| 22|       Maruti Baleno|       Maruti|     Baleno|          6|    20000| Individual|   Petrol|           Manual|   21.4|  1197|     83.1|    5|       600000|          12.0|[6.0,20000.0,21.4...| 522493.5322919877|\n",
      "| 26|         Maruti Alto|       Maruti|       Alto|          8|    25000|     Dealer|   Petrol|           Manual|  20.92|   998|     67.1|    5|       230000|           3.0|[8.0,25000.0,20.9...| 97643.87863553793|\n",
      "| 40|  Maruti Swift Dzire|       Maruti|Swift Dzire|          8|    90000| Individual|   Diesel|           Manual|   23.4|  1248|     74.0|    5|       380000|           1.0|[8.0,90000.0,23.4...|215537.35312148125|\n",
      "| 61|        Maruti Ignis|       Maruti|      Ignis|          2|    20000| Individual|   Petrol|           Manual|  20.89|  1197|     81.8|    5|       530000|          43.0|[2.0,20000.0,20.8...| 847240.6397231566|\n",
      "| 64|       Datsun RediGO|       Datsun|     RediGO|          3|    27263| Individual|   Petrol|           Manual|   22.5|   999|     68.0|    5|       350000|          42.0|[3.0,27263.0,22.5...| 575908.8550219138|\n",
      "| 72|      Hyundai Santro|      Hyundai|     Santro|         14|    56000|     Dealer|   Petrol|           Manual|   17.8|  1086|     63.0|    5|       125000|          31.0|[14.0,56000.0,17....|-312320.8035100222|\n",
      "| 76|    Mahindra Scorpio|     Mahindra|    Scorpio|          4|    50000| Individual|   Diesel|           Manual|   15.4|  1997|    120.0|    7|      1150000|          20.0|[4.0,50000.0,15.4...|1180482.6647718174|\n",
      "| 78|    Mahindra Marazzo|     Mahindra|    Marazzo|          2|    36000| Individual|   Diesel|           Manual|   17.3|  1497|    121.0|    7|       990000|          68.0|[2.0,36000.0,17.3...|1468586.0065222557|\n",
      "| 83|  Maruti Swift Dzire|       Maruti|Swift Dzire|          3|    30000| Individual|   Petrol|           Manual|  21.21|  1197|     81.8|    5|       575000|           1.0|[3.0,30000.0,21.2...| 646990.8189290802|\n",
      "| 93|         Ford Aspire|         Ford|     Aspire|          4|    30000| Individual|   Petrol|           Manual|  18.16|  1196|     86.8|    5|       480000|          45.0|[4.0,30000.0,18.1...| 753110.3929639705|\n",
      "| 95|        Maruti Swift|       Maruti|      Swift|         10|   160000| Individual|   Diesel|           Manual|   17.8|  1248|     75.0|    5|       225000|           2.0|[10.0,160000.0,17...|-25752.10201129329|\n",
      "|100|Mercedes-Benz C-C...|Mercedes-Benz|    C-Class|          9|    74352|     Dealer|   Petrol|        Automatic|  11.74|  1796|    186.0|    5|       775000|          35.0|[9.0,74352.0,11.7...| 1821304.747523538|\n",
      "|105|       Toyota Innova|       Toyota|     Innova|          5|   120000| Individual|   Diesel|           Manual|  12.99|  2494|    100.6|    8|       950000|           7.0|[5.0,120000.0,12....| 743376.4777165235|\n",
      "|109|           Ford Figo|         Ford|       Figo|         10|    40000| Individual|   Petrol|           Manual|   15.6|  1196|     70.0|    5|       130000|          21.0|[10.0,40000.0,15....|-1571.611006509862|\n",
      "|113|     Volkswagen Polo|   Volkswagen|       Polo|          8|    90000|     Dealer|   Diesel|           Manual|  22.07|  1199|     73.9|    5|       365000|          11.0|[8.0,90000.0,22.0...| 220768.9018927219|\n",
      "|144|        Maruti Swift|       Maruti|      Swift|          3|    35000|     Dealer|   Petrol|           Manual|   22.0|  1197|     81.8|    5|       575000|           2.0|[3.0,35000.0,22.0...| 659465.7965794841|\n",
      "|148|       Hyundai Grand|      Hyundai|      Grand|          6|    36000|     Dealer|   Petrol|           Manual|   18.9|  1197|     82.0|    5|       400000|           6.0|[6.0,36000.0,18.9...|436811.02162236907|\n",
      "|154|      Maruti Wagon R|       Maruti|    Wagon R|          2|    50000| Individual|   Petrol|           Manual|  21.79|   998|    67.05|    5|       411000|           5.0|[2.0,50000.0,21.7...| 479032.2422951325|\n",
      "+---+--------------------+-------------+-----------+-----------+---------+-----------+---------+-----------------+-------+------+---------+-----+-------------+--------------+--------------------+------------------+\n",
      "only showing top 20 rows\n",
      "\n"
     ]
    }
   ],
   "source": [
    "pred.show()"
   ]
  },
  {
   "cell_type": "code",
   "execution_count": 82,
   "metadata": {},
   "outputs": [],
   "source": [
    "result_test=model.evaluate(test_data)"
   ]
  },
  {
   "cell_type": "code",
   "execution_count": 83,
   "metadata": {},
   "outputs": [
    {
     "data": {
      "text/plain": [
       "0.661500498681199"
      ]
     },
     "execution_count": 83,
     "metadata": {},
     "output_type": "execute_result"
    }
   ],
   "source": [
    "result_test.r2"
   ]
  },
  {
   "cell_type": "code",
   "execution_count": 84,
   "metadata": {},
   "outputs": [
    {
     "data": {
      "text/plain": [
       "468684.18655342056"
      ]
     },
     "execution_count": 84,
     "metadata": {},
     "output_type": "execute_result"
    }
   ],
   "source": [
    "result_test.rootMeanSquaredError"
   ]
  },
  {
   "cell_type": "markdown",
   "metadata": {},
   "source": [
    "## Loginstic Regresion Using Pyspark:-"
   ]
  },
  {
   "cell_type": "code",
   "execution_count": 1,
   "metadata": {},
   "outputs": [],
   "source": [
    "import pyspark"
   ]
  },
  {
   "cell_type": "code",
   "execution_count": 2,
   "metadata": {},
   "outputs": [],
   "source": [
    "from pyspark.sql import SparkSession"
   ]
  },
  {
   "cell_type": "code",
   "execution_count": null,
   "metadata": {},
   "outputs": [],
   "source": [
    "spark=SparkSession('')"
   ]
  }
 ],
 "metadata": {
  "kernelspec": {
   "display_name": "Python 3",
   "language": "python",
   "name": "python3"
  },
  "language_info": {
   "codemirror_mode": {
    "name": "ipython",
    "version": 3
   },
   "file_extension": ".py",
   "mimetype": "text/x-python",
   "name": "python",
   "nbconvert_exporter": "python",
   "pygments_lexer": "ipython3",
   "version": "3.12.0"
  }
 },
 "nbformat": 4,
 "nbformat_minor": 2
}
