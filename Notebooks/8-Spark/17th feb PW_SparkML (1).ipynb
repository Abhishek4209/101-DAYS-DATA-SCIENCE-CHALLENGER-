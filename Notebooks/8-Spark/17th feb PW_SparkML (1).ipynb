{
  "nbformat": 4,
  "nbformat_minor": 0,
  "metadata": {
    "colab": {
      "provenance": []
    },
    "kernelspec": {
      "name": "python3",
      "display_name": "Python 3"
    },
    "language_info": {
      "name": "python"
    }
  },
  "cells": [
    {
      "cell_type": "code",
      "execution_count": null,
      "metadata": {
        "colab": {
          "base_uri": "https://localhost:8080/"
        },
        "id": "jIYSNebBgnmB",
        "outputId": "a4b57aa9-172b-42bf-cb6b-4e863d2092dd"
      },
      "outputs": [
        {
          "output_type": "stream",
          "name": "stdout",
          "text": [
            "Requirement already satisfied: pyspark in /usr/local/lib/python3.10/dist-packages (3.5.0)\n",
            "Requirement already satisfied: py4j==0.10.9.7 in /usr/local/lib/python3.10/dist-packages (from pyspark) (0.10.9.7)\n"
          ]
        }
      ],
      "source": [
        "pip install pyspark"
      ]
    },
    {
      "cell_type": "code",
      "source": [
        "import pyspark\n",
        "from pyspark.sql import SparkSession"
      ],
      "metadata": {
        "id": "8rh0D5HPh5SR"
      },
      "execution_count": null,
      "outputs": []
    },
    {
      "cell_type": "code",
      "source": [
        "spark = SparkSession.builder.appName('crew_requirement').getOrCreate()"
      ],
      "metadata": {
        "id": "lqkMy6oFiHxB"
      },
      "execution_count": null,
      "outputs": []
    },
    {
      "cell_type": "code",
      "source": [
        "df = spark.read.csv('/content/cruise_ship_info.csv', inferSchema = True, header = True)"
      ],
      "metadata": {
        "id": "X-gBPlf4iZr5"
      },
      "execution_count": null,
      "outputs": []
    },
    {
      "cell_type": "code",
      "source": [
        "df.show(5)"
      ],
      "metadata": {
        "colab": {
          "base_uri": "https://localhost:8080/"
        },
        "id": "r-wdTXVwi9av",
        "outputId": "e5059d2e-680a-4900-8e11-f3ff861b47f9"
      },
      "execution_count": null,
      "outputs": [
        {
          "output_type": "stream",
          "name": "stdout",
          "text": [
            "+-----------+-----------+---+------------------+----------+------+------+-----------------+----+\n",
            "|  Ship_name|Cruise_line|Age|           Tonnage|passengers|length|cabins|passenger_density|crew|\n",
            "+-----------+-----------+---+------------------+----------+------+------+-----------------+----+\n",
            "|    Journey|    Azamara|  6|30.276999999999997|      6.94|  5.94|  3.55|            42.64|3.55|\n",
            "|      Quest|    Azamara|  6|30.276999999999997|      6.94|  5.94|  3.55|            42.64|3.55|\n",
            "|Celebration|   Carnival| 26|            47.262|     14.86|  7.22|  7.43|             31.8| 6.7|\n",
            "|   Conquest|   Carnival| 11|             110.0|     29.74|  9.53| 14.88|            36.99|19.1|\n",
            "|    Destiny|   Carnival| 17|           101.353|     26.42|  8.92| 13.21|            38.36|10.0|\n",
            "+-----------+-----------+---+------------------+----------+------+------+-----------------+----+\n",
            "only showing top 5 rows\n",
            "\n"
          ]
        }
      ]
    },
    {
      "cell_type": "code",
      "source": [
        "df.printSchema()"
      ],
      "metadata": {
        "colab": {
          "base_uri": "https://localhost:8080/"
        },
        "id": "CGPv_gLRjIhC",
        "outputId": "67677edf-f81d-4324-a97f-fa35175ac63e"
      },
      "execution_count": null,
      "outputs": [
        {
          "output_type": "stream",
          "name": "stdout",
          "text": [
            "root\n",
            " |-- Ship_name: string (nullable = true)\n",
            " |-- Cruise_line: string (nullable = true)\n",
            " |-- Age: integer (nullable = true)\n",
            " |-- Tonnage: double (nullable = true)\n",
            " |-- passengers: double (nullable = true)\n",
            " |-- length: double (nullable = true)\n",
            " |-- cabins: double (nullable = true)\n",
            " |-- passenger_density: double (nullable = true)\n",
            " |-- crew: double (nullable = true)\n",
            "\n"
          ]
        }
      ]
    },
    {
      "cell_type": "code",
      "source": [
        "from pyspark.ml.feature import StringIndexer\n",
        "\n",
        "indexer = StringIndexer(inputCol = 'Cruise_line', outputCol = \"Cruise_line_index\")\n",
        "\n",
        "df_indexed = indexer.fit(df).transform(df)"
      ],
      "metadata": {
        "id": "3u3WRc3Vj5lY"
      },
      "execution_count": null,
      "outputs": []
    },
    {
      "cell_type": "code",
      "source": [
        "df_indexed.show(10)"
      ],
      "metadata": {
        "colab": {
          "base_uri": "https://localhost:8080/"
        },
        "id": "MU5NyDjIn1Qq",
        "outputId": "76819f94-6cb0-4b98-e4d1-a48d389a8463"
      },
      "execution_count": null,
      "outputs": [
        {
          "output_type": "stream",
          "name": "stdout",
          "text": [
            "+-----------+-----------+---+------------------+----------+------+------+-----------------+----+-----------------+\n",
            "|  Ship_name|Cruise_line|Age|           Tonnage|passengers|length|cabins|passenger_density|crew|Cruise_line_index|\n",
            "+-----------+-----------+---+------------------+----------+------+------+-----------------+----+-----------------+\n",
            "|    Journey|    Azamara|  6|30.276999999999997|      6.94|  5.94|  3.55|            42.64|3.55|             16.0|\n",
            "|      Quest|    Azamara|  6|30.276999999999997|      6.94|  5.94|  3.55|            42.64|3.55|             16.0|\n",
            "|Celebration|   Carnival| 26|            47.262|     14.86|  7.22|  7.43|             31.8| 6.7|              1.0|\n",
            "|   Conquest|   Carnival| 11|             110.0|     29.74|  9.53| 14.88|            36.99|19.1|              1.0|\n",
            "|    Destiny|   Carnival| 17|           101.353|     26.42|  8.92| 13.21|            38.36|10.0|              1.0|\n",
            "|    Ecstasy|   Carnival| 22|            70.367|     20.52|  8.55|  10.2|            34.29| 9.2|              1.0|\n",
            "|    Elation|   Carnival| 15|            70.367|     20.52|  8.55|  10.2|            34.29| 9.2|              1.0|\n",
            "|    Fantasy|   Carnival| 23|            70.367|     20.56|  8.55| 10.22|            34.23| 9.2|              1.0|\n",
            "|Fascination|   Carnival| 19|            70.367|     20.52|  8.55|  10.2|            34.29| 9.2|              1.0|\n",
            "|    Freedom|   Carnival|  6|110.23899999999999|      37.0|  9.51| 14.87|            29.79|11.5|              1.0|\n",
            "+-----------+-----------+---+------------------+----------+------+------+-----------------+----+-----------------+\n",
            "only showing top 10 rows\n",
            "\n"
          ]
        }
      ]
    },
    {
      "cell_type": "code",
      "source": [
        "df_indexed.select('Cruise_line', 'Cruise_line_index').distinct().show()"
      ],
      "metadata": {
        "colab": {
          "base_uri": "https://localhost:8080/"
        },
        "id": "LP7NwWi7oB42",
        "outputId": "013f2b28-a2cd-49d1-f2f8-af997ea4347a"
      },
      "execution_count": null,
      "outputs": [
        {
          "output_type": "stream",
          "name": "stdout",
          "text": [
            "+-----------------+-----------------+\n",
            "|      Cruise_line|Cruise_line_index|\n",
            "+-----------------+-----------------+\n",
            "|            Costa|              5.0|\n",
            "|        Norwegian|              4.0|\n",
            "|              MSC|              7.0|\n",
            "|           Orient|             19.0|\n",
            "|Regent_Seven_Seas|             10.0|\n",
            "|           Disney|             18.0|\n",
            "|         Windstar|             15.0|\n",
            "|              P&O|              8.0|\n",
            "|  Royal_Caribbean|              0.0|\n",
            "|         Seabourn|             14.0|\n",
            "|             Star|              9.0|\n",
            "|         Princess|              2.0|\n",
            "|          Oceania|             13.0|\n",
            "|          Azamara|             16.0|\n",
            "| Holland_American|              3.0|\n",
            "|           Cunard|             12.0|\n",
            "|        Celebrity|              6.0|\n",
            "|        Silversea|             11.0|\n",
            "|          Crystal|             17.0|\n",
            "|         Carnival|              1.0|\n",
            "+-----------------+-----------------+\n",
            "\n"
          ]
        }
      ]
    },
    {
      "cell_type": "code",
      "source": [
        "df_indexed.groupby(\"Cruise_line\").count().show()"
      ],
      "metadata": {
        "colab": {
          "base_uri": "https://localhost:8080/"
        },
        "id": "6TxcbDKEoxJ8",
        "outputId": "08af521e-99c9-4341-e651-79e83cb7d1a8"
      },
      "execution_count": null,
      "outputs": [
        {
          "output_type": "stream",
          "name": "stdout",
          "text": [
            "+-----------------+-----+\n",
            "|      Cruise_line|count|\n",
            "+-----------------+-----+\n",
            "|            Costa|   11|\n",
            "|              P&O|    6|\n",
            "|           Cunard|    3|\n",
            "|Regent_Seven_Seas|    5|\n",
            "|              MSC|    8|\n",
            "|         Carnival|   22|\n",
            "|          Crystal|    2|\n",
            "|           Orient|    1|\n",
            "|         Princess|   17|\n",
            "|        Silversea|    4|\n",
            "|         Seabourn|    3|\n",
            "| Holland_American|   14|\n",
            "|         Windstar|    3|\n",
            "|           Disney|    2|\n",
            "|        Norwegian|   13|\n",
            "|          Oceania|    3|\n",
            "|          Azamara|    2|\n",
            "|        Celebrity|   10|\n",
            "|             Star|    6|\n",
            "|  Royal_Caribbean|   23|\n",
            "+-----------------+-----+\n",
            "\n"
          ]
        }
      ]
    },
    {
      "cell_type": "code",
      "source": [
        "df_indexed.columns"
      ],
      "metadata": {
        "colab": {
          "base_uri": "https://localhost:8080/"
        },
        "id": "V1fFLmiHpbr1",
        "outputId": "9f996f56-c6b4-4235-af4f-62438c8bfe2a"
      },
      "execution_count": null,
      "outputs": [
        {
          "output_type": "execute_result",
          "data": {
            "text/plain": [
              "['Ship_name',\n",
              " 'Cruise_line',\n",
              " 'Age',\n",
              " 'Tonnage',\n",
              " 'passengers',\n",
              " 'length',\n",
              " 'cabins',\n",
              " 'passenger_density',\n",
              " 'crew',\n",
              " 'Cruise_line_index']"
            ]
          },
          "metadata": {},
          "execution_count": 86
        }
      ]
    },
    {
      "cell_type": "code",
      "source": [
        "from pyspark.ml.feature import VectorAssembler\n",
        "\n",
        "assembler = VectorAssembler(inputCols = ['Age',\n",
        " 'Tonnage',\n",
        " 'passengers',\n",
        " 'length',\n",
        " 'cabins',\n",
        " 'passenger_density',\n",
        " 'Cruise_line_index'], outputCol = 'features')\n",
        "\n",
        "output = assembler.transform(df_indexed)"
      ],
      "metadata": {
        "id": "-jHPwiFipGLH"
      },
      "execution_count": null,
      "outputs": []
    },
    {
      "cell_type": "code",
      "source": [
        "output.show()"
      ],
      "metadata": {
        "colab": {
          "base_uri": "https://localhost:8080/"
        },
        "id": "gHKjPu-opv5K",
        "outputId": "1a208ebe-6e5f-419f-8681-dad1e0130571"
      },
      "execution_count": null,
      "outputs": [
        {
          "output_type": "stream",
          "name": "stdout",
          "text": [
            "+-----------+-----------+---+------------------+----------+------+------+-----------------+----+-----------------+--------------------+\n",
            "|  Ship_name|Cruise_line|Age|           Tonnage|passengers|length|cabins|passenger_density|crew|Cruise_line_index|            features|\n",
            "+-----------+-----------+---+------------------+----------+------+------+-----------------+----+-----------------+--------------------+\n",
            "|    Journey|    Azamara|  6|30.276999999999997|      6.94|  5.94|  3.55|            42.64|3.55|             16.0|[6.0,30.276999999...|\n",
            "|      Quest|    Azamara|  6|30.276999999999997|      6.94|  5.94|  3.55|            42.64|3.55|             16.0|[6.0,30.276999999...|\n",
            "|Celebration|   Carnival| 26|            47.262|     14.86|  7.22|  7.43|             31.8| 6.7|              1.0|[26.0,47.262,14.8...|\n",
            "|   Conquest|   Carnival| 11|             110.0|     29.74|  9.53| 14.88|            36.99|19.1|              1.0|[11.0,110.0,29.74...|\n",
            "|    Destiny|   Carnival| 17|           101.353|     26.42|  8.92| 13.21|            38.36|10.0|              1.0|[17.0,101.353,26....|\n",
            "|    Ecstasy|   Carnival| 22|            70.367|     20.52|  8.55|  10.2|            34.29| 9.2|              1.0|[22.0,70.367,20.5...|\n",
            "|    Elation|   Carnival| 15|            70.367|     20.52|  8.55|  10.2|            34.29| 9.2|              1.0|[15.0,70.367,20.5...|\n",
            "|    Fantasy|   Carnival| 23|            70.367|     20.56|  8.55| 10.22|            34.23| 9.2|              1.0|[23.0,70.367,20.5...|\n",
            "|Fascination|   Carnival| 19|            70.367|     20.52|  8.55|  10.2|            34.29| 9.2|              1.0|[19.0,70.367,20.5...|\n",
            "|    Freedom|   Carnival|  6|110.23899999999999|      37.0|  9.51| 14.87|            29.79|11.5|              1.0|[6.0,110.23899999...|\n",
            "|      Glory|   Carnival| 10|             110.0|     29.74|  9.51| 14.87|            36.99|11.6|              1.0|[10.0,110.0,29.74...|\n",
            "|    Holiday|   Carnival| 28|            46.052|     14.52|  7.27|  7.26|            31.72| 6.6|              1.0|[28.0,46.052,14.5...|\n",
            "|Imagination|   Carnival| 18|            70.367|     20.52|  8.55|  10.2|            34.29| 9.2|              1.0|[18.0,70.367,20.5...|\n",
            "|Inspiration|   Carnival| 17|            70.367|     20.52|  8.55|  10.2|            34.29| 9.2|              1.0|[17.0,70.367,20.5...|\n",
            "|     Legend|   Carnival| 11|              86.0|     21.24|  9.63| 10.62|            40.49| 9.3|              1.0|[11.0,86.0,21.24,...|\n",
            "|   Liberty*|   Carnival|  8|             110.0|     29.74|  9.51| 14.87|            36.99|11.6|              1.0|[8.0,110.0,29.74,...|\n",
            "|    Miracle|   Carnival|  9|              88.5|     21.24|  9.63| 10.62|            41.67|10.3|              1.0|[9.0,88.5,21.24,9...|\n",
            "|   Paradise|   Carnival| 15|            70.367|     20.52|  8.55|  10.2|            34.29| 9.2|              1.0|[15.0,70.367,20.5...|\n",
            "|      Pride|   Carnival| 12|              88.5|     21.24|  9.63| 11.62|            41.67| 9.3|              1.0|[12.0,88.5,21.24,...|\n",
            "|  Sensation|   Carnival| 20|            70.367|     20.52|  8.55|  10.2|            34.29| 9.2|              1.0|[20.0,70.367,20.5...|\n",
            "+-----------+-----------+---+------------------+----------+------+------+-----------------+----+-----------------+--------------------+\n",
            "only showing top 20 rows\n",
            "\n"
          ]
        }
      ]
    },
    {
      "cell_type": "code",
      "source": [
        "train_data , test_data = output.randomSplit([.8,.2])\n",
        "train_data.describe().show()"
      ],
      "metadata": {
        "colab": {
          "base_uri": "https://localhost:8080/"
        },
        "id": "3ALQSbZgqJ9s",
        "outputId": "1e663269-a5a1-45aa-9836-ada0df010a94"
      },
      "execution_count": null,
      "outputs": [
        {
          "output_type": "stream",
          "name": "stdout",
          "text": [
            "+-------+---------+-----------+-----------------+-----------------+------------------+------------------+-----------------+-----------------+-----------------+-----------------+\n",
            "|summary|Ship_name|Cruise_line|              Age|          Tonnage|        passengers|            length|           cabins|passenger_density|             crew|Cruise_line_index|\n",
            "+-------+---------+-----------+-----------------+-----------------+------------------+------------------+-----------------+-----------------+-----------------+-----------------+\n",
            "|  count|      125|        125|              125|              125|               125|               125|              125|              125|              125|              125|\n",
            "|   mean|     NULL|       NULL|           16.024|71.55742400000001|18.649600000000007| 8.135919999999997|8.913360000000004|         39.62568|7.772080000000005|             5.04|\n",
            "| stddev|     NULL|       NULL|8.028642274643552|38.48742195882334|10.047567704384653|1.8111180364447494|4.614264339366393| 8.71071969694294|3.467392414313486|4.696257947523477|\n",
            "|    min|Adventure|   Carnival|                4|            2.329|              0.66|              2.79|             0.33|             17.7|             0.59|              0.0|\n",
            "|    max|Zuiderdam|   Windstar|               48|            220.0|              54.0|             11.82|             27.0|            71.43|             21.0|             19.0|\n",
            "+-------+---------+-----------+-----------------+-----------------+------------------+------------------+-----------------+-----------------+-----------------+-----------------+\n",
            "\n"
          ]
        }
      ]
    },
    {
      "cell_type": "code",
      "source": [
        "from pyspark.ml.regression import LinearRegression\n",
        "crew_req = LinearRegression(featuresCol= 'features', labelCol = 'crew')\n",
        "\n",
        "model = crew_req.fit(train_data)\n",
        "\n"
      ],
      "metadata": {
        "id": "0uctYHX0rBXz"
      },
      "execution_count": null,
      "outputs": []
    },
    {
      "cell_type": "code",
      "source": [
        "result = model.evaluate(train_data)"
      ],
      "metadata": {
        "id": "M8du67UcrfgN"
      },
      "execution_count": null,
      "outputs": []
    },
    {
      "cell_type": "code",
      "source": [
        "result.r2"
      ],
      "metadata": {
        "colab": {
          "base_uri": "https://localhost:8080/"
        },
        "id": "CUGTwV9frmWY",
        "outputId": "4908c336-747e-4db3-d984-8e42710503f8"
      },
      "execution_count": null,
      "outputs": [
        {
          "output_type": "execute_result",
          "data": {
            "text/plain": [
              "0.9498470837158337"
            ]
          },
          "metadata": {},
          "execution_count": 92
        }
      ]
    },
    {
      "cell_type": "code",
      "source": [
        "pred = model.transform(test_data)"
      ],
      "metadata": {
        "id": "yDO2jPM1rz6I"
      },
      "execution_count": null,
      "outputs": []
    },
    {
      "cell_type": "code",
      "source": [
        "result_test = model.evaluate(test_data)"
      ],
      "metadata": {
        "id": "jr2ZmjbrsJvJ"
      },
      "execution_count": null,
      "outputs": []
    },
    {
      "cell_type": "code",
      "source": [
        "result_test.r2"
      ],
      "metadata": {
        "colab": {
          "base_uri": "https://localhost:8080/"
        },
        "id": "gHx8qtiEsMlc",
        "outputId": "61da4743-c8ac-4a8b-9590-7b49ba3c1c90"
      },
      "execution_count": null,
      "outputs": [
        {
          "output_type": "execute_result",
          "data": {
            "text/plain": [
              "0.8410521293456138"
            ]
          },
          "metadata": {},
          "execution_count": 95
        }
      ]
    },
    {
      "cell_type": "code",
      "source": [
        "pred.show()"
      ],
      "metadata": {
        "colab": {
          "base_uri": "https://localhost:8080/"
        },
        "id": "d6oefK5QsAKk",
        "outputId": "78e8488c-3b7c-4515-fb27-7e0eec9d428f"
      },
      "execution_count": null,
      "outputs": [
        {
          "output_type": "stream",
          "name": "stdout",
          "text": [
            "+------------+-----------------+---+------------------+----------+------+------+-----------------+-----+-----------------+--------------------+------------------+\n",
            "|   Ship_name|      Cruise_line|Age|           Tonnage|passengers|length|cabins|passenger_density| crew|Cruise_line_index|            features|        prediction|\n",
            "+------------+-----------------+---+------------------+----------+------+------+-----------------+-----+-----------------+--------------------+------------------+\n",
            "|   Caribbean|         Princess|  9|             116.0|      26.0|  9.51|  13.0|            44.62| 11.0|              2.0|[9.0,116.0,26.0,9...| 10.93086351574195|\n",
            "|    Conquest|         Carnival| 11|             110.0|     29.74|  9.53| 14.88|            36.99| 19.1|              1.0|[11.0,110.0,29.74...| 11.81333995623822|\n",
            "|        Dawn|        Norwegian| 11|              90.0|      22.4|  9.65|  11.2|            40.18| 11.0|              4.0|[11.0,90.0,22.4,9...| 9.946650129430145|\n",
            "|        Dawn|         Princess| 16|            77.499|      19.5|  8.56|  10.5|            39.74|  9.0|              2.0|[16.0,77.499,19.5...| 8.923438251353462|\n",
            "|     Destiny|         Carnival| 17|           101.353|     26.42|  8.92| 13.21|            38.36| 10.0|              1.0|[17.0,101.353,26....|10.472582880519225|\n",
            "|     Diamond|         Princess|  9|             113.0|     26.74|  9.51| 13.37|            42.26|12.38|              2.0|[9.0,113.0,26.74,...|11.109891832199956|\n",
            "|       Dream|        Norwegian| 21|             50.76|     17.48|  7.54|  8.74|            29.04| 6.14|              4.0|[21.0,50.76,17.48...| 7.224762347820102|\n",
            "|     Ecstasy|         Carnival| 22|            70.367|     20.52|  8.55|  10.2|            34.29|  9.2|              1.0|[22.0,70.367,20.5...|  8.37974355395482|\n",
            "|     Elation|         Carnival| 15|            70.367|     20.52|  8.55|  10.2|            34.29|  9.2|              1.0|[15.0,70.367,20.5...| 8.492177336578804|\n",
            "|  ExplorerII|Regent_Seven_Seas| 27|              12.5|      3.94|  4.36|  0.88|            31.73| 1.46|             10.0|[27.0,12.5,3.94,4...|1.3200862705281649|\n",
            "|    Infinity|        Celebrity| 12|              91.0|     20.32|  9.65|  9.75|            44.78| 9.99|              6.0|[12.0,91.0,20.32,...| 9.192554118426823|\n",
            "|     Journey|          Azamara|  6|30.276999999999997|      6.94|  5.94|  3.55|            42.64| 3.55|             16.0|[6.0,30.276999999...| 4.545910739754975|\n",
            "|      Legend|  Royal_Caribbean| 18|              70.0|      18.0|  8.67|   9.0|            38.89|  7.2|              0.0|[18.0,70.0,18.0,8...| 7.793765921316849|\n",
            "|     Majesty|        Norwegian| 21|              38.0|     10.56|  5.67|  5.28|            35.98| 4.38|              4.0|[21.0,38.0,10.56,...| 4.389031078119109|\n",
            "|Mediterranea|            Costa| 10|              86.0|     21.14|   9.6| 10.56|            40.68|  9.2|              5.0|[10.0,86.0,21.14,...| 9.629562051504939|\n",
            "|   Millenium|        Celebrity| 13|              91.0|     20.32|  9.65|  9.75|            44.78| 9.99|              6.0|[13.0,91.0,20.32,...|  9.17649214948054|\n",
            "|     Miracle|         Carnival|  9|              88.5|     21.24|  9.63| 10.62|            41.67| 10.3|              1.0|[9.0,88.5,21.24,9...| 9.449302126564739|\n",
            "|     Pacific|         Princess| 14|30.276999999999997|      6.86|  5.93|  3.44|            44.14| 3.73|              2.0|[14.0,30.27699999...| 3.416573527602293|\n",
            "| PaulGauguin|Regent_Seven_Seas| 16|              19.2|       3.2|  5.13|   1.6|             60.0| 2.11|             10.0|[16.0,19.2,3.2,5....|2.3694469260788207|\n",
            "|      Pisces|             Star| 24|40.053000000000004|     12.87|  5.79|  7.76|            31.12|  7.5|              9.0|[24.0,40.05300000...| 6.370858867341727|\n",
            "+------------+-----------------+---+------------------+----------+------+------+-----------------+-----+-----------------+--------------------+------------------+\n",
            "only showing top 20 rows\n",
            "\n"
          ]
        }
      ]
    },
    {
      "cell_type": "code",
      "source": [],
      "metadata": {
        "id": "PgYT6fXJoQ9t"
      },
      "execution_count": null,
      "outputs": []
    },
    {
      "cell_type": "markdown",
      "source": [],
      "metadata": {
        "id": "GDPsGZP7oSM1"
      }
    },
    {
      "cell_type": "code",
      "source": [
        "pip install ucimlrepo"
      ],
      "metadata": {
        "colab": {
          "base_uri": "https://localhost:8080/"
        },
        "id": "IJ0NdeI6ziXs",
        "outputId": "1246008e-70d0-4cac-9036-8871b009ef9a"
      },
      "execution_count": null,
      "outputs": [
        {
          "output_type": "stream",
          "name": "stdout",
          "text": [
            "Requirement already satisfied: ucimlrepo in /usr/local/lib/python3.10/dist-packages (0.0.3)\n"
          ]
        }
      ]
    },
    {
      "cell_type": "code",
      "source": [
        "from ucimlrepo import fetch_ucirepo\n",
        "\n",
        "# fetch dataset\n",
        "adult = fetch_ucirepo(id=2)\n",
        "\n",
        "# data (as pandas dataframes)\n",
        "X = adult.data.features\n",
        "y = adult.data.targets\n",
        "\n",
        "# metadata\n",
        "print(adult.metadata)\n",
        "\n",
        "# variable information\n",
        "print(adult.variables)\n"
      ],
      "metadata": {
        "colab": {
          "base_uri": "https://localhost:8080/"
        },
        "id": "fsVcfyDu0wST",
        "outputId": "78207857-79f7-4ad9-90ab-c0e74b64e3a3"
      },
      "execution_count": null,
      "outputs": [
        {
          "output_type": "stream",
          "name": "stdout",
          "text": [
            "{'uci_id': 2, 'name': 'Adult', 'repository_url': 'https://archive.ics.uci.edu/dataset/2/adult', 'data_url': 'https://archive.ics.uci.edu/static/public/2/data.csv', 'abstract': 'Predict whether income exceeds $50K/yr based on census data. Also known as \"Census Income\" dataset. ', 'area': 'Social Science', 'tasks': ['Classification'], 'characteristics': ['Multivariate'], 'num_instances': 48842, 'num_features': 14, 'feature_types': ['Categorical', 'Integer'], 'demographics': ['Age', 'Income', 'Education Level', 'Other', 'Race', 'Sex'], 'target_col': ['income'], 'index_col': None, 'has_missing_values': 'yes', 'missing_values_symbol': 'NaN', 'year_of_dataset_creation': 1996, 'last_updated': 'Mon Aug 07 2023', 'dataset_doi': '10.24432/C5XW20', 'creators': ['Barry Becker', 'Ronny Kohavi'], 'intro_paper': None, 'additional_info': {'summary': 'Extraction was done by Barry Becker from the 1994 Census database.  A set of reasonably clean records was extracted using the following conditions: ((AAGE>16) && (AGI>100) && (AFNLWGT>1)&& (HRSWK>0))\\r\\n\\r\\nPrediction task is to determine whether a person makes over 50K a year.\\r\\n', 'purpose': None, 'funded_by': None, 'instances_represent': None, 'recommended_data_splits': None, 'sensitive_data': None, 'preprocessing_description': None, 'variable_info': 'Listing of attributes:\\r\\n\\r\\n>50K, <=50K.\\r\\n\\r\\nage: continuous.\\r\\nworkclass: Private, Self-emp-not-inc, Self-emp-inc, Federal-gov, Local-gov, State-gov, Without-pay, Never-worked.\\r\\nfnlwgt: continuous.\\r\\neducation: Bachelors, Some-college, 11th, HS-grad, Prof-school, Assoc-acdm, Assoc-voc, 9th, 7th-8th, 12th, Masters, 1st-4th, 10th, Doctorate, 5th-6th, Preschool.\\r\\neducation-num: continuous.\\r\\nmarital-status: Married-civ-spouse, Divorced, Never-married, Separated, Widowed, Married-spouse-absent, Married-AF-spouse.\\r\\noccupation: Tech-support, Craft-repair, Other-service, Sales, Exec-managerial, Prof-specialty, Handlers-cleaners, Machine-op-inspct, Adm-clerical, Farming-fishing, Transport-moving, Priv-house-serv, Protective-serv, Armed-Forces.\\r\\nrelationship: Wife, Own-child, Husband, Not-in-family, Other-relative, Unmarried.\\r\\nrace: White, Asian-Pac-Islander, Amer-Indian-Eskimo, Other, Black.\\r\\nsex: Female, Male.\\r\\ncapital-gain: continuous.\\r\\ncapital-loss: continuous.\\r\\nhours-per-week: continuous.\\r\\nnative-country: United-States, Cambodia, England, Puerto-Rico, Canada, Germany, Outlying-US(Guam-USVI-etc), India, Japan, Greece, South, China, Cuba, Iran, Honduras, Philippines, Italy, Poland, Jamaica, Vietnam, Mexico, Portugal, Ireland, France, Dominican-Republic, Laos, Ecuador, Taiwan, Haiti, Columbia, Hungary, Guatemala, Nicaragua, Scotland, Thailand, Yugoslavia, El-Salvador, Trinadad&Tobago, Peru, Hong, Holand-Netherlands.', 'citation': None}}\n",
            "              name     role         type      demographic  \\\n",
            "0              age  Feature      Integer              Age   \n",
            "1        workclass  Feature  Categorical           Income   \n",
            "2           fnlwgt  Feature      Integer             None   \n",
            "3        education  Feature  Categorical  Education Level   \n",
            "4    education-num  Feature      Integer  Education Level   \n",
            "5   marital-status  Feature  Categorical            Other   \n",
            "6       occupation  Feature  Categorical            Other   \n",
            "7     relationship  Feature  Categorical            Other   \n",
            "8             race  Feature  Categorical             Race   \n",
            "9              sex  Feature       Binary              Sex   \n",
            "10    capital-gain  Feature      Integer             None   \n",
            "11    capital-loss  Feature      Integer             None   \n",
            "12  hours-per-week  Feature      Integer             None   \n",
            "13  native-country  Feature  Categorical            Other   \n",
            "14          income   Target       Binary           Income   \n",
            "\n",
            "                                          description units missing_values  \n",
            "0                                                 N/A  None             no  \n",
            "1   Private, Self-emp-not-inc, Self-emp-inc, Feder...  None            yes  \n",
            "2                                                None  None             no  \n",
            "3    Bachelors, Some-college, 11th, HS-grad, Prof-...  None             no  \n",
            "4                                                None  None             no  \n",
            "5   Married-civ-spouse, Divorced, Never-married, S...  None             no  \n",
            "6   Tech-support, Craft-repair, Other-service, Sal...  None            yes  \n",
            "7   Wife, Own-child, Husband, Not-in-family, Other...  None             no  \n",
            "8   White, Asian-Pac-Islander, Amer-Indian-Eskimo,...  None             no  \n",
            "9                                       Female, Male.  None             no  \n",
            "10                                               None  None             no  \n",
            "11                                               None  None             no  \n",
            "12                                               None  None             no  \n",
            "13  United-States, Cambodia, England, Puerto-Rico,...  None            yes  \n",
            "14                                       >50K, <=50K.  None             no  \n"
          ]
        }
      ]
    },
    {
      "cell_type": "code",
      "source": [
        "X.head()"
      ],
      "metadata": {
        "colab": {
          "base_uri": "https://localhost:8080/",
          "height": 293
        },
        "id": "4TPTtb4L0zjN",
        "outputId": "69311e33-f334-43f5-8d8c-d8d2b1d12d39"
      },
      "execution_count": null,
      "outputs": [
        {
          "output_type": "execute_result",
          "data": {
            "text/plain": [
              "   age         workclass  fnlwgt  education  education-num  \\\n",
              "0   39         State-gov   77516  Bachelors             13   \n",
              "1   50  Self-emp-not-inc   83311  Bachelors             13   \n",
              "2   38           Private  215646    HS-grad              9   \n",
              "3   53           Private  234721       11th              7   \n",
              "4   28           Private  338409  Bachelors             13   \n",
              "\n",
              "       marital-status         occupation   relationship   race     sex  \\\n",
              "0       Never-married       Adm-clerical  Not-in-family  White    Male   \n",
              "1  Married-civ-spouse    Exec-managerial        Husband  White    Male   \n",
              "2            Divorced  Handlers-cleaners  Not-in-family  White    Male   \n",
              "3  Married-civ-spouse  Handlers-cleaners        Husband  Black    Male   \n",
              "4  Married-civ-spouse     Prof-specialty           Wife  Black  Female   \n",
              "\n",
              "   capital-gain  capital-loss  hours-per-week native-country  \n",
              "0          2174             0              40  United-States  \n",
              "1             0             0              13  United-States  \n",
              "2             0             0              40  United-States  \n",
              "3             0             0              40  United-States  \n",
              "4             0             0              40           Cuba  "
            ],
            "text/html": [
              "\n",
              "  <div id=\"df-51969533-35b3-437a-bb5a-af9a8d7dfa67\" class=\"colab-df-container\">\n",
              "    <div>\n",
              "<style scoped>\n",
              "    .dataframe tbody tr th:only-of-type {\n",
              "        vertical-align: middle;\n",
              "    }\n",
              "\n",
              "    .dataframe tbody tr th {\n",
              "        vertical-align: top;\n",
              "    }\n",
              "\n",
              "    .dataframe thead th {\n",
              "        text-align: right;\n",
              "    }\n",
              "</style>\n",
              "<table border=\"1\" class=\"dataframe\">\n",
              "  <thead>\n",
              "    <tr style=\"text-align: right;\">\n",
              "      <th></th>\n",
              "      <th>age</th>\n",
              "      <th>workclass</th>\n",
              "      <th>fnlwgt</th>\n",
              "      <th>education</th>\n",
              "      <th>education-num</th>\n",
              "      <th>marital-status</th>\n",
              "      <th>occupation</th>\n",
              "      <th>relationship</th>\n",
              "      <th>race</th>\n",
              "      <th>sex</th>\n",
              "      <th>capital-gain</th>\n",
              "      <th>capital-loss</th>\n",
              "      <th>hours-per-week</th>\n",
              "      <th>native-country</th>\n",
              "    </tr>\n",
              "  </thead>\n",
              "  <tbody>\n",
              "    <tr>\n",
              "      <th>0</th>\n",
              "      <td>39</td>\n",
              "      <td>State-gov</td>\n",
              "      <td>77516</td>\n",
              "      <td>Bachelors</td>\n",
              "      <td>13</td>\n",
              "      <td>Never-married</td>\n",
              "      <td>Adm-clerical</td>\n",
              "      <td>Not-in-family</td>\n",
              "      <td>White</td>\n",
              "      <td>Male</td>\n",
              "      <td>2174</td>\n",
              "      <td>0</td>\n",
              "      <td>40</td>\n",
              "      <td>United-States</td>\n",
              "    </tr>\n",
              "    <tr>\n",
              "      <th>1</th>\n",
              "      <td>50</td>\n",
              "      <td>Self-emp-not-inc</td>\n",
              "      <td>83311</td>\n",
              "      <td>Bachelors</td>\n",
              "      <td>13</td>\n",
              "      <td>Married-civ-spouse</td>\n",
              "      <td>Exec-managerial</td>\n",
              "      <td>Husband</td>\n",
              "      <td>White</td>\n",
              "      <td>Male</td>\n",
              "      <td>0</td>\n",
              "      <td>0</td>\n",
              "      <td>13</td>\n",
              "      <td>United-States</td>\n",
              "    </tr>\n",
              "    <tr>\n",
              "      <th>2</th>\n",
              "      <td>38</td>\n",
              "      <td>Private</td>\n",
              "      <td>215646</td>\n",
              "      <td>HS-grad</td>\n",
              "      <td>9</td>\n",
              "      <td>Divorced</td>\n",
              "      <td>Handlers-cleaners</td>\n",
              "      <td>Not-in-family</td>\n",
              "      <td>White</td>\n",
              "      <td>Male</td>\n",
              "      <td>0</td>\n",
              "      <td>0</td>\n",
              "      <td>40</td>\n",
              "      <td>United-States</td>\n",
              "    </tr>\n",
              "    <tr>\n",
              "      <th>3</th>\n",
              "      <td>53</td>\n",
              "      <td>Private</td>\n",
              "      <td>234721</td>\n",
              "      <td>11th</td>\n",
              "      <td>7</td>\n",
              "      <td>Married-civ-spouse</td>\n",
              "      <td>Handlers-cleaners</td>\n",
              "      <td>Husband</td>\n",
              "      <td>Black</td>\n",
              "      <td>Male</td>\n",
              "      <td>0</td>\n",
              "      <td>0</td>\n",
              "      <td>40</td>\n",
              "      <td>United-States</td>\n",
              "    </tr>\n",
              "    <tr>\n",
              "      <th>4</th>\n",
              "      <td>28</td>\n",
              "      <td>Private</td>\n",
              "      <td>338409</td>\n",
              "      <td>Bachelors</td>\n",
              "      <td>13</td>\n",
              "      <td>Married-civ-spouse</td>\n",
              "      <td>Prof-specialty</td>\n",
              "      <td>Wife</td>\n",
              "      <td>Black</td>\n",
              "      <td>Female</td>\n",
              "      <td>0</td>\n",
              "      <td>0</td>\n",
              "      <td>40</td>\n",
              "      <td>Cuba</td>\n",
              "    </tr>\n",
              "  </tbody>\n",
              "</table>\n",
              "</div>\n",
              "    <div class=\"colab-df-buttons\">\n",
              "\n",
              "  <div class=\"colab-df-container\">\n",
              "    <button class=\"colab-df-convert\" onclick=\"convertToInteractive('df-51969533-35b3-437a-bb5a-af9a8d7dfa67')\"\n",
              "            title=\"Convert this dataframe to an interactive table.\"\n",
              "            style=\"display:none;\">\n",
              "\n",
              "  <svg xmlns=\"http://www.w3.org/2000/svg\" height=\"24px\" viewBox=\"0 -960 960 960\">\n",
              "    <path d=\"M120-120v-720h720v720H120Zm60-500h600v-160H180v160Zm220 220h160v-160H400v160Zm0 220h160v-160H400v160ZM180-400h160v-160H180v160Zm440 0h160v-160H620v160ZM180-180h160v-160H180v160Zm440 0h160v-160H620v160Z\"/>\n",
              "  </svg>\n",
              "    </button>\n",
              "\n",
              "  <style>\n",
              "    .colab-df-container {\n",
              "      display:flex;\n",
              "      gap: 12px;\n",
              "    }\n",
              "\n",
              "    .colab-df-convert {\n",
              "      background-color: #E8F0FE;\n",
              "      border: none;\n",
              "      border-radius: 50%;\n",
              "      cursor: pointer;\n",
              "      display: none;\n",
              "      fill: #1967D2;\n",
              "      height: 32px;\n",
              "      padding: 0 0 0 0;\n",
              "      width: 32px;\n",
              "    }\n",
              "\n",
              "    .colab-df-convert:hover {\n",
              "      background-color: #E2EBFA;\n",
              "      box-shadow: 0px 1px 2px rgba(60, 64, 67, 0.3), 0px 1px 3px 1px rgba(60, 64, 67, 0.15);\n",
              "      fill: #174EA6;\n",
              "    }\n",
              "\n",
              "    .colab-df-buttons div {\n",
              "      margin-bottom: 4px;\n",
              "    }\n",
              "\n",
              "    [theme=dark] .colab-df-convert {\n",
              "      background-color: #3B4455;\n",
              "      fill: #D2E3FC;\n",
              "    }\n",
              "\n",
              "    [theme=dark] .colab-df-convert:hover {\n",
              "      background-color: #434B5C;\n",
              "      box-shadow: 0px 1px 3px 1px rgba(0, 0, 0, 0.15);\n",
              "      filter: drop-shadow(0px 1px 2px rgba(0, 0, 0, 0.3));\n",
              "      fill: #FFFFFF;\n",
              "    }\n",
              "  </style>\n",
              "\n",
              "    <script>\n",
              "      const buttonEl =\n",
              "        document.querySelector('#df-51969533-35b3-437a-bb5a-af9a8d7dfa67 button.colab-df-convert');\n",
              "      buttonEl.style.display =\n",
              "        google.colab.kernel.accessAllowed ? 'block' : 'none';\n",
              "\n",
              "      async function convertToInteractive(key) {\n",
              "        const element = document.querySelector('#df-51969533-35b3-437a-bb5a-af9a8d7dfa67');\n",
              "        const dataTable =\n",
              "          await google.colab.kernel.invokeFunction('convertToInteractive',\n",
              "                                                    [key], {});\n",
              "        if (!dataTable) return;\n",
              "\n",
              "        const docLinkHtml = 'Like what you see? Visit the ' +\n",
              "          '<a target=\"_blank\" href=https://colab.research.google.com/notebooks/data_table.ipynb>data table notebook</a>'\n",
              "          + ' to learn more about interactive tables.';\n",
              "        element.innerHTML = '';\n",
              "        dataTable['output_type'] = 'display_data';\n",
              "        await google.colab.output.renderOutput(dataTable, element);\n",
              "        const docLink = document.createElement('div');\n",
              "        docLink.innerHTML = docLinkHtml;\n",
              "        element.appendChild(docLink);\n",
              "      }\n",
              "    </script>\n",
              "  </div>\n",
              "\n",
              "\n",
              "<div id=\"df-18bc8d3e-a5aa-4bfc-81d9-39456446b798\">\n",
              "  <button class=\"colab-df-quickchart\" onclick=\"quickchart('df-18bc8d3e-a5aa-4bfc-81d9-39456446b798')\"\n",
              "            title=\"Suggest charts\"\n",
              "            style=\"display:none;\">\n",
              "\n",
              "<svg xmlns=\"http://www.w3.org/2000/svg\" height=\"24px\"viewBox=\"0 0 24 24\"\n",
              "     width=\"24px\">\n",
              "    <g>\n",
              "        <path d=\"M19 3H5c-1.1 0-2 .9-2 2v14c0 1.1.9 2 2 2h14c1.1 0 2-.9 2-2V5c0-1.1-.9-2-2-2zM9 17H7v-7h2v7zm4 0h-2V7h2v10zm4 0h-2v-4h2v4z\"/>\n",
              "    </g>\n",
              "</svg>\n",
              "  </button>\n",
              "\n",
              "<style>\n",
              "  .colab-df-quickchart {\n",
              "      --bg-color: #E8F0FE;\n",
              "      --fill-color: #1967D2;\n",
              "      --hover-bg-color: #E2EBFA;\n",
              "      --hover-fill-color: #174EA6;\n",
              "      --disabled-fill-color: #AAA;\n",
              "      --disabled-bg-color: #DDD;\n",
              "  }\n",
              "\n",
              "  [theme=dark] .colab-df-quickchart {\n",
              "      --bg-color: #3B4455;\n",
              "      --fill-color: #D2E3FC;\n",
              "      --hover-bg-color: #434B5C;\n",
              "      --hover-fill-color: #FFFFFF;\n",
              "      --disabled-bg-color: #3B4455;\n",
              "      --disabled-fill-color: #666;\n",
              "  }\n",
              "\n",
              "  .colab-df-quickchart {\n",
              "    background-color: var(--bg-color);\n",
              "    border: none;\n",
              "    border-radius: 50%;\n",
              "    cursor: pointer;\n",
              "    display: none;\n",
              "    fill: var(--fill-color);\n",
              "    height: 32px;\n",
              "    padding: 0;\n",
              "    width: 32px;\n",
              "  }\n",
              "\n",
              "  .colab-df-quickchart:hover {\n",
              "    background-color: var(--hover-bg-color);\n",
              "    box-shadow: 0 1px 2px rgba(60, 64, 67, 0.3), 0 1px 3px 1px rgba(60, 64, 67, 0.15);\n",
              "    fill: var(--button-hover-fill-color);\n",
              "  }\n",
              "\n",
              "  .colab-df-quickchart-complete:disabled,\n",
              "  .colab-df-quickchart-complete:disabled:hover {\n",
              "    background-color: var(--disabled-bg-color);\n",
              "    fill: var(--disabled-fill-color);\n",
              "    box-shadow: none;\n",
              "  }\n",
              "\n",
              "  .colab-df-spinner {\n",
              "    border: 2px solid var(--fill-color);\n",
              "    border-color: transparent;\n",
              "    border-bottom-color: var(--fill-color);\n",
              "    animation:\n",
              "      spin 1s steps(1) infinite;\n",
              "  }\n",
              "\n",
              "  @keyframes spin {\n",
              "    0% {\n",
              "      border-color: transparent;\n",
              "      border-bottom-color: var(--fill-color);\n",
              "      border-left-color: var(--fill-color);\n",
              "    }\n",
              "    20% {\n",
              "      border-color: transparent;\n",
              "      border-left-color: var(--fill-color);\n",
              "      border-top-color: var(--fill-color);\n",
              "    }\n",
              "    30% {\n",
              "      border-color: transparent;\n",
              "      border-left-color: var(--fill-color);\n",
              "      border-top-color: var(--fill-color);\n",
              "      border-right-color: var(--fill-color);\n",
              "    }\n",
              "    40% {\n",
              "      border-color: transparent;\n",
              "      border-right-color: var(--fill-color);\n",
              "      border-top-color: var(--fill-color);\n",
              "    }\n",
              "    60% {\n",
              "      border-color: transparent;\n",
              "      border-right-color: var(--fill-color);\n",
              "    }\n",
              "    80% {\n",
              "      border-color: transparent;\n",
              "      border-right-color: var(--fill-color);\n",
              "      border-bottom-color: var(--fill-color);\n",
              "    }\n",
              "    90% {\n",
              "      border-color: transparent;\n",
              "      border-bottom-color: var(--fill-color);\n",
              "    }\n",
              "  }\n",
              "</style>\n",
              "\n",
              "  <script>\n",
              "    async function quickchart(key) {\n",
              "      const quickchartButtonEl =\n",
              "        document.querySelector('#' + key + ' button');\n",
              "      quickchartButtonEl.disabled = true;  // To prevent multiple clicks.\n",
              "      quickchartButtonEl.classList.add('colab-df-spinner');\n",
              "      try {\n",
              "        const charts = await google.colab.kernel.invokeFunction(\n",
              "            'suggestCharts', [key], {});\n",
              "      } catch (error) {\n",
              "        console.error('Error during call to suggestCharts:', error);\n",
              "      }\n",
              "      quickchartButtonEl.classList.remove('colab-df-spinner');\n",
              "      quickchartButtonEl.classList.add('colab-df-quickchart-complete');\n",
              "    }\n",
              "    (() => {\n",
              "      let quickchartButtonEl =\n",
              "        document.querySelector('#df-18bc8d3e-a5aa-4bfc-81d9-39456446b798 button');\n",
              "      quickchartButtonEl.style.display =\n",
              "        google.colab.kernel.accessAllowed ? 'block' : 'none';\n",
              "    })();\n",
              "  </script>\n",
              "</div>\n",
              "\n",
              "    </div>\n",
              "  </div>\n"
            ],
            "application/vnd.google.colaboratory.intrinsic+json": {
              "type": "dataframe",
              "variable_name": "X",
              "summary": "{\n  \"name\": \"X\",\n  \"rows\": 48842,\n  \"fields\": [\n    {\n      \"column\": \"age\",\n      \"properties\": {\n        \"dtype\": \"number\",\n        \"std\": 13,\n        \"min\": 17,\n        \"max\": 90,\n        \"samples\": [\n          28,\n          73,\n          35\n        ],\n        \"num_unique_values\": 74,\n        \"semantic_type\": \"\",\n        \"description\": \"\"\n      }\n    },\n    {\n      \"column\": \"workclass\",\n      \"properties\": {\n        \"dtype\": \"category\",\n        \"samples\": [\n          \"Without-pay\",\n          \"Self-emp-not-inc\",\n          \"?\"\n        ],\n        \"num_unique_values\": 9,\n        \"semantic_type\": \"\",\n        \"description\": \"\"\n      }\n    },\n    {\n      \"column\": \"fnlwgt\",\n      \"properties\": {\n        \"dtype\": \"number\",\n        \"std\": 105604,\n        \"min\": 12285,\n        \"max\": 1490400,\n        \"samples\": [\n          159077,\n          199450,\n          181773\n        ],\n        \"num_unique_values\": 28523,\n        \"semantic_type\": \"\",\n        \"description\": \"\"\n      }\n    },\n    {\n      \"column\": \"education\",\n      \"properties\": {\n        \"dtype\": \"category\",\n        \"samples\": [\n          \"Bachelors\",\n          \"HS-grad\",\n          \"Some-college\"\n        ],\n        \"num_unique_values\": 16,\n        \"semantic_type\": \"\",\n        \"description\": \"\"\n      }\n    },\n    {\n      \"column\": \"education-num\",\n      \"properties\": {\n        \"dtype\": \"number\",\n        \"std\": 2,\n        \"min\": 1,\n        \"max\": 16,\n        \"samples\": [\n          13,\n          9,\n          10\n        ],\n        \"num_unique_values\": 16,\n        \"semantic_type\": \"\",\n        \"description\": \"\"\n      }\n    },\n    {\n      \"column\": \"marital-status\",\n      \"properties\": {\n        \"dtype\": \"category\",\n        \"samples\": [\n          \"Never-married\",\n          \"Married-civ-spouse\",\n          \"Married-AF-spouse\"\n        ],\n        \"num_unique_values\": 7,\n        \"semantic_type\": \"\",\n        \"description\": \"\"\n      }\n    },\n    {\n      \"column\": \"occupation\",\n      \"properties\": {\n        \"dtype\": \"category\",\n        \"samples\": [\n          \"Machine-op-inspct\",\n          \"?\",\n          \"Adm-clerical\"\n        ],\n        \"num_unique_values\": 15,\n        \"semantic_type\": \"\",\n        \"description\": \"\"\n      }\n    },\n    {\n      \"column\": \"relationship\",\n      \"properties\": {\n        \"dtype\": \"category\",\n        \"samples\": [\n          \"Not-in-family\",\n          \"Husband\",\n          \"Other-relative\"\n        ],\n        \"num_unique_values\": 6,\n        \"semantic_type\": \"\",\n        \"description\": \"\"\n      }\n    },\n    {\n      \"column\": \"race\",\n      \"properties\": {\n        \"dtype\": \"category\",\n        \"samples\": [\n          \"Black\",\n          \"Other\",\n          \"Asian-Pac-Islander\"\n        ],\n        \"num_unique_values\": 5,\n        \"semantic_type\": \"\",\n        \"description\": \"\"\n      }\n    },\n    {\n      \"column\": \"sex\",\n      \"properties\": {\n        \"dtype\": \"category\",\n        \"samples\": [\n          \"Female\",\n          \"Male\"\n        ],\n        \"num_unique_values\": 2,\n        \"semantic_type\": \"\",\n        \"description\": \"\"\n      }\n    },\n    {\n      \"column\": \"capital-gain\",\n      \"properties\": {\n        \"dtype\": \"number\",\n        \"std\": 7452,\n        \"min\": 0,\n        \"max\": 99999,\n        \"samples\": [\n          2176,\n          10520\n        ],\n        \"num_unique_values\": 123,\n        \"semantic_type\": \"\",\n        \"description\": \"\"\n      }\n    },\n    {\n      \"column\": \"capital-loss\",\n      \"properties\": {\n        \"dtype\": \"number\",\n        \"std\": 403,\n        \"min\": 0,\n        \"max\": 4356,\n        \"samples\": [\n          1974,\n          419\n        ],\n        \"num_unique_values\": 99,\n        \"semantic_type\": \"\",\n        \"description\": \"\"\n      }\n    },\n    {\n      \"column\": \"hours-per-week\",\n      \"properties\": {\n        \"dtype\": \"number\",\n        \"std\": 12,\n        \"min\": 1,\n        \"max\": 99,\n        \"samples\": [\n          97,\n          88\n        ],\n        \"num_unique_values\": 96,\n        \"semantic_type\": \"\",\n        \"description\": \"\"\n      }\n    },\n    {\n      \"column\": \"native-country\",\n      \"properties\": {\n        \"dtype\": \"category\",\n        \"samples\": [\n          \"El-Salvador\",\n          \"Philippines\"\n        ],\n        \"num_unique_values\": 42,\n        \"semantic_type\": \"\",\n        \"description\": \"\"\n      }\n    }\n  ]\n}"
            }
          },
          "metadata": {},
          "execution_count": 99
        }
      ]
    },
    {
      "cell_type": "code",
      "source": [
        "data = spark.read.csv('/content/adult.data')\n",
        "data.show()"
      ],
      "metadata": {
        "colab": {
          "base_uri": "https://localhost:8080/"
        },
        "id": "NkkB2g270-SG",
        "outputId": "3e52b129-b80a-47c1-8f5a-0edce55bfbe6"
      },
      "execution_count": null,
      "outputs": [
        {
          "output_type": "stream",
          "name": "stdout",
          "text": [
            "+---+-----------------+-------+-------------+---+--------------------+------------------+--------------+-------------------+-------+------+----+----+--------------+------+\n",
            "|_c0|              _c1|    _c2|          _c3|_c4|                 _c5|               _c6|           _c7|                _c8|    _c9|  _c10|_c11|_c12|          _c13|  _c14|\n",
            "+---+-----------------+-------+-------------+---+--------------------+------------------+--------------+-------------------+-------+------+----+----+--------------+------+\n",
            "| 39|        State-gov|  77516|    Bachelors| 13|       Never-married|      Adm-clerical| Not-in-family|              White|   Male|  2174|   0|  40| United-States| <=50K|\n",
            "| 50| Self-emp-not-inc|  83311|    Bachelors| 13|  Married-civ-spouse|   Exec-managerial|       Husband|              White|   Male|     0|   0|  13| United-States| <=50K|\n",
            "| 38|          Private| 215646|      HS-grad|  9|            Divorced| Handlers-cleaners| Not-in-family|              White|   Male|     0|   0|  40| United-States| <=50K|\n",
            "| 53|          Private| 234721|         11th|  7|  Married-civ-spouse| Handlers-cleaners|       Husband|              Black|   Male|     0|   0|  40| United-States| <=50K|\n",
            "| 28|          Private| 338409|    Bachelors| 13|  Married-civ-spouse|    Prof-specialty|          Wife|              Black| Female|     0|   0|  40|          Cuba| <=50K|\n",
            "| 37|          Private| 284582|      Masters| 14|  Married-civ-spouse|   Exec-managerial|          Wife|              White| Female|     0|   0|  40| United-States| <=50K|\n",
            "| 49|          Private| 160187|          9th|  5| Married-spouse-a...|     Other-service| Not-in-family|              Black| Female|     0|   0|  16|       Jamaica| <=50K|\n",
            "| 52| Self-emp-not-inc| 209642|      HS-grad|  9|  Married-civ-spouse|   Exec-managerial|       Husband|              White|   Male|     0|   0|  45| United-States|  >50K|\n",
            "| 31|          Private|  45781|      Masters| 14|       Never-married|    Prof-specialty| Not-in-family|              White| Female| 14084|   0|  50| United-States|  >50K|\n",
            "| 42|          Private| 159449|    Bachelors| 13|  Married-civ-spouse|   Exec-managerial|       Husband|              White|   Male|  5178|   0|  40| United-States|  >50K|\n",
            "| 37|          Private| 280464| Some-college| 10|  Married-civ-spouse|   Exec-managerial|       Husband|              Black|   Male|     0|   0|  80| United-States|  >50K|\n",
            "| 30|        State-gov| 141297|    Bachelors| 13|  Married-civ-spouse|    Prof-specialty|       Husband| Asian-Pac-Islander|   Male|     0|   0|  40|         India|  >50K|\n",
            "| 23|          Private| 122272|    Bachelors| 13|       Never-married|      Adm-clerical|     Own-child|              White| Female|     0|   0|  30| United-States| <=50K|\n",
            "| 32|          Private| 205019|   Assoc-acdm| 12|       Never-married|             Sales| Not-in-family|              Black|   Male|     0|   0|  50| United-States| <=50K|\n",
            "| 40|          Private| 121772|    Assoc-voc| 11|  Married-civ-spouse|      Craft-repair|       Husband| Asian-Pac-Islander|   Male|     0|   0|  40|             ?|  >50K|\n",
            "| 34|          Private| 245487|      7th-8th|  4|  Married-civ-spouse|  Transport-moving|       Husband| Amer-Indian-Eskimo|   Male|     0|   0|  45|        Mexico| <=50K|\n",
            "| 25| Self-emp-not-inc| 176756|      HS-grad|  9|       Never-married|   Farming-fishing|     Own-child|              White|   Male|     0|   0|  35| United-States| <=50K|\n",
            "| 32|          Private| 186824|      HS-grad|  9|       Never-married| Machine-op-inspct|     Unmarried|              White|   Male|     0|   0|  40| United-States| <=50K|\n",
            "| 38|          Private|  28887|         11th|  7|  Married-civ-spouse|             Sales|       Husband|              White|   Male|     0|   0|  50| United-States| <=50K|\n",
            "| 43| Self-emp-not-inc| 292175|      Masters| 14|            Divorced|   Exec-managerial|     Unmarried|              White| Female|     0|   0|  45| United-States|  >50K|\n",
            "+---+-----------------+-------+-------------+---+--------------------+------------------+--------------+-------------------+-------+------+----+----+--------------+------+\n",
            "only showing top 20 rows\n",
            "\n"
          ]
        }
      ]
    },
    {
      "cell_type": "code",
      "source": [
        "labels = ['age', 'workclass', 'fnlwgt', 'education', 'numbers', 'marital', 'occupation', 'relation', 'race', 'gender', 'gain', 'loss', 'hourlypay', 'country', 'income']"
      ],
      "metadata": {
        "id": "Oof9exA71R_C"
      },
      "execution_count": null,
      "outputs": []
    },
    {
      "cell_type": "code",
      "source": [],
      "metadata": {
        "id": "sbkNETNsorNG"
      },
      "execution_count": null,
      "outputs": []
    },
    {
      "cell_type": "code",
      "source": [
        "df = data.toDF(*labels)\n"
      ],
      "metadata": {
        "id": "cbhypvOs1aSI"
      },
      "execution_count": null,
      "outputs": []
    },
    {
      "cell_type": "code",
      "source": [
        "df.show(5)"
      ],
      "metadata": {
        "colab": {
          "base_uri": "https://localhost:8080/"
        },
        "id": "yO5ciVOY16Le",
        "outputId": "cc51c704-bb9e-40c2-ca24-3827ece1fa25"
      },
      "execution_count": null,
      "outputs": [
        {
          "output_type": "stream",
          "name": "stdout",
          "text": [
            "+---+-----------------+-------+----------+-------+-------------------+------------------+--------------+------+-------+-----+----+---------+--------------+------+\n",
            "|age|        workclass| fnlwgt| education|numbers|            marital|        occupation|      relation|  race| gender| gain|loss|hourlypay|       country|income|\n",
            "+---+-----------------+-------+----------+-------+-------------------+------------------+--------------+------+-------+-----+----+---------+--------------+------+\n",
            "| 39|        State-gov|  77516| Bachelors|     13|      Never-married|      Adm-clerical| Not-in-family| White|   Male| 2174|   0|       40| United-States| <=50K|\n",
            "| 50| Self-emp-not-inc|  83311| Bachelors|     13| Married-civ-spouse|   Exec-managerial|       Husband| White|   Male|    0|   0|       13| United-States| <=50K|\n",
            "| 38|          Private| 215646|   HS-grad|      9|           Divorced| Handlers-cleaners| Not-in-family| White|   Male|    0|   0|       40| United-States| <=50K|\n",
            "| 53|          Private| 234721|      11th|      7| Married-civ-spouse| Handlers-cleaners|       Husband| Black|   Male|    0|   0|       40| United-States| <=50K|\n",
            "| 28|          Private| 338409| Bachelors|     13| Married-civ-spouse|    Prof-specialty|          Wife| Black| Female|    0|   0|       40|          Cuba| <=50K|\n",
            "+---+-----------------+-------+----------+-------+-------------------+------------------+--------------+------+-------+-----+----+---------+--------------+------+\n",
            "only showing top 5 rows\n",
            "\n"
          ]
        }
      ]
    },
    {
      "cell_type": "code",
      "source": [
        "df.printSchema()"
      ],
      "metadata": {
        "colab": {
          "base_uri": "https://localhost:8080/"
        },
        "id": "9G32Vnwf1huJ",
        "outputId": "5b405018-00a9-4e5c-8a34-98517384b3f9"
      },
      "execution_count": null,
      "outputs": [
        {
          "output_type": "stream",
          "name": "stdout",
          "text": [
            "root\n",
            " |-- age: string (nullable = true)\n",
            " |-- workclass: string (nullable = true)\n",
            " |-- fnlwgt: string (nullable = true)\n",
            " |-- education: string (nullable = true)\n",
            " |-- numbers: string (nullable = true)\n",
            " |-- marital: string (nullable = true)\n",
            " |-- occupation: string (nullable = true)\n",
            " |-- relation: string (nullable = true)\n",
            " |-- race: string (nullable = true)\n",
            " |-- gender: string (nullable = true)\n",
            " |-- gain: string (nullable = true)\n",
            " |-- loss: string (nullable = true)\n",
            " |-- hourlypay: string (nullable = true)\n",
            " |-- country: string (nullable = true)\n",
            " |-- income: string (nullable = true)\n",
            "\n"
          ]
        }
      ]
    },
    {
      "cell_type": "code",
      "source": [
        "from pyspark.sql.functions import col\n",
        "new_df = df.withColumn('age' , col('age').cast('integer'))"
      ],
      "metadata": {
        "id": "vytWWq5a2ulK"
      },
      "execution_count": null,
      "outputs": []
    },
    {
      "cell_type": "code",
      "source": [
        "new_df.printSchema()"
      ],
      "metadata": {
        "colab": {
          "base_uri": "https://localhost:8080/"
        },
        "id": "ofYNvOyu24I9",
        "outputId": "64aac6d9-0d8f-4fab-916a-aca51594f64b"
      },
      "execution_count": null,
      "outputs": [
        {
          "output_type": "stream",
          "name": "stdout",
          "text": [
            "root\n",
            " |-- age: integer (nullable = true)\n",
            " |-- workclass: string (nullable = true)\n",
            " |-- fnlwgt: string (nullable = true)\n",
            " |-- education: string (nullable = true)\n",
            " |-- numbers: string (nullable = true)\n",
            " |-- marital: string (nullable = true)\n",
            " |-- occupation: string (nullable = true)\n",
            " |-- relation: string (nullable = true)\n",
            " |-- race: string (nullable = true)\n",
            " |-- gender: string (nullable = true)\n",
            " |-- gain: string (nullable = true)\n",
            " |-- loss: string (nullable = true)\n",
            " |-- hourlypay: string (nullable = true)\n",
            " |-- country: string (nullable = true)\n",
            " |-- income: string (nullable = true)\n",
            "\n"
          ]
        }
      ]
    },
    {
      "cell_type": "code",
      "source": [
        "\n",
        "for i in [ 'fnlwgt' , 'numbers', 'gain', 'loss', 'hourlypay']:\n",
        "  new_df = new_df.withColumn(i , col(i).cast('integer'))"
      ],
      "metadata": {
        "id": "wgTWp9cX2DxC"
      },
      "execution_count": null,
      "outputs": []
    },
    {
      "cell_type": "code",
      "source": [
        "from pyspark.sql.functions import *\n",
        "\n",
        "new_df.select([count(when(col(c).isNull(), c )).alias(c) for c in new_df.columns]).show()"
      ],
      "metadata": {
        "colab": {
          "base_uri": "https://localhost:8080/"
        },
        "id": "okGWhH2C3HF5",
        "outputId": "7c7ca8c2-e8b1-41a0-854c-0dfa764b7ee5"
      },
      "execution_count": null,
      "outputs": [
        {
          "output_type": "stream",
          "name": "stdout",
          "text": [
            "+---+---------+------+---------+-------+-------+----------+--------+----+------+----+----+---------+-------+------+\n",
            "|age|workclass|fnlwgt|education|numbers|marital|occupation|relation|race|gender|gain|loss|hourlypay|country|income|\n",
            "+---+---------+------+---------+-------+-------+----------+--------+----+------+----+----+---------+-------+------+\n",
            "|  0|        0|     0|        0|      0|      0|         0|       0|   0|     0|   0|   0|        0|      0|     0|\n",
            "+---+---------+------+---------+-------+-------+----------+--------+----+------+----+----+---------+-------+------+\n",
            "\n"
          ]
        }
      ]
    },
    {
      "cell_type": "code",
      "source": [
        "df.select('workclass').distinct().show()"
      ],
      "metadata": {
        "colab": {
          "base_uri": "https://localhost:8080/"
        },
        "id": "ue7sgN2E3pIZ",
        "outputId": "c1fd787b-7429-4bc4-bec3-10f99c7ac343"
      },
      "execution_count": null,
      "outputs": [
        {
          "output_type": "stream",
          "name": "stdout",
          "text": [
            "+-----------------+\n",
            "|        workclass|\n",
            "+-----------------+\n",
            "|        State-gov|\n",
            "|      Federal-gov|\n",
            "| Self-emp-not-inc|\n",
            "|        Local-gov|\n",
            "|          Private|\n",
            "|                ?|\n",
            "|     Self-emp-inc|\n",
            "|      Without-pay|\n",
            "|     Never-worked|\n",
            "+-----------------+\n",
            "\n"
          ]
        }
      ]
    },
    {
      "cell_type": "code",
      "source": [
        "df = new_df.replace(\" ?\" , None)"
      ],
      "metadata": {
        "id": "qcy3Sgjs3xfs"
      },
      "execution_count": null,
      "outputs": []
    },
    {
      "cell_type": "code",
      "source": [
        "from pyspark.sql.functions import *\n",
        "\n",
        "df.select([count(when(col(c).isNull(), c )).alias(c) for c in df.columns]).show()"
      ],
      "metadata": {
        "colab": {
          "base_uri": "https://localhost:8080/"
        },
        "id": "J-5Lb5NQ39KI",
        "outputId": "fdd80e82-675e-4cc9-aecb-d5a3dfe29151"
      },
      "execution_count": null,
      "outputs": [
        {
          "output_type": "stream",
          "name": "stdout",
          "text": [
            "+---+---------+------+---------+-------+-------+----------+--------+----+------+----+----+---------+-------+------+\n",
            "|age|workclass|fnlwgt|education|numbers|marital|occupation|relation|race|gender|gain|loss|hourlypay|country|income|\n",
            "+---+---------+------+---------+-------+-------+----------+--------+----+------+----+----+---------+-------+------+\n",
            "|  0|     1836|     0|        0|      0|      0|      1843|       0|   0|     0|   0|   0|        0|    583|     0|\n",
            "+---+---------+------+---------+-------+-------+----------+--------+----+------+----+----+---------+-------+------+\n",
            "\n"
          ]
        }
      ]
    },
    {
      "cell_type": "code",
      "source": [
        "df.groupby('occupation').count().show()"
      ],
      "metadata": {
        "colab": {
          "base_uri": "https://localhost:8080/"
        },
        "id": "28WqdlHT4BzP",
        "outputId": "456becdf-16ec-4cdf-e799-3bbf7f48637f"
      },
      "execution_count": null,
      "outputs": [
        {
          "output_type": "stream",
          "name": "stdout",
          "text": [
            "+------------------+-----+\n",
            "|        occupation|count|\n",
            "+------------------+-----+\n",
            "|   Farming-fishing|  994|\n",
            "|              NULL| 1843|\n",
            "| Handlers-cleaners| 1370|\n",
            "|    Prof-specialty| 4140|\n",
            "|      Adm-clerical| 3770|\n",
            "|   Exec-managerial| 4066|\n",
            "|      Craft-repair| 4099|\n",
            "|             Sales| 3650|\n",
            "|      Tech-support|  928|\n",
            "|  Transport-moving| 1597|\n",
            "|   Protective-serv|  649|\n",
            "|      Armed-Forces|    9|\n",
            "| Machine-op-inspct| 2002|\n",
            "|     Other-service| 3295|\n",
            "|   Priv-house-serv|  149|\n",
            "+------------------+-----+\n",
            "\n"
          ]
        }
      ]
    },
    {
      "cell_type": "code",
      "source": [
        "df = df.fillna(\" United-States\", subset = ['country'])"
      ],
      "metadata": {
        "id": "A4R8KTrn4OCW"
      },
      "execution_count": null,
      "outputs": []
    },
    {
      "cell_type": "code",
      "source": [
        "df = df.fillna(\" Private\", subset = ['workclass'])"
      ],
      "metadata": {
        "id": "f09zNglh4cey"
      },
      "execution_count": null,
      "outputs": []
    },
    {
      "cell_type": "code",
      "source": [
        "df = df.fillna(\" Prof-specialty\", subset = ['occupation'])"
      ],
      "metadata": {
        "id": "-l0x-ZHw4eDb"
      },
      "execution_count": null,
      "outputs": []
    },
    {
      "cell_type": "code",
      "source": [
        "df.select([count(when(col(c).isNull(), c )).alias(c) for c in df.columns]).show()"
      ],
      "metadata": {
        "colab": {
          "base_uri": "https://localhost:8080/"
        },
        "id": "TEhyYUBv4v8l",
        "outputId": "189c245e-d66f-4472-d5d9-3574207744dd"
      },
      "execution_count": null,
      "outputs": [
        {
          "output_type": "stream",
          "name": "stdout",
          "text": [
            "+---+---------+------+---------+-------+-------+----------+--------+----+------+----+----+---------+-------+------+\n",
            "|age|workclass|fnlwgt|education|numbers|marital|occupation|relation|race|gender|gain|loss|hourlypay|country|income|\n",
            "+---+---------+------+---------+-------+-------+----------+--------+----+------+----+----+---------+-------+------+\n",
            "|  0|        0|     0|        0|      0|      0|         0|       0|   0|     0|   0|   0|        0|      0|     0|\n",
            "+---+---------+------+---------+-------+-------+----------+--------+----+------+----+----+---------+-------+------+\n",
            "\n"
          ]
        }
      ]
    },
    {
      "cell_type": "code",
      "source": [
        "from pyspark.ml.classification import LogisticRegression\n",
        "from pyspark.ml import Pipeline\n",
        "from pyspark.ml.feature import StringIndexer , VectorAssembler\n",
        "\n"
      ],
      "metadata": {
        "id": "ein8UhxE40L2"
      },
      "execution_count": null,
      "outputs": []
    },
    {
      "cell_type": "code",
      "source": [
        "df.columns"
      ],
      "metadata": {
        "colab": {
          "base_uri": "https://localhost:8080/"
        },
        "id": "brF792pG5Y26",
        "outputId": "f47db517-7cf2-4e04-fd9a-428c91c3232c"
      },
      "execution_count": null,
      "outputs": [
        {
          "output_type": "execute_result",
          "data": {
            "text/plain": [
              "['age',\n",
              " 'workclass',\n",
              " 'fnlwgt',\n",
              " 'education',\n",
              " 'numbers',\n",
              " 'marital',\n",
              " 'occupation',\n",
              " 'relation',\n",
              " 'race',\n",
              " 'gender',\n",
              " 'gain',\n",
              " 'loss',\n",
              " 'hourlypay',\n",
              " 'country',\n",
              " 'income']"
            ]
          },
          "metadata": {},
          "execution_count": 118
        }
      ]
    },
    {
      "cell_type": "code",
      "source": [
        "categorical_cols = [ 'workclass',\n",
        " 'education',\n",
        " 'marital',\n",
        " 'occupation',\n",
        " 'relation',\n",
        " 'race',\n",
        " 'gender',\n",
        " 'country']\n",
        "numeric_cols = [ 'age' ,'fnlwgt' , 'numbers', 'gain', 'loss', 'hourlypay']\n",
        "label = 'income'\n"
      ],
      "metadata": {
        "id": "VksLIC7W5SA5"
      },
      "execution_count": null,
      "outputs": []
    },
    {
      "cell_type": "code",
      "source": [
        "indexer = [StringIndexer(inputCol = c , outputCol = f\"{c}_index\", handleInvalid = 'keep') for c in categorical_cols]\n"
      ],
      "metadata": {
        "id": "kXWuQsdU5x0S"
      },
      "execution_count": null,
      "outputs": []
    },
    {
      "cell_type": "code",
      "source": [
        "label_indexer = StringIndexer(inputCol = 'income', outputCol = 'label', handleInvalid = 'keep')"
      ],
      "metadata": {
        "id": "34Mzvaf37cd3"
      },
      "execution_count": null,
      "outputs": []
    },
    {
      "cell_type": "code",
      "source": [
        "assembler = VectorAssembler(inputCols = [f'{c}_index' for c in categorical_cols] + numeric_cols, outputCol = 'features')"
      ],
      "metadata": {
        "id": "4FPiqXFK7hpW"
      },
      "execution_count": null,
      "outputs": []
    },
    {
      "cell_type": "code",
      "source": [
        "lr = LogisticRegression(featuresCol = 'features', labelCol = 'label')\n"
      ],
      "metadata": {
        "id": "D7rUL-aA8Gxw"
      },
      "execution_count": null,
      "outputs": []
    },
    {
      "cell_type": "code",
      "source": [
        "pipeline = Pipeline(stages = indexer + [assembler , label_indexer , lr] )"
      ],
      "metadata": {
        "id": "ZKYvYdU28ex0"
      },
      "execution_count": null,
      "outputs": []
    },
    {
      "cell_type": "code",
      "source": [
        "train_data , test_data = df.randomSplit([.8, .2])"
      ],
      "metadata": {
        "id": "fHSYg8vs85zI"
      },
      "execution_count": null,
      "outputs": []
    },
    {
      "cell_type": "code",
      "source": [
        "model = pipeline.fit(train_data)"
      ],
      "metadata": {
        "id": "4-K71fk99AXe"
      },
      "execution_count": null,
      "outputs": []
    },
    {
      "cell_type": "code",
      "source": [
        "prediction = model.transform(test_data)"
      ],
      "metadata": {
        "id": "zEJsEE6q9IsK"
      },
      "execution_count": null,
      "outputs": []
    },
    {
      "cell_type": "code",
      "source": [
        "prediction.select('label', 'prediction').show()"
      ],
      "metadata": {
        "colab": {
          "base_uri": "https://localhost:8080/"
        },
        "id": "yBQQTT3q9Sx5",
        "outputId": "1dd0ebeb-7022-47f5-a698-ceaea4a34e80"
      },
      "execution_count": null,
      "outputs": [
        {
          "output_type": "stream",
          "name": "stdout",
          "text": [
            "+-----+----------+\n",
            "|label|prediction|\n",
            "+-----+----------+\n",
            "|  0.0|       0.0|\n",
            "|  0.0|       0.0|\n",
            "|  0.0|       0.0|\n",
            "|  0.0|       0.0|\n",
            "|  0.0|       0.0|\n",
            "|  0.0|       0.0|\n",
            "|  0.0|       0.0|\n",
            "|  0.0|       0.0|\n",
            "|  0.0|       0.0|\n",
            "|  0.0|       0.0|\n",
            "|  0.0|       0.0|\n",
            "|  0.0|       0.0|\n",
            "|  0.0|       0.0|\n",
            "|  0.0|       0.0|\n",
            "|  0.0|       0.0|\n",
            "|  0.0|       0.0|\n",
            "|  0.0|       0.0|\n",
            "|  0.0|       0.0|\n",
            "|  0.0|       0.0|\n",
            "|  0.0|       0.0|\n",
            "+-----+----------+\n",
            "only showing top 20 rows\n",
            "\n"
          ]
        }
      ]
    },
    {
      "cell_type": "code",
      "source": [
        "prediction.groupby('label', 'prediction').count().show()"
      ],
      "metadata": {
        "colab": {
          "base_uri": "https://localhost:8080/"
        },
        "id": "FX1iWnHR9-p5",
        "outputId": "1b9718d7-ff93-49c3-caf2-c6b662b0738a"
      },
      "execution_count": null,
      "outputs": [
        {
          "output_type": "stream",
          "name": "stdout",
          "text": [
            "+-----+----------+-----+\n",
            "|label|prediction|count|\n",
            "+-----+----------+-----+\n",
            "|  1.0|       1.0|  807|\n",
            "|  0.0|       1.0|  313|\n",
            "|  1.0|       0.0|  744|\n",
            "|  0.0|       0.0| 4716|\n",
            "+-----+----------+-----+\n",
            "\n"
          ]
        }
      ]
    },
    {
      "cell_type": "code",
      "source": [
        "from pyspark.ml.evaluation import MulticlassClassificationEvaluator\n",
        "\n",
        "evaluator = MulticlassClassificationEvaluator(predictionCol = 'prediction', labelCol = 'label', metricName = 'accuracy')"
      ],
      "metadata": {
        "id": "LwuugKNz9zaX"
      },
      "execution_count": null,
      "outputs": []
    },
    {
      "cell_type": "code",
      "source": [
        "evaluator.evaluate(prediction)"
      ],
      "metadata": {
        "colab": {
          "base_uri": "https://localhost:8080/"
        },
        "id": "z1Tb2H-2-cKO",
        "outputId": "73145492-33cf-4c5f-d3a8-ce43c814a40d"
      },
      "execution_count": null,
      "outputs": [
        {
          "output_type": "execute_result",
          "data": {
            "text/plain": [
              "0.8393617021276596"
            ]
          },
          "metadata": {},
          "execution_count": 131
        }
      ]
    },
    {
      "cell_type": "code",
      "source": [
        "df.show()"
      ],
      "metadata": {
        "colab": {
          "base_uri": "https://localhost:8080/"
        },
        "id": "hRXJn4PgYEaQ",
        "outputId": "60dc8fea-2de2-4493-b8c1-e3094ede41b9"
      },
      "execution_count": null,
      "outputs": [
        {
          "output_type": "stream",
          "name": "stdout",
          "text": [
            "+---+-----------------+------+-------------+-------+--------------------+------------------+--------------+-------------------+-------+-----+----+---------+--------------+------+\n",
            "|age|        workclass|fnlwgt|    education|numbers|             marital|        occupation|      relation|               race| gender| gain|loss|hourlypay|       country|income|\n",
            "+---+-----------------+------+-------------+-------+--------------------+------------------+--------------+-------------------+-------+-----+----+---------+--------------+------+\n",
            "| 39|        State-gov| 77516|    Bachelors|     13|       Never-married|      Adm-clerical| Not-in-family|              White|   Male| 2174|   0|       40| United-States| <=50K|\n",
            "| 50| Self-emp-not-inc| 83311|    Bachelors|     13|  Married-civ-spouse|   Exec-managerial|       Husband|              White|   Male|    0|   0|       13| United-States| <=50K|\n",
            "| 38|          Private|215646|      HS-grad|      9|            Divorced| Handlers-cleaners| Not-in-family|              White|   Male|    0|   0|       40| United-States| <=50K|\n",
            "| 53|          Private|234721|         11th|      7|  Married-civ-spouse| Handlers-cleaners|       Husband|              Black|   Male|    0|   0|       40| United-States| <=50K|\n",
            "| 28|          Private|338409|    Bachelors|     13|  Married-civ-spouse|    Prof-specialty|          Wife|              Black| Female|    0|   0|       40|          Cuba| <=50K|\n",
            "| 37|          Private|284582|      Masters|     14|  Married-civ-spouse|   Exec-managerial|          Wife|              White| Female|    0|   0|       40| United-States| <=50K|\n",
            "| 49|          Private|160187|          9th|      5| Married-spouse-a...|     Other-service| Not-in-family|              Black| Female|    0|   0|       16|       Jamaica| <=50K|\n",
            "| 52| Self-emp-not-inc|209642|      HS-grad|      9|  Married-civ-spouse|   Exec-managerial|       Husband|              White|   Male|    0|   0|       45| United-States|  >50K|\n",
            "| 31|          Private| 45781|      Masters|     14|       Never-married|    Prof-specialty| Not-in-family|              White| Female|14084|   0|       50| United-States|  >50K|\n",
            "| 42|          Private|159449|    Bachelors|     13|  Married-civ-spouse|   Exec-managerial|       Husband|              White|   Male| 5178|   0|       40| United-States|  >50K|\n",
            "| 37|          Private|280464| Some-college|     10|  Married-civ-spouse|   Exec-managerial|       Husband|              Black|   Male|    0|   0|       80| United-States|  >50K|\n",
            "| 30|        State-gov|141297|    Bachelors|     13|  Married-civ-spouse|    Prof-specialty|       Husband| Asian-Pac-Islander|   Male|    0|   0|       40|         India|  >50K|\n",
            "| 23|          Private|122272|    Bachelors|     13|       Never-married|      Adm-clerical|     Own-child|              White| Female|    0|   0|       30| United-States| <=50K|\n",
            "| 32|          Private|205019|   Assoc-acdm|     12|       Never-married|             Sales| Not-in-family|              Black|   Male|    0|   0|       50| United-States| <=50K|\n",
            "| 40|          Private|121772|    Assoc-voc|     11|  Married-civ-spouse|      Craft-repair|       Husband| Asian-Pac-Islander|   Male|    0|   0|       40| United-States|  >50K|\n",
            "| 34|          Private|245487|      7th-8th|      4|  Married-civ-spouse|  Transport-moving|       Husband| Amer-Indian-Eskimo|   Male|    0|   0|       45|        Mexico| <=50K|\n",
            "| 25| Self-emp-not-inc|176756|      HS-grad|      9|       Never-married|   Farming-fishing|     Own-child|              White|   Male|    0|   0|       35| United-States| <=50K|\n",
            "| 32|          Private|186824|      HS-grad|      9|       Never-married| Machine-op-inspct|     Unmarried|              White|   Male|    0|   0|       40| United-States| <=50K|\n",
            "| 38|          Private| 28887|         11th|      7|  Married-civ-spouse|             Sales|       Husband|              White|   Male|    0|   0|       50| United-States| <=50K|\n",
            "| 43| Self-emp-not-inc|292175|      Masters|     14|            Divorced|   Exec-managerial|     Unmarried|              White| Female|    0|   0|       45| United-States|  >50K|\n",
            "+---+-----------------+------+-------------+-------+--------------------+------------------+--------------+-------------------+-------+-----+----+---------+--------------+------+\n",
            "only showing top 20 rows\n",
            "\n"
          ]
        }
      ]
    },
    {
      "cell_type": "code",
      "source": [
        "categorical_cols = [ 'workclass',\n",
        " 'education',\n",
        " 'marital',\n",
        " 'occupation',\n",
        " 'relation',\n",
        " 'race',\n",
        " 'gender',\n",
        " 'country']\n",
        "numeric_cols = [ 'age' ,'fnlwgt' , 'numbers', 'gain', 'loss', 'hourlypay']\n",
        "label = 'income'\n"
      ],
      "metadata": {
        "id": "LQDBO4K0erQ-"
      },
      "execution_count": null,
      "outputs": []
    },
    {
      "cell_type": "code",
      "source": [
        "def indexer(df, col):\n",
        "  indexer = StringIndexer(inputCol = col , outputCol = f'{col}_index', handleInvalid = 'keep')\n",
        "  indexed = indexer.fit(df).transform(df)\n",
        "  return indexed\n",
        "\n"
      ],
      "metadata": {
        "id": "mG1llAfIfeqc"
      },
      "execution_count": null,
      "outputs": []
    },
    {
      "cell_type": "code",
      "source": [
        "indexer(df, 'workclass').show()"
      ],
      "metadata": {
        "colab": {
          "base_uri": "https://localhost:8080/"
        },
        "id": "gOcEuetng1Mp",
        "outputId": "5ac522be-47b9-4643-a879-6822c8ff0f7c"
      },
      "execution_count": null,
      "outputs": [
        {
          "output_type": "stream",
          "name": "stdout",
          "text": [
            "+---+-----------------+------+-------------+-------+--------------------+------------------+--------------+-------------------+-------+-----+----+---------+--------------+------+---------------+\n",
            "|age|        workclass|fnlwgt|    education|numbers|             marital|        occupation|      relation|               race| gender| gain|loss|hourlypay|       country|income|workclass_index|\n",
            "+---+-----------------+------+-------------+-------+--------------------+------------------+--------------+-------------------+-------+-----+----+---------+--------------+------+---------------+\n",
            "| 39|        State-gov| 77516|    Bachelors|     13|       Never-married|      Adm-clerical| Not-in-family|              White|   Male| 2174|   0|       40| United-States| <=50K|            3.0|\n",
            "| 50| Self-emp-not-inc| 83311|    Bachelors|     13|  Married-civ-spouse|   Exec-managerial|       Husband|              White|   Male|    0|   0|       13| United-States| <=50K|            1.0|\n",
            "| 38|          Private|215646|      HS-grad|      9|            Divorced| Handlers-cleaners| Not-in-family|              White|   Male|    0|   0|       40| United-States| <=50K|            0.0|\n",
            "| 53|          Private|234721|         11th|      7|  Married-civ-spouse| Handlers-cleaners|       Husband|              Black|   Male|    0|   0|       40| United-States| <=50K|            0.0|\n",
            "| 28|          Private|338409|    Bachelors|     13|  Married-civ-spouse|    Prof-specialty|          Wife|              Black| Female|    0|   0|       40|          Cuba| <=50K|            0.0|\n",
            "| 37|          Private|284582|      Masters|     14|  Married-civ-spouse|   Exec-managerial|          Wife|              White| Female|    0|   0|       40| United-States| <=50K|            0.0|\n",
            "| 49|          Private|160187|          9th|      5| Married-spouse-a...|     Other-service| Not-in-family|              Black| Female|    0|   0|       16|       Jamaica| <=50K|            0.0|\n",
            "| 52| Self-emp-not-inc|209642|      HS-grad|      9|  Married-civ-spouse|   Exec-managerial|       Husband|              White|   Male|    0|   0|       45| United-States|  >50K|            1.0|\n",
            "| 31|          Private| 45781|      Masters|     14|       Never-married|    Prof-specialty| Not-in-family|              White| Female|14084|   0|       50| United-States|  >50K|            0.0|\n",
            "| 42|          Private|159449|    Bachelors|     13|  Married-civ-spouse|   Exec-managerial|       Husband|              White|   Male| 5178|   0|       40| United-States|  >50K|            0.0|\n",
            "| 37|          Private|280464| Some-college|     10|  Married-civ-spouse|   Exec-managerial|       Husband|              Black|   Male|    0|   0|       80| United-States|  >50K|            0.0|\n",
            "| 30|        State-gov|141297|    Bachelors|     13|  Married-civ-spouse|    Prof-specialty|       Husband| Asian-Pac-Islander|   Male|    0|   0|       40|         India|  >50K|            3.0|\n",
            "| 23|          Private|122272|    Bachelors|     13|       Never-married|      Adm-clerical|     Own-child|              White| Female|    0|   0|       30| United-States| <=50K|            0.0|\n",
            "| 32|          Private|205019|   Assoc-acdm|     12|       Never-married|             Sales| Not-in-family|              Black|   Male|    0|   0|       50| United-States| <=50K|            0.0|\n",
            "| 40|          Private|121772|    Assoc-voc|     11|  Married-civ-spouse|      Craft-repair|       Husband| Asian-Pac-Islander|   Male|    0|   0|       40| United-States|  >50K|            0.0|\n",
            "| 34|          Private|245487|      7th-8th|      4|  Married-civ-spouse|  Transport-moving|       Husband| Amer-Indian-Eskimo|   Male|    0|   0|       45|        Mexico| <=50K|            0.0|\n",
            "| 25| Self-emp-not-inc|176756|      HS-grad|      9|       Never-married|   Farming-fishing|     Own-child|              White|   Male|    0|   0|       35| United-States| <=50K|            1.0|\n",
            "| 32|          Private|186824|      HS-grad|      9|       Never-married| Machine-op-inspct|     Unmarried|              White|   Male|    0|   0|       40| United-States| <=50K|            0.0|\n",
            "| 38|          Private| 28887|         11th|      7|  Married-civ-spouse|             Sales|       Husband|              White|   Male|    0|   0|       50| United-States| <=50K|            0.0|\n",
            "| 43| Self-emp-not-inc|292175|      Masters|     14|            Divorced|   Exec-managerial|     Unmarried|              White| Female|    0|   0|       45| United-States|  >50K|            1.0|\n",
            "+---+-----------------+------+-------------+-------+--------------------+------------------+--------------+-------------------+-------+-----+----+---------+--------------+------+---------------+\n",
            "only showing top 20 rows\n",
            "\n"
          ]
        }
      ]
    },
    {
      "cell_type": "code",
      "source": [
        "df.show()"
      ],
      "metadata": {
        "colab": {
          "base_uri": "https://localhost:8080/"
        },
        "id": "YS1np75ChQEG",
        "outputId": "391e5290-a621-4922-beed-90feec8fce72"
      },
      "execution_count": null,
      "outputs": [
        {
          "output_type": "stream",
          "name": "stdout",
          "text": [
            "+---+-----------------+------+-------------+-------+--------------------+------------------+--------------+-------------------+-------+-----+----+---------+--------------+------+\n",
            "|age|        workclass|fnlwgt|    education|numbers|             marital|        occupation|      relation|               race| gender| gain|loss|hourlypay|       country|income|\n",
            "+---+-----------------+------+-------------+-------+--------------------+------------------+--------------+-------------------+-------+-----+----+---------+--------------+------+\n",
            "| 39|        State-gov| 77516|    Bachelors|     13|       Never-married|      Adm-clerical| Not-in-family|              White|   Male| 2174|   0|       40| United-States| <=50K|\n",
            "| 50| Self-emp-not-inc| 83311|    Bachelors|     13|  Married-civ-spouse|   Exec-managerial|       Husband|              White|   Male|    0|   0|       13| United-States| <=50K|\n",
            "| 38|          Private|215646|      HS-grad|      9|            Divorced| Handlers-cleaners| Not-in-family|              White|   Male|    0|   0|       40| United-States| <=50K|\n",
            "| 53|          Private|234721|         11th|      7|  Married-civ-spouse| Handlers-cleaners|       Husband|              Black|   Male|    0|   0|       40| United-States| <=50K|\n",
            "| 28|          Private|338409|    Bachelors|     13|  Married-civ-spouse|    Prof-specialty|          Wife|              Black| Female|    0|   0|       40|          Cuba| <=50K|\n",
            "| 37|          Private|284582|      Masters|     14|  Married-civ-spouse|   Exec-managerial|          Wife|              White| Female|    0|   0|       40| United-States| <=50K|\n",
            "| 49|          Private|160187|          9th|      5| Married-spouse-a...|     Other-service| Not-in-family|              Black| Female|    0|   0|       16|       Jamaica| <=50K|\n",
            "| 52| Self-emp-not-inc|209642|      HS-grad|      9|  Married-civ-spouse|   Exec-managerial|       Husband|              White|   Male|    0|   0|       45| United-States|  >50K|\n",
            "| 31|          Private| 45781|      Masters|     14|       Never-married|    Prof-specialty| Not-in-family|              White| Female|14084|   0|       50| United-States|  >50K|\n",
            "| 42|          Private|159449|    Bachelors|     13|  Married-civ-spouse|   Exec-managerial|       Husband|              White|   Male| 5178|   0|       40| United-States|  >50K|\n",
            "| 37|          Private|280464| Some-college|     10|  Married-civ-spouse|   Exec-managerial|       Husband|              Black|   Male|    0|   0|       80| United-States|  >50K|\n",
            "| 30|        State-gov|141297|    Bachelors|     13|  Married-civ-spouse|    Prof-specialty|       Husband| Asian-Pac-Islander|   Male|    0|   0|       40|         India|  >50K|\n",
            "| 23|          Private|122272|    Bachelors|     13|       Never-married|      Adm-clerical|     Own-child|              White| Female|    0|   0|       30| United-States| <=50K|\n",
            "| 32|          Private|205019|   Assoc-acdm|     12|       Never-married|             Sales| Not-in-family|              Black|   Male|    0|   0|       50| United-States| <=50K|\n",
            "| 40|          Private|121772|    Assoc-voc|     11|  Married-civ-spouse|      Craft-repair|       Husband| Asian-Pac-Islander|   Male|    0|   0|       40| United-States|  >50K|\n",
            "| 34|          Private|245487|      7th-8th|      4|  Married-civ-spouse|  Transport-moving|       Husband| Amer-Indian-Eskimo|   Male|    0|   0|       45|        Mexico| <=50K|\n",
            "| 25| Self-emp-not-inc|176756|      HS-grad|      9|       Never-married|   Farming-fishing|     Own-child|              White|   Male|    0|   0|       35| United-States| <=50K|\n",
            "| 32|          Private|186824|      HS-grad|      9|       Never-married| Machine-op-inspct|     Unmarried|              White|   Male|    0|   0|       40| United-States| <=50K|\n",
            "| 38|          Private| 28887|         11th|      7|  Married-civ-spouse|             Sales|       Husband|              White|   Male|    0|   0|       50| United-States| <=50K|\n",
            "| 43| Self-emp-not-inc|292175|      Masters|     14|            Divorced|   Exec-managerial|     Unmarried|              White| Female|    0|   0|       45| United-States|  >50K|\n",
            "+---+-----------------+------+-------------+-------+--------------------+------------------+--------------+-------------------+-------+-----+----+---------+--------------+------+\n",
            "only showing top 20 rows\n",
            "\n"
          ]
        }
      ]
    },
    {
      "cell_type": "code",
      "source": [
        "for col in categorical_cols:\n",
        "  index_df = indexer(new_df, col)\n",
        "  new_df = index_df"
      ],
      "metadata": {
        "id": "GMy8omytff3z",
        "colab": {
          "base_uri": "https://localhost:8080/",
          "height": 335
        },
        "outputId": "e015a7e9-5728-47ec-8ce1-54490b9916b6"
      },
      "execution_count": null,
      "outputs": [
        {
          "output_type": "error",
          "ename": "IllegalArgumentException",
          "evalue": "requirement failed: Output column workclass_index already exists.",
          "traceback": [
            "\u001b[0;31m---------------------------------------------------------------------------\u001b[0m",
            "\u001b[0;31mIllegalArgumentException\u001b[0m                  Traceback (most recent call last)",
            "\u001b[0;32m<ipython-input-154-c7b2ea9e72e8>\u001b[0m in \u001b[0;36m<cell line: 1>\u001b[0;34m()\u001b[0m\n\u001b[1;32m      1\u001b[0m \u001b[0;32mfor\u001b[0m \u001b[0mcol\u001b[0m \u001b[0;32min\u001b[0m \u001b[0mcategorical_cols\u001b[0m\u001b[0;34m:\u001b[0m\u001b[0;34m\u001b[0m\u001b[0;34m\u001b[0m\u001b[0m\n\u001b[0;32m----> 2\u001b[0;31m   \u001b[0mindex_df\u001b[0m \u001b[0;34m=\u001b[0m \u001b[0mindexer\u001b[0m\u001b[0;34m(\u001b[0m\u001b[0mnew_df\u001b[0m\u001b[0;34m,\u001b[0m \u001b[0mcol\u001b[0m\u001b[0;34m)\u001b[0m\u001b[0;34m\u001b[0m\u001b[0;34m\u001b[0m\u001b[0m\n\u001b[0m\u001b[1;32m      3\u001b[0m   \u001b[0mnew_df\u001b[0m \u001b[0;34m=\u001b[0m \u001b[0mindex_df\u001b[0m\u001b[0;34m\u001b[0m\u001b[0;34m\u001b[0m\u001b[0m\n",
            "\u001b[0;32m<ipython-input-151-9b4c7aae11ad>\u001b[0m in \u001b[0;36mindexer\u001b[0;34m(df, col)\u001b[0m\n\u001b[1;32m      1\u001b[0m \u001b[0;32mdef\u001b[0m \u001b[0mindexer\u001b[0m\u001b[0;34m(\u001b[0m\u001b[0mdf\u001b[0m\u001b[0;34m,\u001b[0m \u001b[0mcol\u001b[0m\u001b[0;34m)\u001b[0m\u001b[0;34m:\u001b[0m\u001b[0;34m\u001b[0m\u001b[0;34m\u001b[0m\u001b[0m\n\u001b[1;32m      2\u001b[0m   \u001b[0mindexer\u001b[0m \u001b[0;34m=\u001b[0m \u001b[0mStringIndexer\u001b[0m\u001b[0;34m(\u001b[0m\u001b[0minputCol\u001b[0m \u001b[0;34m=\u001b[0m \u001b[0mcol\u001b[0m \u001b[0;34m,\u001b[0m \u001b[0moutputCol\u001b[0m \u001b[0;34m=\u001b[0m \u001b[0;34mf'{col}_index'\u001b[0m\u001b[0;34m,\u001b[0m \u001b[0mhandleInvalid\u001b[0m \u001b[0;34m=\u001b[0m \u001b[0;34m'keep'\u001b[0m\u001b[0;34m)\u001b[0m\u001b[0;34m\u001b[0m\u001b[0;34m\u001b[0m\u001b[0m\n\u001b[0;32m----> 3\u001b[0;31m   \u001b[0mindexed\u001b[0m \u001b[0;34m=\u001b[0m \u001b[0mindexer\u001b[0m\u001b[0;34m.\u001b[0m\u001b[0mfit\u001b[0m\u001b[0;34m(\u001b[0m\u001b[0mdf\u001b[0m\u001b[0;34m)\u001b[0m\u001b[0;34m.\u001b[0m\u001b[0mtransform\u001b[0m\u001b[0;34m(\u001b[0m\u001b[0mdf\u001b[0m\u001b[0;34m)\u001b[0m\u001b[0;34m\u001b[0m\u001b[0;34m\u001b[0m\u001b[0m\n\u001b[0m\u001b[1;32m      4\u001b[0m   \u001b[0;32mreturn\u001b[0m \u001b[0mindexed\u001b[0m\u001b[0;34m\u001b[0m\u001b[0;34m\u001b[0m\u001b[0m\n\u001b[1;32m      5\u001b[0m \u001b[0;34m\u001b[0m\u001b[0m\n",
            "\u001b[0;32m/usr/local/lib/python3.10/dist-packages/pyspark/ml/base.py\u001b[0m in \u001b[0;36mfit\u001b[0;34m(self, dataset, params)\u001b[0m\n\u001b[1;32m    203\u001b[0m                 \u001b[0;32mreturn\u001b[0m \u001b[0mself\u001b[0m\u001b[0;34m.\u001b[0m\u001b[0mcopy\u001b[0m\u001b[0;34m(\u001b[0m\u001b[0mparams\u001b[0m\u001b[0;34m)\u001b[0m\u001b[0;34m.\u001b[0m\u001b[0m_fit\u001b[0m\u001b[0;34m(\u001b[0m\u001b[0mdataset\u001b[0m\u001b[0;34m)\u001b[0m\u001b[0;34m\u001b[0m\u001b[0;34m\u001b[0m\u001b[0m\n\u001b[1;32m    204\u001b[0m             \u001b[0;32melse\u001b[0m\u001b[0;34m:\u001b[0m\u001b[0;34m\u001b[0m\u001b[0;34m\u001b[0m\u001b[0m\n\u001b[0;32m--> 205\u001b[0;31m                 \u001b[0;32mreturn\u001b[0m \u001b[0mself\u001b[0m\u001b[0;34m.\u001b[0m\u001b[0m_fit\u001b[0m\u001b[0;34m(\u001b[0m\u001b[0mdataset\u001b[0m\u001b[0;34m)\u001b[0m\u001b[0;34m\u001b[0m\u001b[0;34m\u001b[0m\u001b[0m\n\u001b[0m\u001b[1;32m    206\u001b[0m         \u001b[0;32melse\u001b[0m\u001b[0;34m:\u001b[0m\u001b[0;34m\u001b[0m\u001b[0;34m\u001b[0m\u001b[0m\n\u001b[1;32m    207\u001b[0m             raise TypeError(\n",
            "\u001b[0;32m/usr/local/lib/python3.10/dist-packages/pyspark/ml/wrapper.py\u001b[0m in \u001b[0;36m_fit\u001b[0;34m(self, dataset)\u001b[0m\n\u001b[1;32m    379\u001b[0m \u001b[0;34m\u001b[0m\u001b[0m\n\u001b[1;32m    380\u001b[0m     \u001b[0;32mdef\u001b[0m \u001b[0m_fit\u001b[0m\u001b[0;34m(\u001b[0m\u001b[0mself\u001b[0m\u001b[0;34m,\u001b[0m \u001b[0mdataset\u001b[0m\u001b[0;34m:\u001b[0m \u001b[0mDataFrame\u001b[0m\u001b[0;34m)\u001b[0m \u001b[0;34m->\u001b[0m \u001b[0mJM\u001b[0m\u001b[0;34m:\u001b[0m\u001b[0;34m\u001b[0m\u001b[0;34m\u001b[0m\u001b[0m\n\u001b[0;32m--> 381\u001b[0;31m         \u001b[0mjava_model\u001b[0m \u001b[0;34m=\u001b[0m \u001b[0mself\u001b[0m\u001b[0;34m.\u001b[0m\u001b[0m_fit_java\u001b[0m\u001b[0;34m(\u001b[0m\u001b[0mdataset\u001b[0m\u001b[0;34m)\u001b[0m\u001b[0;34m\u001b[0m\u001b[0;34m\u001b[0m\u001b[0m\n\u001b[0m\u001b[1;32m    382\u001b[0m         \u001b[0mmodel\u001b[0m \u001b[0;34m=\u001b[0m \u001b[0mself\u001b[0m\u001b[0;34m.\u001b[0m\u001b[0m_create_model\u001b[0m\u001b[0;34m(\u001b[0m\u001b[0mjava_model\u001b[0m\u001b[0;34m)\u001b[0m\u001b[0;34m\u001b[0m\u001b[0;34m\u001b[0m\u001b[0m\n\u001b[1;32m    383\u001b[0m         \u001b[0;32mreturn\u001b[0m \u001b[0mself\u001b[0m\u001b[0;34m.\u001b[0m\u001b[0m_copyValues\u001b[0m\u001b[0;34m(\u001b[0m\u001b[0mmodel\u001b[0m\u001b[0;34m)\u001b[0m\u001b[0;34m\u001b[0m\u001b[0;34m\u001b[0m\u001b[0m\n",
            "\u001b[0;32m/usr/local/lib/python3.10/dist-packages/pyspark/ml/wrapper.py\u001b[0m in \u001b[0;36m_fit_java\u001b[0;34m(self, dataset)\u001b[0m\n\u001b[1;32m    376\u001b[0m \u001b[0;34m\u001b[0m\u001b[0m\n\u001b[1;32m    377\u001b[0m         \u001b[0mself\u001b[0m\u001b[0;34m.\u001b[0m\u001b[0m_transfer_params_to_java\u001b[0m\u001b[0;34m(\u001b[0m\u001b[0;34m)\u001b[0m\u001b[0;34m\u001b[0m\u001b[0;34m\u001b[0m\u001b[0m\n\u001b[0;32m--> 378\u001b[0;31m         \u001b[0;32mreturn\u001b[0m \u001b[0mself\u001b[0m\u001b[0;34m.\u001b[0m\u001b[0m_java_obj\u001b[0m\u001b[0;34m.\u001b[0m\u001b[0mfit\u001b[0m\u001b[0;34m(\u001b[0m\u001b[0mdataset\u001b[0m\u001b[0;34m.\u001b[0m\u001b[0m_jdf\u001b[0m\u001b[0;34m)\u001b[0m\u001b[0;34m\u001b[0m\u001b[0;34m\u001b[0m\u001b[0m\n\u001b[0m\u001b[1;32m    379\u001b[0m \u001b[0;34m\u001b[0m\u001b[0m\n\u001b[1;32m    380\u001b[0m     \u001b[0;32mdef\u001b[0m \u001b[0m_fit\u001b[0m\u001b[0;34m(\u001b[0m\u001b[0mself\u001b[0m\u001b[0;34m,\u001b[0m \u001b[0mdataset\u001b[0m\u001b[0;34m:\u001b[0m \u001b[0mDataFrame\u001b[0m\u001b[0;34m)\u001b[0m \u001b[0;34m->\u001b[0m \u001b[0mJM\u001b[0m\u001b[0;34m:\u001b[0m\u001b[0;34m\u001b[0m\u001b[0;34m\u001b[0m\u001b[0m\n",
            "\u001b[0;32m/usr/local/lib/python3.10/dist-packages/py4j/java_gateway.py\u001b[0m in \u001b[0;36m__call__\u001b[0;34m(self, *args)\u001b[0m\n\u001b[1;32m   1320\u001b[0m \u001b[0;34m\u001b[0m\u001b[0m\n\u001b[1;32m   1321\u001b[0m         \u001b[0manswer\u001b[0m \u001b[0;34m=\u001b[0m \u001b[0mself\u001b[0m\u001b[0;34m.\u001b[0m\u001b[0mgateway_client\u001b[0m\u001b[0;34m.\u001b[0m\u001b[0msend_command\u001b[0m\u001b[0;34m(\u001b[0m\u001b[0mcommand\u001b[0m\u001b[0;34m)\u001b[0m\u001b[0;34m\u001b[0m\u001b[0;34m\u001b[0m\u001b[0m\n\u001b[0;32m-> 1322\u001b[0;31m         return_value = get_return_value(\n\u001b[0m\u001b[1;32m   1323\u001b[0m             answer, self.gateway_client, self.target_id, self.name)\n\u001b[1;32m   1324\u001b[0m \u001b[0;34m\u001b[0m\u001b[0m\n",
            "\u001b[0;32m/usr/local/lib/python3.10/dist-packages/pyspark/errors/exceptions/captured.py\u001b[0m in \u001b[0;36mdeco\u001b[0;34m(*a, **kw)\u001b[0m\n\u001b[1;32m    183\u001b[0m                 \u001b[0;31m# Hide where the exception came from that shows a non-Pythonic\u001b[0m\u001b[0;34m\u001b[0m\u001b[0;34m\u001b[0m\u001b[0m\n\u001b[1;32m    184\u001b[0m                 \u001b[0;31m# JVM exception message.\u001b[0m\u001b[0;34m\u001b[0m\u001b[0;34m\u001b[0m\u001b[0m\n\u001b[0;32m--> 185\u001b[0;31m                 \u001b[0;32mraise\u001b[0m \u001b[0mconverted\u001b[0m \u001b[0;32mfrom\u001b[0m \u001b[0;32mNone\u001b[0m\u001b[0;34m\u001b[0m\u001b[0;34m\u001b[0m\u001b[0m\n\u001b[0m\u001b[1;32m    186\u001b[0m             \u001b[0;32melse\u001b[0m\u001b[0;34m:\u001b[0m\u001b[0;34m\u001b[0m\u001b[0;34m\u001b[0m\u001b[0m\n\u001b[1;32m    187\u001b[0m                 \u001b[0;32mraise\u001b[0m\u001b[0;34m\u001b[0m\u001b[0;34m\u001b[0m\u001b[0m\n",
            "\u001b[0;31mIllegalArgumentException\u001b[0m: requirement failed: Output column workclass_index already exists."
          ]
        }
      ]
    },
    {
      "cell_type": "code",
      "source": [
        "new_df.show()"
      ],
      "metadata": {
        "id": "0WtvMZhShfZF",
        "outputId": "ec603f19-3522-448b-d0b4-65b7485d00b8",
        "colab": {
          "base_uri": "https://localhost:8080/"
        }
      },
      "execution_count": null,
      "outputs": [
        {
          "output_type": "stream",
          "name": "stdout",
          "text": [
            "+---+-----------------+------+-------------+-------+--------------------+------------------+--------------+-------------------+-------+-----+----+---------+--------------+------+---------------+---------------+-------------+----------------+--------------+----------+------------+-------------+------------+\n",
            "|age|        workclass|fnlwgt|    education|numbers|             marital|        occupation|      relation|               race| gender| gain|loss|hourlypay|       country|income|workclass_index|education_index|marital_index|occupation_index|relation_index|race_index|gender_index|country_index|income_index|\n",
            "+---+-----------------+------+-------------+-------+--------------------+------------------+--------------+-------------------+-------+-----+----+---------+--------------+------+---------------+---------------+-------------+----------------+--------------+----------+------------+-------------+------------+\n",
            "| 39|        State-gov| 77516|    Bachelors|     13|       Never-married|      Adm-clerical| Not-in-family|              White|   Male| 2174|   0|       40| United-States| <=50K|            4.0|            2.0|          1.0|             3.0|           1.0|       0.0|         0.0|          0.0|         0.0|\n",
            "| 50| Self-emp-not-inc| 83311|    Bachelors|     13|  Married-civ-spouse|   Exec-managerial|       Husband|              White|   Male|    0|   0|       13| United-States| <=50K|            1.0|            2.0|          0.0|             2.0|           0.0|       0.0|         0.0|          0.0|         0.0|\n",
            "| 38|          Private|215646|      HS-grad|      9|            Divorced| Handlers-cleaners| Not-in-family|              White|   Male|    0|   0|       40| United-States| <=50K|            0.0|            0.0|          2.0|             9.0|           1.0|       0.0|         0.0|          0.0|         0.0|\n",
            "| 53|          Private|234721|         11th|      7|  Married-civ-spouse| Handlers-cleaners|       Husband|              Black|   Male|    0|   0|       40| United-States| <=50K|            0.0|            5.0|          0.0|             9.0|           0.0|       1.0|         0.0|          0.0|         0.0|\n",
            "| 28|          Private|338409|    Bachelors|     13|  Married-civ-spouse|    Prof-specialty|          Wife|              Black| Female|    0|   0|       40|          Cuba| <=50K|            0.0|            2.0|          0.0|             0.0|           4.0|       1.0|         1.0|          9.0|         0.0|\n",
            "| 37|          Private|284582|      Masters|     14|  Married-civ-spouse|   Exec-managerial|          Wife|              White| Female|    0|   0|       40| United-States| <=50K|            0.0|            3.0|          0.0|             2.0|           4.0|       0.0|         1.0|          0.0|         0.0|\n",
            "| 49|          Private|160187|          9th|      5| Married-spouse-a...|     Other-service| Not-in-family|              Black| Female|    0|   0|       16|       Jamaica| <=50K|            0.0|           10.0|          5.0|             5.0|           1.0|       1.0|         1.0|         11.0|         0.0|\n",
            "| 52| Self-emp-not-inc|209642|      HS-grad|      9|  Married-civ-spouse|   Exec-managerial|       Husband|              White|   Male|    0|   0|       45| United-States|  >50K|            1.0|            0.0|          0.0|             2.0|           0.0|       0.0|         0.0|          0.0|         1.0|\n",
            "| 31|          Private| 45781|      Masters|     14|       Never-married|    Prof-specialty| Not-in-family|              White| Female|14084|   0|       50| United-States|  >50K|            0.0|            3.0|          1.0|             0.0|           1.0|       0.0|         1.0|          0.0|         1.0|\n",
            "| 42|          Private|159449|    Bachelors|     13|  Married-civ-spouse|   Exec-managerial|       Husband|              White|   Male| 5178|   0|       40| United-States|  >50K|            0.0|            2.0|          0.0|             2.0|           0.0|       0.0|         0.0|          0.0|         1.0|\n",
            "| 37|          Private|280464| Some-college|     10|  Married-civ-spouse|   Exec-managerial|       Husband|              Black|   Male|    0|   0|       80| United-States|  >50K|            0.0|            1.0|          0.0|             2.0|           0.0|       1.0|         0.0|          0.0|         1.0|\n",
            "| 30|        State-gov|141297|    Bachelors|     13|  Married-civ-spouse|    Prof-specialty|       Husband| Asian-Pac-Islander|   Male|    0|   0|       40|         India|  >50K|            4.0|            2.0|          0.0|             0.0|           0.0|       2.0|         0.0|          8.0|         1.0|\n",
            "| 23|          Private|122272|    Bachelors|     13|       Never-married|      Adm-clerical|     Own-child|              White| Female|    0|   0|       30| United-States| <=50K|            0.0|            2.0|          1.0|             3.0|           2.0|       0.0|         1.0|          0.0|         0.0|\n",
            "| 32|          Private|205019|   Assoc-acdm|     12|       Never-married|             Sales| Not-in-family|              Black|   Male|    0|   0|       50| United-States| <=50K|            0.0|            6.0|          1.0|             4.0|           1.0|       1.0|         0.0|          0.0|         0.0|\n",
            "| 40|          Private|121772|    Assoc-voc|     11|  Married-civ-spouse|      Craft-repair|       Husband| Asian-Pac-Islander|   Male|    0|   0|       40|             ?|  >50K|            0.0|            4.0|          0.0|             1.0|           0.0|       2.0|         0.0|          2.0|         1.0|\n",
            "| 34|          Private|245487|      7th-8th|      4|  Married-civ-spouse|  Transport-moving|       Husband| Amer-Indian-Eskimo|   Male|    0|   0|       45|        Mexico| <=50K|            0.0|            8.0|          0.0|             8.0|           0.0|       3.0|         0.0|          1.0|         0.0|\n",
            "| 25| Self-emp-not-inc|176756|      HS-grad|      9|       Never-married|   Farming-fishing|     Own-child|              White|   Male|    0|   0|       35| United-States| <=50K|            1.0|            0.0|          1.0|            10.0|           2.0|       0.0|         0.0|          0.0|         0.0|\n",
            "| 32|          Private|186824|      HS-grad|      9|       Never-married| Machine-op-inspct|     Unmarried|              White|   Male|    0|   0|       40| United-States| <=50K|            0.0|            0.0|          1.0|             6.0|           3.0|       0.0|         0.0|          0.0|         0.0|\n",
            "| 38|          Private| 28887|         11th|      7|  Married-civ-spouse|             Sales|       Husband|              White|   Male|    0|   0|       50| United-States| <=50K|            0.0|            5.0|          0.0|             4.0|           0.0|       0.0|         0.0|          0.0|         0.0|\n",
            "| 43| Self-emp-not-inc|292175|      Masters|     14|            Divorced|   Exec-managerial|     Unmarried|              White| Female|    0|   0|       45| United-States|  >50K|            1.0|            3.0|          2.0|             2.0|           3.0|       0.0|         1.0|          0.0|         1.0|\n",
            "+---+-----------------+------+-------------+-------+--------------------+------------------+--------------+-------------------+-------+-----+----+---------+--------------+------+---------------+---------------+-------------+----------------+--------------+----------+------------+-------------+------------+\n",
            "only showing top 20 rows\n",
            "\n"
          ]
        }
      ]
    },
    {
      "cell_type": "code",
      "source": [
        "from pyspark.ml.stat import Correlation\n"
      ],
      "metadata": {
        "id": "RdsE9U4siJNK"
      },
      "execution_count": null,
      "outputs": []
    },
    {
      "cell_type": "code",
      "source": [
        "assembler = VectorAssembler(inputCols = [f'{c}_index' for c in categorical_cols] + numeric_cols, outputCol = 'features')"
      ],
      "metadata": {
        "id": "3O-y31WTj27R"
      },
      "execution_count": null,
      "outputs": []
    },
    {
      "cell_type": "code",
      "source": [
        "vector = assembler.transform(new_df)"
      ],
      "metadata": {
        "id": "6UudzPtGj8GV"
      },
      "execution_count": null,
      "outputs": []
    },
    {
      "cell_type": "code",
      "source": [
        "vector.show()"
      ],
      "metadata": {
        "colab": {
          "base_uri": "https://localhost:8080/"
        },
        "id": "ZmqW2EjVkN3I",
        "outputId": "16952ae5-e9f3-4a08-eb26-a4f638798326"
      },
      "execution_count": null,
      "outputs": [
        {
          "output_type": "stream",
          "name": "stdout",
          "text": [
            "+---+-----------------+------+-------------+-------+--------------------+------------------+--------------+-------------------+-------+-----+----+---------+--------------+------+---------------+---------------+-------------+----------------+--------------+----------+------------+-------------+------------+--------------------+\n",
            "|age|        workclass|fnlwgt|    education|numbers|             marital|        occupation|      relation|               race| gender| gain|loss|hourlypay|       country|income|workclass_index|education_index|marital_index|occupation_index|relation_index|race_index|gender_index|country_index|income_index|            features|\n",
            "+---+-----------------+------+-------------+-------+--------------------+------------------+--------------+-------------------+-------+-----+----+---------+--------------+------+---------------+---------------+-------------+----------------+--------------+----------+------------+-------------+------------+--------------------+\n",
            "| 39|        State-gov| 77516|    Bachelors|     13|       Never-married|      Adm-clerical| Not-in-family|              White|   Male| 2174|   0|       40| United-States| <=50K|            4.0|            2.0|          1.0|             3.0|           1.0|       0.0|         0.0|          0.0|         0.0|[4.0,2.0,1.0,3.0,...|\n",
            "| 50| Self-emp-not-inc| 83311|    Bachelors|     13|  Married-civ-spouse|   Exec-managerial|       Husband|              White|   Male|    0|   0|       13| United-States| <=50K|            1.0|            2.0|          0.0|             2.0|           0.0|       0.0|         0.0|          0.0|         0.0|(14,[0,1,3,8,9,10...|\n",
            "| 38|          Private|215646|      HS-grad|      9|            Divorced| Handlers-cleaners| Not-in-family|              White|   Male|    0|   0|       40| United-States| <=50K|            0.0|            0.0|          2.0|             9.0|           1.0|       0.0|         0.0|          0.0|         0.0|(14,[2,3,4,8,9,10...|\n",
            "| 53|          Private|234721|         11th|      7|  Married-civ-spouse| Handlers-cleaners|       Husband|              Black|   Male|    0|   0|       40| United-States| <=50K|            0.0|            5.0|          0.0|             9.0|           0.0|       1.0|         0.0|          0.0|         0.0|(14,[1,3,5,8,9,10...|\n",
            "| 28|          Private|338409|    Bachelors|     13|  Married-civ-spouse|    Prof-specialty|          Wife|              Black| Female|    0|   0|       40|          Cuba| <=50K|            0.0|            2.0|          0.0|             0.0|           4.0|       1.0|         1.0|          9.0|         0.0|[0.0,2.0,0.0,0.0,...|\n",
            "| 37|          Private|284582|      Masters|     14|  Married-civ-spouse|   Exec-managerial|          Wife|              White| Female|    0|   0|       40| United-States| <=50K|            0.0|            3.0|          0.0|             2.0|           4.0|       0.0|         1.0|          0.0|         0.0|(14,[1,3,4,6,8,9,...|\n",
            "| 49|          Private|160187|          9th|      5| Married-spouse-a...|     Other-service| Not-in-family|              Black| Female|    0|   0|       16|       Jamaica| <=50K|            0.0|           10.0|          5.0|             5.0|           1.0|       1.0|         1.0|         11.0|         0.0|[0.0,10.0,5.0,5.0...|\n",
            "| 52| Self-emp-not-inc|209642|      HS-grad|      9|  Married-civ-spouse|   Exec-managerial|       Husband|              White|   Male|    0|   0|       45| United-States|  >50K|            1.0|            0.0|          0.0|             2.0|           0.0|       0.0|         0.0|          0.0|         1.0|(14,[0,3,8,9,10,1...|\n",
            "| 31|          Private| 45781|      Masters|     14|       Never-married|    Prof-specialty| Not-in-family|              White| Female|14084|   0|       50| United-States|  >50K|            0.0|            3.0|          1.0|             0.0|           1.0|       0.0|         1.0|          0.0|         1.0|[0.0,3.0,1.0,0.0,...|\n",
            "| 42|          Private|159449|    Bachelors|     13|  Married-civ-spouse|   Exec-managerial|       Husband|              White|   Male| 5178|   0|       40| United-States|  >50K|            0.0|            2.0|          0.0|             2.0|           0.0|       0.0|         0.0|          0.0|         1.0|(14,[1,3,8,9,10,1...|\n",
            "| 37|          Private|280464| Some-college|     10|  Married-civ-spouse|   Exec-managerial|       Husband|              Black|   Male|    0|   0|       80| United-States|  >50K|            0.0|            1.0|          0.0|             2.0|           0.0|       1.0|         0.0|          0.0|         1.0|(14,[1,3,5,8,9,10...|\n",
            "| 30|        State-gov|141297|    Bachelors|     13|  Married-civ-spouse|    Prof-specialty|       Husband| Asian-Pac-Islander|   Male|    0|   0|       40|         India|  >50K|            4.0|            2.0|          0.0|             0.0|           0.0|       2.0|         0.0|          8.0|         1.0|(14,[0,1,5,7,8,9,...|\n",
            "| 23|          Private|122272|    Bachelors|     13|       Never-married|      Adm-clerical|     Own-child|              White| Female|    0|   0|       30| United-States| <=50K|            0.0|            2.0|          1.0|             3.0|           2.0|       0.0|         1.0|          0.0|         0.0|[0.0,2.0,1.0,3.0,...|\n",
            "| 32|          Private|205019|   Assoc-acdm|     12|       Never-married|             Sales| Not-in-family|              Black|   Male|    0|   0|       50| United-States| <=50K|            0.0|            6.0|          1.0|             4.0|           1.0|       1.0|         0.0|          0.0|         0.0|[0.0,6.0,1.0,4.0,...|\n",
            "| 40|          Private|121772|    Assoc-voc|     11|  Married-civ-spouse|      Craft-repair|       Husband| Asian-Pac-Islander|   Male|    0|   0|       40|             ?|  >50K|            0.0|            4.0|          0.0|             1.0|           0.0|       2.0|         0.0|          2.0|         1.0|(14,[1,3,5,7,8,9,...|\n",
            "| 34|          Private|245487|      7th-8th|      4|  Married-civ-spouse|  Transport-moving|       Husband| Amer-Indian-Eskimo|   Male|    0|   0|       45|        Mexico| <=50K|            0.0|            8.0|          0.0|             8.0|           0.0|       3.0|         0.0|          1.0|         0.0|(14,[1,3,5,7,8,9,...|\n",
            "| 25| Self-emp-not-inc|176756|      HS-grad|      9|       Never-married|   Farming-fishing|     Own-child|              White|   Male|    0|   0|       35| United-States| <=50K|            1.0|            0.0|          1.0|            10.0|           2.0|       0.0|         0.0|          0.0|         0.0|(14,[0,2,3,4,8,9,...|\n",
            "| 32|          Private|186824|      HS-grad|      9|       Never-married| Machine-op-inspct|     Unmarried|              White|   Male|    0|   0|       40| United-States| <=50K|            0.0|            0.0|          1.0|             6.0|           3.0|       0.0|         0.0|          0.0|         0.0|(14,[2,3,4,8,9,10...|\n",
            "| 38|          Private| 28887|         11th|      7|  Married-civ-spouse|             Sales|       Husband|              White|   Male|    0|   0|       50| United-States| <=50K|            0.0|            5.0|          0.0|             4.0|           0.0|       0.0|         0.0|          0.0|         0.0|(14,[1,3,8,9,10,1...|\n",
            "| 43| Self-emp-not-inc|292175|      Masters|     14|            Divorced|   Exec-managerial|     Unmarried|              White| Female|    0|   0|       45| United-States|  >50K|            1.0|            3.0|          2.0|             2.0|           3.0|       0.0|         1.0|          0.0|         1.0|[1.0,3.0,2.0,2.0,...|\n",
            "+---+-----------------+------+-------------+-------+--------------------+------------------+--------------+-------------------+-------+-----+----+---------+--------------+------+---------------+---------------+-------------+----------------+--------------+----------+------------+-------------+------------+--------------------+\n",
            "only showing top 20 rows\n",
            "\n"
          ]
        }
      ]
    },
    {
      "cell_type": "code",
      "source": [],
      "metadata": {
        "id": "PvleWHZYzLzY"
      },
      "execution_count": null,
      "outputs": []
    },
    {
      "cell_type": "code",
      "source": [
        "col = [f'{c}_index' for c in categorical_cols] + numeric_cols"
      ],
      "metadata": {
        "id": "Ngudhh94lySc"
      },
      "execution_count": null,
      "outputs": []
    },
    {
      "cell_type": "code",
      "source": [
        "r1 =Correlation.corr(vector, 'features').head()"
      ],
      "metadata": {
        "id": "iWJmdKBbkTAn"
      },
      "execution_count": null,
      "outputs": []
    },
    {
      "cell_type": "code",
      "source": [
        "print(\"Pearson correlation matrix:\\n\" + str(r1[0]))"
      ],
      "metadata": {
        "colab": {
          "base_uri": "https://localhost:8080/"
        },
        "id": "mNve8xFUlhB_",
        "outputId": "7dc97f8f-1eae-4302-c4e4-ea4787b30524"
      },
      "execution_count": null,
      "outputs": [
        {
          "output_type": "stream",
          "name": "stdout",
          "text": [
            "Pearson correlation matrix:\n",
            "DenseMatrix([[ 1.00000000e+00,  2.50587933e-02, -2.09477645e-02,\n",
            "               4.22182173e-03, -4.52925664e-02,  1.89958265e-02,\n",
            "              -1.64130127e-02, -2.13924109e-02,  1.02229290e-01,\n",
            "               1.54389798e-01, -3.21605500e-02,  1.27681211e-01,\n",
            "               4.18082447e-02,  2.39291045e-02,  1.36880859e-02],\n",
            "             [ 2.50587933e-02,  1.00000000e+00, -5.43462520e-03,\n",
            "              -1.64882302e-02, -1.40352218e-02,  3.20378119e-02,\n",
            "              -4.02158184e-02,  8.29998874e-02,  4.24489521e-02,\n",
            "               7.61125290e-02,  3.44838605e-02, -1.70081765e-01,\n",
            "               5.92847625e-02,  2.19380216e-02, -7.92952053e-03],\n",
            "             [-2.09477645e-02, -5.43462520e-03,  1.00000000e+00,\n",
            "               4.46472295e-02,  4.11140727e-01,  6.89439876e-02,\n",
            "               4.08301403e-01,  2.15264796e-02, -3.11287762e-01,\n",
            "               3.05672475e-02,  5.44716467e-03, -1.04875923e-01,\n",
            "              -5.77145430e-02, -5.33565354e-02, -1.46710908e-01],\n",
            "             [ 4.22182173e-03, -1.64882302e-02,  4.46472295e-02,\n",
            "               1.00000000e+00,  5.26551559e-02,  3.65779801e-02,\n",
            "              -3.45841719e-02, -3.12960698e-04, -1.85636046e-01,\n",
            "              -5.94372268e-02,  1.55878428e-02, -3.16549423e-01,\n",
            "              -7.14539715e-02, -4.84307107e-02, -7.72239669e-02],\n",
            "             [-4.52925664e-02, -1.40352218e-02,  4.11140727e-01,\n",
            "               5.26551559e-02,  1.00000000e+00,  1.13958969e-01,\n",
            "               5.53330155e-01,  4.87439679e-02, -2.54292097e-01,\n",
            "              -2.35690407e-01,  1.81624688e-02, -1.10255651e-01,\n",
            "              -5.75767690e-02, -5.83702565e-02, -2.27606671e-01],\n",
            "             [ 1.89958265e-02,  3.20378119e-02,  6.89439876e-02,\n",
            "               3.65779801e-02,  1.13958969e-01,  1.00000000e+00,\n",
            "               6.78399222e-02,  2.17233824e-01, -6.77130720e-02,\n",
            "              -3.99995728e-02,  4.99831748e-04, -3.97595119e-02,\n",
            "              -7.99122568e-03, -1.71895897e-02, -3.31146865e-02],\n",
            "             [-1.64130127e-02, -4.02158184e-02,  4.08301403e-01,\n",
            "              -3.45841719e-02,  5.53330155e-01,  6.78399222e-02,\n",
            "               1.00000000e+00,  1.20410998e-02, -2.15980151e-01,\n",
            "              -8.88317312e-02, -2.68580453e-02, -1.22800543e-02,\n",
            "              -4.84796469e-02, -4.55673547e-02, -2.29309149e-01],\n",
            "             [-2.13924109e-02,  8.29998874e-02,  2.15264796e-02,\n",
            "              -3.12960698e-04,  4.87439679e-02,  2.17233824e-01,\n",
            "               1.20410998e-02,  1.00000000e+00, -1.85824005e-02,\n",
            "               5.03409906e-05,  2.20450580e-02, -2.88340795e-02,\n",
            "              -7.87461293e-03, -3.89271091e-03, -3.36369371e-03],\n",
            "             [ 1.02229290e-01,  4.24489521e-02, -3.11287762e-01,\n",
            "              -1.85636046e-01, -2.54292097e-01, -6.77130720e-02,\n",
            "              -2.15980151e-01, -1.85824005e-02,  1.00000000e+00,\n",
            "               2.34037103e-01, -9.46255725e-03,  3.35153953e-01,\n",
            "               2.23328818e-01,  1.50526312e-01,  2.29689066e-01],\n",
            "             [ 1.54389798e-01,  7.61125290e-02,  3.05672475e-02,\n",
            "              -5.94372268e-02, -2.35690407e-01, -3.99995728e-02,\n",
            "              -8.88317312e-02,  5.03409906e-05,  2.34037103e-01,\n",
            "               1.00000000e+00, -7.66458679e-02,  3.65271895e-02,\n",
            "               7.76744982e-02,  5.77745395e-02,  6.87557075e-02],\n",
            "             [-3.21605500e-02,  3.44838605e-02,  5.44716467e-03,\n",
            "               1.55878428e-02,  1.81624688e-02,  4.99831748e-04,\n",
            "              -2.68580453e-02,  2.20450580e-02, -9.46255725e-03,\n",
            "              -7.66458679e-02,  1.00000000e+00, -4.31946327e-02,\n",
            "               4.31885792e-04, -1.02517117e-02, -1.87684906e-02],\n",
            "             [ 1.27681211e-01, -1.70081765e-01, -1.04875923e-01,\n",
            "              -3.16549423e-01, -1.10255651e-01, -3.97595119e-02,\n",
            "              -1.22800543e-02, -2.88340795e-02,  3.35153953e-01,\n",
            "               3.65271895e-02, -4.31946327e-02,  1.00000000e+00,\n",
            "               1.22630115e-01,  7.99229567e-02,  1.48122733e-01],\n",
            "             [ 4.18082447e-02,  5.92847625e-02, -5.77145430e-02,\n",
            "              -7.14539715e-02, -5.75767690e-02, -7.99122568e-03,\n",
            "              -4.84796469e-02, -7.87461293e-03,  2.23328818e-01,\n",
            "               7.76744982e-02,  4.31885792e-04,  1.22630115e-01,\n",
            "               1.00000000e+00, -3.16150630e-02,  7.84086154e-02],\n",
            "             [ 2.39291045e-02,  2.19380216e-02, -5.33565354e-02,\n",
            "              -4.84307107e-02, -5.83702565e-02, -1.71895897e-02,\n",
            "              -4.55673547e-02, -3.89271091e-03,  1.50526312e-01,\n",
            "               5.77745395e-02, -1.02517117e-02,  7.99229567e-02,\n",
            "              -3.16150630e-02,  1.00000000e+00,  5.42563623e-02],\n",
            "             [ 1.36880859e-02, -7.92952053e-03, -1.46710908e-01,\n",
            "              -7.72239669e-02, -2.27606671e-01, -3.31146865e-02,\n",
            "              -2.29309149e-01, -3.36369371e-03,  2.29689066e-01,\n",
            "               6.87557075e-02, -1.87684906e-02,  1.48122733e-01,\n",
            "               7.84086154e-02,  5.42563623e-02,  1.00000000e+00]])\n"
          ]
        }
      ]
    },
    {
      "cell_type": "code",
      "source": [
        "from pyspark.ml.classification import NaiveBayes\n",
        "from pyspark.ml.evaluation import MulticlassClassificationEvaluator"
      ],
      "metadata": {
        "id": "iK5G_oXdmmfC"
      },
      "execution_count": null,
      "outputs": []
    },
    {
      "cell_type": "code",
      "source": [
        "nb = NaiveBayes(featuresCol = 'features' , labelCol = 'label', smoothing=1.0, modelType=\"multinomial\")"
      ],
      "metadata": {
        "id": "ZyVxb9FCmwYk"
      },
      "execution_count": null,
      "outputs": []
    },
    {
      "cell_type": "code",
      "source": [
        "splits = data.randomSplit([0.6, 0.4], 1234)\n",
        "train = splits[0]\n",
        "test = splits[1]"
      ],
      "metadata": {
        "id": "tUfrNNiGmz86"
      },
      "execution_count": null,
      "outputs": []
    },
    {
      "cell_type": "code",
      "source": [
        "data = data.select('features', 'label')"
      ],
      "metadata": {
        "id": "pTH8vl7ynI38",
        "colab": {
          "base_uri": "https://localhost:8080/",
          "height": 353
        },
        "outputId": "1b4b57f8-2afb-4e86-aa4c-c76bf55dea87"
      },
      "execution_count": null,
      "outputs": [
        {
          "output_type": "error",
          "ename": "AnalysisException",
          "evalue": "[UNRESOLVED_COLUMN.WITH_SUGGESTION] A column or function parameter with name `features` cannot be resolved. Did you mean one of the following? [`_c0`, `_c1`, `_c10`, `_c11`, `_c12`].;\n'Project ['features, 'label]\n+- Relation [_c0#6193,_c1#6194,_c2#6195,_c3#6196,_c4#6197,_c5#6198,_c6#6199,_c7#6200,_c8#6201,_c9#6202,_c10#6203,_c11#6204,_c12#6205,_c13#6206,_c14#6207] csv\n",
          "traceback": [
            "\u001b[0;31m---------------------------------------------------------------------------\u001b[0m",
            "\u001b[0;31mAnalysisException\u001b[0m                         Traceback (most recent call last)",
            "\u001b[0;32m<ipython-input-159-bd3b852f008f>\u001b[0m in \u001b[0;36m<cell line: 1>\u001b[0;34m()\u001b[0m\n\u001b[0;32m----> 1\u001b[0;31m \u001b[0mdata\u001b[0m \u001b[0;34m=\u001b[0m \u001b[0mdata\u001b[0m\u001b[0;34m.\u001b[0m\u001b[0mselect\u001b[0m\u001b[0;34m(\u001b[0m\u001b[0;34m'features'\u001b[0m\u001b[0;34m,\u001b[0m \u001b[0;34m'label'\u001b[0m\u001b[0;34m)\u001b[0m\u001b[0;34m\u001b[0m\u001b[0;34m\u001b[0m\u001b[0m\n\u001b[0m",
            "\u001b[0;32m/usr/local/lib/python3.10/dist-packages/pyspark/sql/dataframe.py\u001b[0m in \u001b[0;36mselect\u001b[0;34m(self, *cols)\u001b[0m\n\u001b[1;32m   3221\u001b[0m         \u001b[0;34m+\u001b[0m\u001b[0;34m-\u001b[0m\u001b[0;34m-\u001b[0m\u001b[0;34m-\u001b[0m\u001b[0;34m-\u001b[0m\u001b[0;34m-\u001b[0m\u001b[0;34m+\u001b[0m\u001b[0;34m-\u001b[0m\u001b[0;34m-\u001b[0m\u001b[0;34m-\u001b[0m\u001b[0;34m+\u001b[0m\u001b[0;34m\u001b[0m\u001b[0;34m\u001b[0m\u001b[0m\n\u001b[1;32m   3222\u001b[0m         \"\"\"\n\u001b[0;32m-> 3223\u001b[0;31m         \u001b[0mjdf\u001b[0m \u001b[0;34m=\u001b[0m \u001b[0mself\u001b[0m\u001b[0;34m.\u001b[0m\u001b[0m_jdf\u001b[0m\u001b[0;34m.\u001b[0m\u001b[0mselect\u001b[0m\u001b[0;34m(\u001b[0m\u001b[0mself\u001b[0m\u001b[0;34m.\u001b[0m\u001b[0m_jcols\u001b[0m\u001b[0;34m(\u001b[0m\u001b[0;34m*\u001b[0m\u001b[0mcols\u001b[0m\u001b[0;34m)\u001b[0m\u001b[0;34m)\u001b[0m\u001b[0;34m\u001b[0m\u001b[0;34m\u001b[0m\u001b[0m\n\u001b[0m\u001b[1;32m   3224\u001b[0m         \u001b[0;32mreturn\u001b[0m \u001b[0mDataFrame\u001b[0m\u001b[0;34m(\u001b[0m\u001b[0mjdf\u001b[0m\u001b[0;34m,\u001b[0m \u001b[0mself\u001b[0m\u001b[0;34m.\u001b[0m\u001b[0msparkSession\u001b[0m\u001b[0;34m)\u001b[0m\u001b[0;34m\u001b[0m\u001b[0;34m\u001b[0m\u001b[0m\n\u001b[1;32m   3225\u001b[0m \u001b[0;34m\u001b[0m\u001b[0m\n",
            "\u001b[0;32m/usr/local/lib/python3.10/dist-packages/py4j/java_gateway.py\u001b[0m in \u001b[0;36m__call__\u001b[0;34m(self, *args)\u001b[0m\n\u001b[1;32m   1320\u001b[0m \u001b[0;34m\u001b[0m\u001b[0m\n\u001b[1;32m   1321\u001b[0m         \u001b[0manswer\u001b[0m \u001b[0;34m=\u001b[0m \u001b[0mself\u001b[0m\u001b[0;34m.\u001b[0m\u001b[0mgateway_client\u001b[0m\u001b[0;34m.\u001b[0m\u001b[0msend_command\u001b[0m\u001b[0;34m(\u001b[0m\u001b[0mcommand\u001b[0m\u001b[0;34m)\u001b[0m\u001b[0;34m\u001b[0m\u001b[0;34m\u001b[0m\u001b[0m\n\u001b[0;32m-> 1322\u001b[0;31m         return_value = get_return_value(\n\u001b[0m\u001b[1;32m   1323\u001b[0m             answer, self.gateway_client, self.target_id, self.name)\n\u001b[1;32m   1324\u001b[0m \u001b[0;34m\u001b[0m\u001b[0m\n",
            "\u001b[0;32m/usr/local/lib/python3.10/dist-packages/pyspark/errors/exceptions/captured.py\u001b[0m in \u001b[0;36mdeco\u001b[0;34m(*a, **kw)\u001b[0m\n\u001b[1;32m    183\u001b[0m                 \u001b[0;31m# Hide where the exception came from that shows a non-Pythonic\u001b[0m\u001b[0;34m\u001b[0m\u001b[0;34m\u001b[0m\u001b[0m\n\u001b[1;32m    184\u001b[0m                 \u001b[0;31m# JVM exception message.\u001b[0m\u001b[0;34m\u001b[0m\u001b[0;34m\u001b[0m\u001b[0m\n\u001b[0;32m--> 185\u001b[0;31m                 \u001b[0;32mraise\u001b[0m \u001b[0mconverted\u001b[0m \u001b[0;32mfrom\u001b[0m \u001b[0;32mNone\u001b[0m\u001b[0;34m\u001b[0m\u001b[0;34m\u001b[0m\u001b[0m\n\u001b[0m\u001b[1;32m    186\u001b[0m             \u001b[0;32melse\u001b[0m\u001b[0;34m:\u001b[0m\u001b[0;34m\u001b[0m\u001b[0;34m\u001b[0m\u001b[0m\n\u001b[1;32m    187\u001b[0m                 \u001b[0;32mraise\u001b[0m\u001b[0;34m\u001b[0m\u001b[0;34m\u001b[0m\u001b[0m\n",
            "\u001b[0;31mAnalysisException\u001b[0m: [UNRESOLVED_COLUMN.WITH_SUGGESTION] A column or function parameter with name `features` cannot be resolved. Did you mean one of the following? [`_c0`, `_c1`, `_c10`, `_c11`, `_c12`].;\n'Project ['features, 'label]\n+- Relation [_c0#6193,_c1#6194,_c2#6195,_c3#6196,_c4#6197,_c5#6198,_c6#6199,_c7#6200,_c8#6201,_c9#6202,_c10#6203,_c11#6204,_c12#6205,_c13#6206,_c14#6207] csv\n"
          ]
        }
      ]
    },
    {
      "cell_type": "code",
      "source": [
        "label = StringIndexer(inputCol = 'income', outputCol = 'label', handleInvalid = 'keep')"
      ],
      "metadata": {
        "id": "UnA7R6psnqnX"
      },
      "execution_count": null,
      "outputs": []
    },
    {
      "cell_type": "code",
      "source": [
        "data = label.fit(data).transform(data)"
      ],
      "metadata": {
        "id": "eSyuEf7Nn8FR"
      },
      "execution_count": null,
      "outputs": []
    },
    {
      "cell_type": "code",
      "source": [
        "data.show()"
      ],
      "metadata": {
        "id": "Oo3jH8OfoB_u"
      },
      "execution_count": null,
      "outputs": []
    },
    {
      "cell_type": "code",
      "source": [
        "model = nb.fit(train)"
      ],
      "metadata": {
        "id": "LJ6lTqDsm5So"
      },
      "execution_count": null,
      "outputs": []
    },
    {
      "cell_type": "code",
      "source": [
        "predictions = model.transform(test)\n",
        "predictions.show()"
      ],
      "metadata": {
        "id": "oJISfIUGoQZs"
      },
      "execution_count": null,
      "outputs": []
    },
    {
      "cell_type": "code",
      "source": [
        "evaluator = MulticlassClassificationEvaluator(labelCol=\"label\", predictionCol=\"prediction\",\n",
        "                                              metricName=\"accuracy\")\n",
        "accuracy = evaluator.evaluate(predictions)\n",
        "print(\"Test set accuracy = \" + str(accuracy))"
      ],
      "metadata": {
        "id": "uNknkk9UoVe7"
      },
      "execution_count": null,
      "outputs": []
    },
    {
      "cell_type": "code",
      "source": [
        "from pyspark.ml.classification import *"
      ],
      "metadata": {
        "id": "P3SJsSHO03K7"
      },
      "execution_count": null,
      "outputs": []
    },
    {
      "cell_type": "code",
      "source": [
        "dt = pyspark.ml.classification.DecisionTreeClassifier(featuresCol = 'features' , labelCol = 'label',impurity= 'entropy',maxDepth= 8, maxBins = 45)"
      ],
      "metadata": {
        "id": "lutRLkH30xDP"
      },
      "execution_count": null,
      "outputs": []
    },
    {
      "cell_type": "code",
      "source": [
        "model = dt.fit(train)"
      ],
      "metadata": {
        "id": "aCcJa0-w1Bgx"
      },
      "execution_count": null,
      "outputs": []
    },
    {
      "cell_type": "code",
      "source": [
        "predictions = model.transform(test)\n",
        "predictions.show()"
      ],
      "metadata": {
        "id": "m2CpTlRt1Uif"
      },
      "execution_count": null,
      "outputs": []
    },
    {
      "cell_type": "code",
      "source": [
        "evaluator = MulticlassClassificationEvaluator(labelCol=\"label\", predictionCol=\"prediction\",\n",
        "                                              metricName=\"accuracy\")\n",
        "accuracy = evaluator.evaluate(predictions)\n",
        "print(\"Test set accuracy = \" + str(accuracy))"
      ],
      "metadata": {
        "id": "fVlqRhLq1WGu"
      },
      "execution_count": null,
      "outputs": []
    },
    {
      "cell_type": "code",
      "source": [
        "vector.show()"
      ],
      "metadata": {
        "colab": {
          "base_uri": "https://localhost:8080/"
        },
        "id": "WpYOSDULzRRT",
        "outputId": "46806126-0e03-46ad-b54e-6e136fb1cbf6"
      },
      "execution_count": null,
      "outputs": [
        {
          "output_type": "stream",
          "name": "stdout",
          "text": [
            "+---+-----------------+------+-------------+-------+--------------------+------------------+--------------+-------------------+-------+-----+----+---------+--------------+------+---------------+---------------+-------------+----------------+--------------+----------+------------+-------------+------------+--------------------+\n",
            "|age|        workclass|fnlwgt|    education|numbers|             marital|        occupation|      relation|               race| gender| gain|loss|hourlypay|       country|income|workclass_index|education_index|marital_index|occupation_index|relation_index|race_index|gender_index|country_index|income_index|            features|\n",
            "+---+-----------------+------+-------------+-------+--------------------+------------------+--------------+-------------------+-------+-----+----+---------+--------------+------+---------------+---------------+-------------+----------------+--------------+----------+------------+-------------+------------+--------------------+\n",
            "| 39|        State-gov| 77516|    Bachelors|     13|       Never-married|      Adm-clerical| Not-in-family|              White|   Male| 2174|   0|       40| United-States| <=50K|            4.0|            2.0|          1.0|             3.0|           1.0|       0.0|         0.0|          0.0|         0.0|[4.0,2.0,1.0,3.0,...|\n",
            "| 50| Self-emp-not-inc| 83311|    Bachelors|     13|  Married-civ-spouse|   Exec-managerial|       Husband|              White|   Male|    0|   0|       13| United-States| <=50K|            1.0|            2.0|          0.0|             2.0|           0.0|       0.0|         0.0|          0.0|         0.0|(14,[0,1,3,8,9,10...|\n",
            "| 38|          Private|215646|      HS-grad|      9|            Divorced| Handlers-cleaners| Not-in-family|              White|   Male|    0|   0|       40| United-States| <=50K|            0.0|            0.0|          2.0|             9.0|           1.0|       0.0|         0.0|          0.0|         0.0|(14,[2,3,4,8,9,10...|\n",
            "| 53|          Private|234721|         11th|      7|  Married-civ-spouse| Handlers-cleaners|       Husband|              Black|   Male|    0|   0|       40| United-States| <=50K|            0.0|            5.0|          0.0|             9.0|           0.0|       1.0|         0.0|          0.0|         0.0|(14,[1,3,5,8,9,10...|\n",
            "| 28|          Private|338409|    Bachelors|     13|  Married-civ-spouse|    Prof-specialty|          Wife|              Black| Female|    0|   0|       40|          Cuba| <=50K|            0.0|            2.0|          0.0|             0.0|           4.0|       1.0|         1.0|          9.0|         0.0|[0.0,2.0,0.0,0.0,...|\n",
            "| 37|          Private|284582|      Masters|     14|  Married-civ-spouse|   Exec-managerial|          Wife|              White| Female|    0|   0|       40| United-States| <=50K|            0.0|            3.0|          0.0|             2.0|           4.0|       0.0|         1.0|          0.0|         0.0|(14,[1,3,4,6,8,9,...|\n",
            "| 49|          Private|160187|          9th|      5| Married-spouse-a...|     Other-service| Not-in-family|              Black| Female|    0|   0|       16|       Jamaica| <=50K|            0.0|           10.0|          5.0|             5.0|           1.0|       1.0|         1.0|         11.0|         0.0|[0.0,10.0,5.0,5.0...|\n",
            "| 52| Self-emp-not-inc|209642|      HS-grad|      9|  Married-civ-spouse|   Exec-managerial|       Husband|              White|   Male|    0|   0|       45| United-States|  >50K|            1.0|            0.0|          0.0|             2.0|           0.0|       0.0|         0.0|          0.0|         1.0|(14,[0,3,8,9,10,1...|\n",
            "| 31|          Private| 45781|      Masters|     14|       Never-married|    Prof-specialty| Not-in-family|              White| Female|14084|   0|       50| United-States|  >50K|            0.0|            3.0|          1.0|             0.0|           1.0|       0.0|         1.0|          0.0|         1.0|[0.0,3.0,1.0,0.0,...|\n",
            "| 42|          Private|159449|    Bachelors|     13|  Married-civ-spouse|   Exec-managerial|       Husband|              White|   Male| 5178|   0|       40| United-States|  >50K|            0.0|            2.0|          0.0|             2.0|           0.0|       0.0|         0.0|          0.0|         1.0|(14,[1,3,8,9,10,1...|\n",
            "| 37|          Private|280464| Some-college|     10|  Married-civ-spouse|   Exec-managerial|       Husband|              Black|   Male|    0|   0|       80| United-States|  >50K|            0.0|            1.0|          0.0|             2.0|           0.0|       1.0|         0.0|          0.0|         1.0|(14,[1,3,5,8,9,10...|\n",
            "| 30|        State-gov|141297|    Bachelors|     13|  Married-civ-spouse|    Prof-specialty|       Husband| Asian-Pac-Islander|   Male|    0|   0|       40|         India|  >50K|            4.0|            2.0|          0.0|             0.0|           0.0|       2.0|         0.0|          8.0|         1.0|(14,[0,1,5,7,8,9,...|\n",
            "| 23|          Private|122272|    Bachelors|     13|       Never-married|      Adm-clerical|     Own-child|              White| Female|    0|   0|       30| United-States| <=50K|            0.0|            2.0|          1.0|             3.0|           2.0|       0.0|         1.0|          0.0|         0.0|[0.0,2.0,1.0,3.0,...|\n",
            "| 32|          Private|205019|   Assoc-acdm|     12|       Never-married|             Sales| Not-in-family|              Black|   Male|    0|   0|       50| United-States| <=50K|            0.0|            6.0|          1.0|             4.0|           1.0|       1.0|         0.0|          0.0|         0.0|[0.0,6.0,1.0,4.0,...|\n",
            "| 40|          Private|121772|    Assoc-voc|     11|  Married-civ-spouse|      Craft-repair|       Husband| Asian-Pac-Islander|   Male|    0|   0|       40|             ?|  >50K|            0.0|            4.0|          0.0|             1.0|           0.0|       2.0|         0.0|          2.0|         1.0|(14,[1,3,5,7,8,9,...|\n",
            "| 34|          Private|245487|      7th-8th|      4|  Married-civ-spouse|  Transport-moving|       Husband| Amer-Indian-Eskimo|   Male|    0|   0|       45|        Mexico| <=50K|            0.0|            8.0|          0.0|             8.0|           0.0|       3.0|         0.0|          1.0|         0.0|(14,[1,3,5,7,8,9,...|\n",
            "| 25| Self-emp-not-inc|176756|      HS-grad|      9|       Never-married|   Farming-fishing|     Own-child|              White|   Male|    0|   0|       35| United-States| <=50K|            1.0|            0.0|          1.0|            10.0|           2.0|       0.0|         0.0|          0.0|         0.0|(14,[0,2,3,4,8,9,...|\n",
            "| 32|          Private|186824|      HS-grad|      9|       Never-married| Machine-op-inspct|     Unmarried|              White|   Male|    0|   0|       40| United-States| <=50K|            0.0|            0.0|          1.0|             6.0|           3.0|       0.0|         0.0|          0.0|         0.0|(14,[2,3,4,8,9,10...|\n",
            "| 38|          Private| 28887|         11th|      7|  Married-civ-spouse|             Sales|       Husband|              White|   Male|    0|   0|       50| United-States| <=50K|            0.0|            5.0|          0.0|             4.0|           0.0|       0.0|         0.0|          0.0|         0.0|(14,[1,3,8,9,10,1...|\n",
            "| 43| Self-emp-not-inc|292175|      Masters|     14|            Divorced|   Exec-managerial|     Unmarried|              White| Female|    0|   0|       45| United-States|  >50K|            1.0|            3.0|          2.0|             2.0|           3.0|       0.0|         1.0|          0.0|         1.0|[1.0,3.0,2.0,2.0,...|\n",
            "+---+-----------------+------+-------------+-------+--------------------+------------------+--------------+-------------------+-------+-----+----+---------+--------------+------+---------------+---------------+-------------+----------------+--------------+----------+------------+-------------+------------+--------------------+\n",
            "only showing top 20 rows\n",
            "\n"
          ]
        }
      ]
    },
    {
      "cell_type": "code",
      "source": [
        "data = vector.select('features','income_index')"
      ],
      "metadata": {
        "id": "dubS-Z_hzUUb"
      },
      "execution_count": null,
      "outputs": []
    },
    {
      "cell_type": "code",
      "source": [
        "data.show()"
      ],
      "metadata": {
        "colab": {
          "base_uri": "https://localhost:8080/"
        },
        "id": "HYEkoV7KzgbM",
        "outputId": "93f55017-b4d9-417b-919e-cc9c4651c4ec"
      },
      "execution_count": null,
      "outputs": [
        {
          "output_type": "stream",
          "name": "stdout",
          "text": [
            "+--------------------+------------+\n",
            "|            features|income_index|\n",
            "+--------------------+------------+\n",
            "|[4.0,2.0,1.0,3.0,...|         0.0|\n",
            "|(14,[0,1,3,8,9,10...|         0.0|\n",
            "|(14,[2,3,4,8,9,10...|         0.0|\n",
            "|(14,[1,3,5,8,9,10...|         0.0|\n",
            "|[0.0,2.0,0.0,0.0,...|         0.0|\n",
            "|(14,[1,3,4,6,8,9,...|         0.0|\n",
            "|[0.0,10.0,5.0,5.0...|         0.0|\n",
            "|(14,[0,3,8,9,10,1...|         1.0|\n",
            "|[0.0,3.0,1.0,0.0,...|         1.0|\n",
            "|(14,[1,3,8,9,10,1...|         1.0|\n",
            "|(14,[1,3,5,8,9,10...|         1.0|\n",
            "|(14,[0,1,5,7,8,9,...|         1.0|\n",
            "|[0.0,2.0,1.0,3.0,...|         0.0|\n",
            "|[0.0,6.0,1.0,4.0,...|         0.0|\n",
            "|(14,[1,3,5,7,8,9,...|         1.0|\n",
            "|(14,[1,3,5,7,8,9,...|         0.0|\n",
            "|(14,[0,2,3,4,8,9,...|         0.0|\n",
            "|(14,[2,3,4,8,9,10...|         0.0|\n",
            "|(14,[1,3,8,9,10,1...|         0.0|\n",
            "|[1.0,3.0,2.0,2.0,...|         1.0|\n",
            "+--------------------+------------+\n",
            "only showing top 20 rows\n",
            "\n"
          ]
        }
      ]
    },
    {
      "cell_type": "code",
      "source": [
        "splits = data.randomSplit([0.8, 0.2], 1234)\n",
        "train = splits[0]\n",
        "test = splits[1]"
      ],
      "metadata": {
        "id": "1zWrk3mWz85y"
      },
      "execution_count": null,
      "outputs": []
    },
    {
      "cell_type": "code",
      "source": [
        "from pyspark.ml.classification import RandomForestClassifier"
      ],
      "metadata": {
        "id": "WjAsFaLbzjbI"
      },
      "execution_count": null,
      "outputs": []
    },
    {
      "cell_type": "code",
      "source": [
        "rf = RandomForestClassifier(labelCol=\"income_index\", featuresCol=\"features\", numTrees=5, maxBins = 45)"
      ],
      "metadata": {
        "id": "wcgUr3_3zvwC"
      },
      "execution_count": null,
      "outputs": []
    },
    {
      "cell_type": "code",
      "source": [
        "model = rf.fit(train)"
      ],
      "metadata": {
        "id": "r_3Qkc3ez53-"
      },
      "execution_count": null,
      "outputs": []
    },
    {
      "cell_type": "code",
      "source": [
        "predictions = model.transform(test)"
      ],
      "metadata": {
        "id": "whoiU2Zi0Eqr"
      },
      "execution_count": null,
      "outputs": []
    },
    {
      "cell_type": "code",
      "source": [
        "evaluator = MulticlassClassificationEvaluator(labelCol=\"income_index\", predictionCol=\"prediction\",\n",
        "                                              metricName=\"accuracy\")\n",
        "accuracy = evaluator.evaluate(predictions)\n",
        "print(\"Test set accuracy = \" + str(accuracy))"
      ],
      "metadata": {
        "colab": {
          "base_uri": "https://localhost:8080/"
        },
        "id": "5ywafule0S0A",
        "outputId": "f66e61bf-f6ab-4d43-ceb2-4485710ed9aa"
      },
      "execution_count": null,
      "outputs": [
        {
          "output_type": "stream",
          "name": "stdout",
          "text": [
            "Test set accuracy = 0.846802637632265\n"
          ]
        }
      ]
    },
    {
      "cell_type": "code",
      "source": [
        "from pyspark.ml.classification import GBTClassifier\n",
        "gbt = GBTClassifier(labelCol=\"income_index\", featuresCol=\"features\", maxIter=10, maxBins = 45)"
      ],
      "metadata": {
        "id": "CIWC0hjQ0ixp"
      },
      "execution_count": null,
      "outputs": []
    },
    {
      "cell_type": "code",
      "source": [
        "model = gbt.fit(train)\n",
        "predictions = model.transform(test)\n",
        "evaluator = MulticlassClassificationEvaluator(labelCol=\"income_index\", predictionCol=\"prediction\",metricName=\"accuracy\")\n",
        "accuracy = evaluator.evaluate(predictions)\n",
        "print(\"Test set accuracy = \" + str(accuracy))"
      ],
      "metadata": {
        "colab": {
          "base_uri": "https://localhost:8080/"
        },
        "id": "Jw9q2pFH0uPk",
        "outputId": "ad143391-3b38-42db-9826-b6ca933d2dc9"
      },
      "execution_count": null,
      "outputs": [
        {
          "output_type": "stream",
          "name": "stdout",
          "text": [
            "Test set accuracy = 0.8579972396871646\n"
          ]
        }
      ]
    },
    {
      "cell_type": "code",
      "source": [
        "from xgboost.spark import SparkXGBClassifier"
      ],
      "metadata": {
        "id": "LUBM_2hJ1DPQ"
      },
      "execution_count": null,
      "outputs": []
    },
    {
      "cell_type": "code",
      "source": [
        "spark_reg_estimator = SparkXGBClassifier(\n",
        "  features_col=\"features\",\n",
        "  label_col=\"income_index\",\n",
        "  num_workers=2,\n",
        ")"
      ],
      "metadata": {
        "id": "ZpEE3UX21Jri"
      },
      "execution_count": null,
      "outputs": []
    },
    {
      "cell_type": "code",
      "source": [
        "model = spark_reg_estimator.fit(train)\n",
        "predictions = model.transform(test)\n",
        "evaluator = MulticlassClassificationEvaluator(labelCol=\"income_index\", predictionCol=\"prediction\",metricName=\"accuracy\")\n",
        "accuracy = evaluator.evaluate(predictions)\n",
        "print(\"Test set accuracy = \" + str(accuracy))"
      ],
      "metadata": {
        "colab": {
          "base_uri": "https://localhost:8080/"
        },
        "id": "F-uXM6xJ1OMw",
        "outputId": "a375a59f-39f6-451e-b8ca-6b4ec88ad3b2"
      },
      "execution_count": null,
      "outputs": [
        {
          "output_type": "stream",
          "name": "stderr",
          "text": [
            "INFO:XGBoost-PySpark:Running xgboost-2.0.3 on 2 workers with\n",
            "\tbooster params: {'objective': 'binary:logistic', 'device': 'cpu', 'nthread': 1}\n",
            "\ttrain_call_kwargs_params: {'verbose_eval': True, 'num_boost_round': 100}\n",
            "\tdmatrix_kwargs: {'nthread': 1, 'missing': nan}\n",
            "INFO:XGBoost-PySpark:Finished xgboost training!\n"
          ]
        },
        {
          "output_type": "stream",
          "name": "stdout",
          "text": [
            "Test set accuracy = 0.8760926238307009\n"
          ]
        }
      ]
    },
    {
      "cell_type": "code",
      "source": [
        "df.show()"
      ],
      "metadata": {
        "colab": {
          "base_uri": "https://localhost:8080/"
        },
        "id": "PK7ZODIq1vz4",
        "outputId": "88f12ad7-e3c7-4d73-c67f-418a25526593"
      },
      "execution_count": null,
      "outputs": [
        {
          "output_type": "stream",
          "name": "stdout",
          "text": [
            "+---+-----------------+------+-------------+-------+--------------------+------------------+--------------+-------------------+-------+-----+----+---------+--------------+------+\n",
            "|age|        workclass|fnlwgt|    education|numbers|             marital|        occupation|      relation|               race| gender| gain|loss|hourlypay|       country|income|\n",
            "+---+-----------------+------+-------------+-------+--------------------+------------------+--------------+-------------------+-------+-----+----+---------+--------------+------+\n",
            "| 39|        State-gov| 77516|    Bachelors|     13|       Never-married|      Adm-clerical| Not-in-family|              White|   Male| 2174|   0|       40| United-States| <=50K|\n",
            "| 50| Self-emp-not-inc| 83311|    Bachelors|     13|  Married-civ-spouse|   Exec-managerial|       Husband|              White|   Male|    0|   0|       13| United-States| <=50K|\n",
            "| 38|          Private|215646|      HS-grad|      9|            Divorced| Handlers-cleaners| Not-in-family|              White|   Male|    0|   0|       40| United-States| <=50K|\n",
            "| 53|          Private|234721|         11th|      7|  Married-civ-spouse| Handlers-cleaners|       Husband|              Black|   Male|    0|   0|       40| United-States| <=50K|\n",
            "| 28|          Private|338409|    Bachelors|     13|  Married-civ-spouse|    Prof-specialty|          Wife|              Black| Female|    0|   0|       40|          Cuba| <=50K|\n",
            "| 37|          Private|284582|      Masters|     14|  Married-civ-spouse|   Exec-managerial|          Wife|              White| Female|    0|   0|       40| United-States| <=50K|\n",
            "| 49|          Private|160187|          9th|      5| Married-spouse-a...|     Other-service| Not-in-family|              Black| Female|    0|   0|       16|       Jamaica| <=50K|\n",
            "| 52| Self-emp-not-inc|209642|      HS-grad|      9|  Married-civ-spouse|   Exec-managerial|       Husband|              White|   Male|    0|   0|       45| United-States|  >50K|\n",
            "| 31|          Private| 45781|      Masters|     14|       Never-married|    Prof-specialty| Not-in-family|              White| Female|14084|   0|       50| United-States|  >50K|\n",
            "| 42|          Private|159449|    Bachelors|     13|  Married-civ-spouse|   Exec-managerial|       Husband|              White|   Male| 5178|   0|       40| United-States|  >50K|\n",
            "| 37|          Private|280464| Some-college|     10|  Married-civ-spouse|   Exec-managerial|       Husband|              Black|   Male|    0|   0|       80| United-States|  >50K|\n",
            "| 30|        State-gov|141297|    Bachelors|     13|  Married-civ-spouse|    Prof-specialty|       Husband| Asian-Pac-Islander|   Male|    0|   0|       40|         India|  >50K|\n",
            "| 23|          Private|122272|    Bachelors|     13|       Never-married|      Adm-clerical|     Own-child|              White| Female|    0|   0|       30| United-States| <=50K|\n",
            "| 32|          Private|205019|   Assoc-acdm|     12|       Never-married|             Sales| Not-in-family|              Black|   Male|    0|   0|       50| United-States| <=50K|\n",
            "| 40|          Private|121772|    Assoc-voc|     11|  Married-civ-spouse|      Craft-repair|       Husband| Asian-Pac-Islander|   Male|    0|   0|       40| United-States|  >50K|\n",
            "| 34|          Private|245487|      7th-8th|      4|  Married-civ-spouse|  Transport-moving|       Husband| Amer-Indian-Eskimo|   Male|    0|   0|       45|        Mexico| <=50K|\n",
            "| 25| Self-emp-not-inc|176756|      HS-grad|      9|       Never-married|   Farming-fishing|     Own-child|              White|   Male|    0|   0|       35| United-States| <=50K|\n",
            "| 32|          Private|186824|      HS-grad|      9|       Never-married| Machine-op-inspct|     Unmarried|              White|   Male|    0|   0|       40| United-States| <=50K|\n",
            "| 38|          Private| 28887|         11th|      7|  Married-civ-spouse|             Sales|       Husband|              White|   Male|    0|   0|       50| United-States| <=50K|\n",
            "| 43| Self-emp-not-inc|292175|      Masters|     14|            Divorced|   Exec-managerial|     Unmarried|              White| Female|    0|   0|       45| United-States|  >50K|\n",
            "+---+-----------------+------+-------------+-------+--------------------+------------------+--------------+-------------------+-------+-----+----+---------+--------------+------+\n",
            "only showing top 20 rows\n",
            "\n"
          ]
        }
      ]
    },
    {
      "cell_type": "code",
      "source": [
        "from pyspark.ml.classification import MultilayerPerceptronClassifier"
      ],
      "metadata": {
        "id": "hrJm4nYK8wiH"
      },
      "execution_count": null,
      "outputs": []
    },
    {
      "cell_type": "code",
      "source": [
        "layers = [14, 8, 6, 4, 2]"
      ],
      "metadata": {
        "id": "c1k2A78o8-oK"
      },
      "execution_count": null,
      "outputs": []
    },
    {
      "cell_type": "code",
      "source": [
        "trainer = MultilayerPerceptronClassifier(featuresCol = 'features', labelCol = 'income_index' ,maxIter=100, layers=layers, blockSize=128, seed=1234)"
      ],
      "metadata": {
        "id": "UNHfuKeh83US"
      },
      "execution_count": null,
      "outputs": []
    },
    {
      "cell_type": "code",
      "source": [
        "model = trainer.fit(train)\n",
        "predictions = model.transform(test)\n",
        "evaluator = MulticlassClassificationEvaluator(labelCol=\"income_index\", predictionCol=\"prediction\",metricName=\"accuracy\")\n",
        "accuracy = evaluator.evaluate(predictions)\n",
        "print(\"Test set accuracy = \" + str(accuracy))"
      ],
      "metadata": {
        "colab": {
          "base_uri": "https://localhost:8080/"
        },
        "id": "J6aJlXMp9l-R",
        "outputId": "867b7df6-f38b-4db1-ff67-5d4a2e401242"
      },
      "execution_count": null,
      "outputs": [
        {
          "output_type": "stream",
          "name": "stdout",
          "text": [
            "Test set accuracy = 0.7636865511424629\n"
          ]
        }
      ]
    }
  ]
}