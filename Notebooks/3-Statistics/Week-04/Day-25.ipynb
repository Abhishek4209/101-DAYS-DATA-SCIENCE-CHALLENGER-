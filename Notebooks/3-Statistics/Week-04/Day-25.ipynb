{
 "cells": [
  {
   "cell_type": "markdown",
   "metadata": {},
   "source": [
    "## Day-25:-"
   ]
  },
  {
   "cell_type": "markdown",
   "metadata": {},
   "source": [
    "### Bayes Statistics(Bayes Therom):-\n",
    "```\n",
    "Bayesian statistics is an approach to data analysis and parameter estimation based on Bayes Therom."
   ]
  },
  {
   "cell_type": "markdown",
   "metadata": {},
   "source": [
    "```\n",
    "P(A and B)=p(A) * p(B/A)\n",
    "\n",
    "P(B and A)=p(B) * p(A/B)\n",
    "\n",
    "\n",
    "P(A/B)=  P(B) * p(A/B) \n",
    "        ---------------          -------> BAYES THEROM\n",
    "            P(A)\n",
    "\n",
    "\n",
    "A,B ------> EVENTS.\n",
    "P(A/B) IS CALLED CONDITIONAL PROBABILITY. IT MEANS PROBABILITY OF A GIVEN B IS TRUE.\n",
    "P(B/A) IS CALLED CONDITIONAL PROBABILITY. IT MEANS PROBABILITY OF B GIVEN A IS TRUE.\n",
    "\n",
    "P(A) ,P(B)   --------> INDEPENDENT PROBABILITY OF A AND B."
   ]
  },
  {
   "cell_type": "code",
   "execution_count": null,
   "metadata": {},
   "outputs": [],
   "source": []
  },
  {
   "cell_type": "code",
   "execution_count": null,
   "metadata": {},
   "outputs": [],
   "source": []
  },
  {
   "cell_type": "code",
   "execution_count": null,
   "metadata": {},
   "outputs": [],
   "source": []
  },
  {
   "cell_type": "markdown",
   "metadata": {},
   "source": [
    "## Confidence Interval And Margin of Error:-\n",
    "```\n",
    "We construct a confidence interval to help estemate what the actual value of the unknown population mean.\n",
    "\n",
    "\n",
    "Point Estimate ± Margin of Error\n"
   ]
  },
  {
   "cell_type": "code",
   "execution_count": null,
   "metadata": {},
   "outputs": [],
   "source": []
  },
  {
   "cell_type": "code",
   "execution_count": null,
   "metadata": {},
   "outputs": [],
   "source": []
  },
  {
   "cell_type": "markdown",
   "metadata": {},
   "source": [
    "## Chi-Square test:-\n",
    "```\n",
    "The Chi-Square test for goodness of fit test claim about population proportions.\n",
    "\n",
    "It is a Non parametric test that is perform on categorical data."
   ]
  },
  {
   "cell_type": "code",
   "execution_count": null,
   "metadata": {},
   "outputs": [],
   "source": []
  },
  {
   "cell_type": "markdown",
   "metadata": {},
   "source": [
    "```\n",
    "              \n",
    "x2= sum  (O-E)^2\n",
    "        --------\n",
    "           E"
   ]
  },
  {
   "cell_type": "markdown",
   "metadata": {},
   "source": [
    "### Chi-Square -test with python:-"
   ]
  },
  {
   "cell_type": "code",
   "execution_count": 2,
   "metadata": {},
   "outputs": [],
   "source": [
    "import scipy.stats as stat\n",
    "import numpy as np"
   ]
  },
  {
   "cell_type": "code",
   "execution_count": 7,
   "metadata": {},
   "outputs": [],
   "source": [
    "# No of hours student study in weekly basis daily\n",
    "expected_data=[8,6,7,9,6,9,7]\n",
    "observed_data=[7,8,6,9,9,6,7]"
   ]
  },
  {
   "cell_type": "code",
   "execution_count": 8,
   "metadata": {},
   "outputs": [
    {
     "data": {
      "text/plain": [
       "(52, 52)"
      ]
     },
     "execution_count": 8,
     "metadata": {},
     "output_type": "execute_result"
    }
   ],
   "source": [
    "sum(expected_data),sum(observed_data)"
   ]
  },
  {
   "cell_type": "code",
   "execution_count": 10,
   "metadata": {},
   "outputs": [],
   "source": [
    "# Chi-Square Goodness of Fit Test\n",
    "chisquare_test_statistics,p_value=stat.chisquare(expected_data,observed_data)"
   ]
  },
  {
   "cell_type": "code",
   "execution_count": 11,
   "metadata": {},
   "outputs": [
    {
     "data": {
      "text/plain": [
       "(3.3095238095238093, 0.769114675518927)"
      ]
     },
     "execution_count": 11,
     "metadata": {},
     "output_type": "execute_result"
    }
   ],
   "source": [
    "chisquare_test_statistics,p_value"
   ]
  },
  {
   "cell_type": "code",
   "execution_count": 17,
   "metadata": {},
   "outputs": [
    {
     "name": "stdout",
     "output_type": "stream",
     "text": [
      "6\n"
     ]
    }
   ],
   "source": [
    "# Find the critical value:-\n",
    "significance_value=0.05\n",
    "dof=len(expected_data)-1\n",
    "print(dof)\n",
    "critical_value=stat.chi2.ppf(1-significance_value,dof)"
   ]
  },
  {
   "cell_type": "code",
   "execution_count": 19,
   "metadata": {},
   "outputs": [
    {
     "data": {
      "text/plain": [
       "12.591587243743977"
      ]
     },
     "execution_count": 19,
     "metadata": {},
     "output_type": "execute_result"
    }
   ],
   "source": [
    "critical_value"
   ]
  },
  {
   "cell_type": "code",
   "execution_count": 20,
   "metadata": {},
   "outputs": [
    {
     "name": "stdout",
     "output_type": "stream",
     "text": [
      "Accept the Null Hypothesis\n"
     ]
    }
   ],
   "source": [
    "if chisquare_test_statistics > critical_value:\n",
    "    print(\"Reject the Null Hypothesis\")\n",
    "\n",
    "else:\n",
    "    print(\"Accept the Null Hypothesis\")"
   ]
  },
  {
   "cell_type": "code",
   "execution_count": null,
   "metadata": {},
   "outputs": [],
   "source": []
  },
  {
   "cell_type": "code",
   "execution_count": null,
   "metadata": {},
   "outputs": [],
   "source": []
  },
  {
   "cell_type": "markdown",
   "metadata": {},
   "source": []
  },
  {
   "cell_type": "markdown",
   "metadata": {},
   "source": [
    "## Analysis of variance (Anova):-\n",
    "```\n",
    "ANOVA is a statistical method used to compare the means of 2 or more group.\n",
    "```\n",
    "### 1-Facture(variables)\n",
    "### 2-Level\n",
    "\n",
    "\n",
    "\n"
   ]
  },
  {
   "cell_type": "code",
   "execution_count": null,
   "metadata": {},
   "outputs": [],
   "source": []
  },
  {
   "cell_type": "code",
   "execution_count": null,
   "metadata": {},
   "outputs": [],
   "source": []
  },
  {
   "cell_type": "markdown",
   "metadata": {},
   "source": [
    "### Assumptions in Anova Test:-\n",
    "```\n",
    "1-Normality of Smapling Distribution of mean:-\n",
    "The Distribution of sample mean is Normaly Distributed.\n",
    "\n",
    "2-Absence of Outlier:-\n",
    "Outlying score need to remove from Datasets.\n",
    "\n",
    "3-Homogenty of variance:-\n",
    "Each one of the population it should have same Variance.\n",
    "Population variance in diffrent levels of each independet variable are equal.\n",
    "\n",
    "4-Sample are independent and random:-"
   ]
  },
  {
   "cell_type": "code",
   "execution_count": null,
   "metadata": {},
   "outputs": [],
   "source": []
  },
  {
   "cell_type": "code",
   "execution_count": null,
   "metadata": {},
   "outputs": [],
   "source": []
  },
  {
   "cell_type": "code",
   "execution_count": null,
   "metadata": {},
   "outputs": [],
   "source": []
  },
  {
   "cell_type": "markdown",
   "metadata": {},
   "source": [
    "### Type of ANOVA:-\n",
    "```\n",
    "1-One way ANOVA :- \n",
    "One factor with atleast 2 levels and thes levles are independent. \n",
    "\n",
    "\n",
    "2-Repeated Measurre Anova:-\n",
    "One factor with atleast 2 levels and thes levles are dependent. \n",
    "\n",
    "3-Factorial ANOVA:-\n",
    "Two or more factor (each of which with atach 2 levels ) levels can be either dependent or independent."
   ]
  },
  {
   "cell_type": "code",
   "execution_count": null,
   "metadata": {},
   "outputs": [],
   "source": []
  },
  {
   "cell_type": "code",
   "execution_count": null,
   "metadata": {},
   "outputs": [],
   "source": []
  },
  {
   "cell_type": "code",
   "execution_count": null,
   "metadata": {},
   "outputs": [],
   "source": []
  },
  {
   "cell_type": "markdown",
   "metadata": {},
   "source": [
    "### Partitioning of Variance in the ANOVA:-\n",
    "```\n",
    "Null Hypothesis(H0) :- mean1=mean2=mean3=mean4 .\n",
    "Aternate Hypothesis (H1):- Atleast one mean sould be differ.\n",
    "\n",
    "\n",
    "\n",
    "\n",
    "Test Statistics:-\n",
    "\n",
    "      Variation between Sample\n",
    "F  = --------------------------\n",
    "      Variation within Sample"
   ]
  },
  {
   "cell_type": "code",
   "execution_count": null,
   "metadata": {},
   "outputs": [],
   "source": []
  },
  {
   "cell_type": "code",
   "execution_count": null,
   "metadata": {},
   "outputs": [],
   "source": []
  },
  {
   "cell_type": "code",
   "execution_count": null,
   "metadata": {},
   "outputs": [],
   "source": []
  },
  {
   "cell_type": "markdown",
   "metadata": {},
   "source": [
    "## F-Distribution:-\n",
    "```\n",
    "In probability theory and statistics the F-distribution or F-ratio ,a lso known as Snedecor's F distribution or the Fisher- Snedecor distribution ( after Ronald Fisher and George W .Snedecor) is a continuous probability distribution that aries frequently as the null distribution of a test statistics , most notably in the analysis of variance (ANOVA) and other F-tests."
   ]
  },
  {
   "cell_type": "code",
   "execution_count": null,
   "metadata": {},
   "outputs": [],
   "source": []
  },
  {
   "cell_type": "code",
   "execution_count": null,
   "metadata": {},
   "outputs": [],
   "source": []
  },
  {
   "cell_type": "code",
   "execution_count": null,
   "metadata": {},
   "outputs": [],
   "source": []
  },
  {
   "cell_type": "markdown",
   "metadata": {},
   "source": [
    "### F- Test(variance ratio test):-\n",
    "\n",
    "\n",
    "```\n",
    "Null Hypothesis(H0):-\n",
    "\n",
    "   (var1)^2=(var2)^2\n",
    "\n",
    "Alternate Hypothesis(H0):-\n",
    "\n",
    "   (var1)^2 not equal (var2)^2\n",
    "\n",
    "calculation of variance"
   ]
  },
  {
   "cell_type": "code",
   "execution_count": null,
   "metadata": {},
   "outputs": [],
   "source": []
  },
  {
   "cell_type": "code",
   "execution_count": null,
   "metadata": {},
   "outputs": [],
   "source": []
  },
  {
   "cell_type": "code",
   "execution_count": null,
   "metadata": {},
   "outputs": [],
   "source": []
  },
  {
   "cell_type": "markdown",
   "metadata": {},
   "source": [
    "## F-test with python:-"
   ]
  },
  {
   "cell_type": "code",
   "execution_count": 35,
   "metadata": {},
   "outputs": [],
   "source": [
    "import numpy as np"
   ]
  },
  {
   "cell_type": "code",
   "execution_count": 41,
   "metadata": {},
   "outputs": [],
   "source": [
    "# Evidence to say that the two population variance are not equal.\n",
    "\n",
    "worker1=[18,19,22,25,27,28,41,45,51,55]\n",
    "worker2=[14,15,15,17,18,22,25,25,27,34]"
   ]
  },
  {
   "cell_type": "code",
   "execution_count": 42,
   "metadata": {},
   "outputs": [
    {
     "data": {
      "text/plain": [
       "4.387122002085506"
      ]
     },
     "execution_count": 42,
     "metadata": {},
     "output_type": "execute_result"
    }
   ],
   "source": [
    "# Calculating the F-test:-\n",
    "f_test=np.var(worker1)/np.var(worker2)\n",
    "f_test"
   ]
  },
  {
   "cell_type": "code",
   "execution_count": 43,
   "metadata": {},
   "outputs": [],
   "source": [
    "# degree of freedom (dof):-\n",
    "df1=len(worker1)-1\n",
    "df2=len(worker2)-1\n",
    "significance_value=0.95"
   ]
  },
  {
   "cell_type": "code",
   "execution_count": 44,
   "metadata": {},
   "outputs": [],
   "source": [
    "import scipy.stats as stat\n",
    "critical_value=stat.f.ppf(q=1-significance_value,dfn=df1,dfd=df2)"
   ]
  },
  {
   "cell_type": "code",
   "execution_count": 46,
   "metadata": {},
   "outputs": [
    {
     "data": {
      "text/plain": [
       "0.3145749061513079"
      ]
     },
     "execution_count": 46,
     "metadata": {},
     "output_type": "execute_result"
    }
   ],
   "source": [
    "critical_value"
   ]
  },
  {
   "cell_type": "code",
   "execution_count": 47,
   "metadata": {},
   "outputs": [
    {
     "name": "stdout",
     "output_type": "stream",
     "text": [
      "Reject hte Null Hypothesis\n"
     ]
    }
   ],
   "source": [
    "if f_test > significance_value:\n",
    "    print(\"Reject hte Null Hypothesis\")\n",
    "else:\n",
    "    print(\"We fail to reject the Null Hypotheisi\")"
   ]
  }
 ],
 "metadata": {
  "kernelspec": {
   "display_name": "Python 3",
   "language": "python",
   "name": "python3"
  },
  "language_info": {
   "codemirror_mode": {
    "name": "ipython",
    "version": 3
   },
   "file_extension": ".py",
   "mimetype": "text/x-python",
   "name": "python",
   "nbconvert_exporter": "python",
   "pygments_lexer": "ipython3",
   "version": "3.12.0"
  }
 },
 "nbformat": 4,
 "nbformat_minor": 2
}
