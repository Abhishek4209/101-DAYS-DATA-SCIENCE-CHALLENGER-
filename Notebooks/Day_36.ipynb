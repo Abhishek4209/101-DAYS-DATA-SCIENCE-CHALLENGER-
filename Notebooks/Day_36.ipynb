# Day 36 Notebook

## Introduction

This is the notebook for Day 36.

## Tasks

- Task 1
- Task 2
- Task 3


## Conclusion

End of Day 36 notebook.
