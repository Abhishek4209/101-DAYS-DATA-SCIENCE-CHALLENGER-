{
 "cells": [
  {
   "cell_type": "markdown",
   "metadata": {},
   "source": [
    "## Xgboost Classification Algorithms:-"
   ]
  },
  {
   "cell_type": "code",
   "execution_count": null,
   "metadata": {},
   "outputs": [],
   "source": []
  },
  {
   "cell_type": "markdown",
   "metadata": {},
   "source": [
    "### Steps:-\n",
    "```\n",
    "1.Construct a base Model.\n",
    "2.COnstruct a Decision Tree With root node.\n",
    "3.Calculate Similarity weight.\n",
    "\n",
    "4.Calculate Gain"
   ]
  },
  {
   "cell_type": "code",
   "execution_count": null,
   "metadata": {},
   "outputs": [],
   "source": []
  },
  {
   "cell_type": "markdown",
   "metadata": {},
   "source": [
    "Similarity weight\n",
    "\n",
    "![Alt text](\\7.png)"
   ]
  },
  {
   "cell_type": "code",
   "execution_count": null,
   "metadata": {},
   "outputs": [],
   "source": []
  },
  {
   "cell_type": "markdown",
   "metadata": {},
   "source": [
    "### Output of XgBoost Method:-\n",
    "```\n",
    "O/P = sigmoid(Base Learner + alpha1(D.T1) + alpha2(D.T2) + alpha3(D.T3) + ......... + alphan(D.Tn) )"
   ]
  }
 ],
 "metadata": {
  "language_info": {
   "name": "python"
  }
 },
 "nbformat": 4,
 "nbformat_minor": 2
}
