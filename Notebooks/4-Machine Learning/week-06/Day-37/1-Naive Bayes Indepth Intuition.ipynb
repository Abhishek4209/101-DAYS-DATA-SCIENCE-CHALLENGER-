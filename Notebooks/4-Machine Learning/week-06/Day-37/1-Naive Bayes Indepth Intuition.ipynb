{
 "cells": [
  {
   "cell_type": "markdown",
   "metadata": {},
   "source": [
    "# Day-36:-"
   ]
  },
  {
   "cell_type": "markdown",
   "metadata": {},
   "source": [
    "## Naive Bayes Indepth Intuition:-"
   ]
  },
  {
   "cell_type": "markdown",
   "metadata": {},
   "source": [
    "### Only For Classification Problems:-"
   ]
  },
  {
   "cell_type": "code",
   "execution_count": null,
   "metadata": {},
   "outputs": [],
   "source": []
  },
  {
   "cell_type": "markdown",
   "metadata": {},
   "source": [
    "### Independent Events:-\n",
    "```\n",
    "No one other probabilities are depend on other one."
   ]
  },
  {
   "cell_type": "code",
   "execution_count": null,
   "metadata": {},
   "outputs": [],
   "source": []
  },
  {
   "cell_type": "markdown",
   "metadata": {},
   "source": [
    "### Dependent Events:-\n",
    "```\n",
    "Probabilities of first event is effect other event probabilities."
   ]
  },
  {
   "cell_type": "code",
   "execution_count": null,
   "metadata": {},
   "outputs": [],
   "source": []
  },
  {
   "cell_type": "markdown",
   "metadata": {},
   "source": [
    "### Conditional probabilities:-\n",
    "```\n",
    "P(Y/O)-----> what is the probability of `Y` if `O` has already occurred."
   ]
  },
  {
   "cell_type": "code",
   "execution_count": null,
   "metadata": {},
   "outputs": [],
   "source": []
  },
  {
   "cell_type": "markdown",
   "metadata": {},
   "source": [
    "## Bayes Theorm:-"
   ]
  },
  {
   "cell_type": "markdown",
   "metadata": {},
   "source": [
    "```\n",
    "P(A and B) =P(A) * P(B/A)--------(1)\n",
    "P(B and A) =P(B) * P(A/B)--------(2)\n",
    "\n",
    "\n",
    "```\n",
    "### Bayes Therom:-\n",
    "```\n",
    "Pr(A/B) = P(A)\n",
    "         ------ * P(B/A)\n",
    "          P(B)\n"
   ]
  },
  {
   "cell_type": "code",
   "execution_count": null,
   "metadata": {},
   "outputs": [],
   "source": []
  },
  {
   "cell_type": "markdown",
   "metadata": {},
   "source": [
    "```\n",
    "P(Y/X1,X2,X3) =    P(Y)\n",
    "               ---------------- *  P(X1,X2,X3/Y)\n",
    "               P(X1)*P(X2)*P(X3)"
   ]
  }
 ],
 "metadata": {
  "language_info": {
   "name": "python"
  }
 },
 "nbformat": 4,
 "nbformat_minor": 2
}
