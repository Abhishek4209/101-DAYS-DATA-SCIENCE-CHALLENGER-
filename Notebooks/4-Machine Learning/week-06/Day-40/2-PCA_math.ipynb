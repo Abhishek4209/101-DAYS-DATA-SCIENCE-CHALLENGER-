{
 "cells": [
  {
   "cell_type": "markdown",
   "metadata": {},
   "source": [
    "## PCA:-"
   ]
  },
  {
   "cell_type": "code",
   "execution_count": null,
   "metadata": {},
   "outputs": [],
   "source": []
  },
  {
   "cell_type": "markdown",
   "metadata": {},
   "source": [
    "## Eigen Value Decompostions:-\n",
    "* 1.Eigen Value :--------->      A specific vector how much cover varriance.\n",
    "* 2.Eigen Vector:--------->      Eigen Vector is our PC ."
   ]
  },
  {
   "cell_type": "code",
   "execution_count": null,
   "metadata": {},
   "outputs": [],
   "source": []
  },
  {
   "cell_type": "markdown",
   "metadata": {},
   "source": [
    "## Steps in PCA:-\n",
    "```\n",
    "1.Covariance Matrix Between Features.   cov[f1,f2,f3,----,n]\n",
    "\n",
    "2.Eigen Value Eigen Vector will be found out using this covariance matrix.\n",
    "\n",
    "A * v=lambda * v\n",
    "\n",
    "lambda ----> Eigen Value.  \n",
    "\n",
    "3.Eigen Vector ----> Eigen Value is high ----> select it this cover maximum varriance."
   ]
  },
  {
   "cell_type": "code",
   "execution_count": null,
   "metadata": {},
   "outputs": [],
   "source": []
  },
  {
   "cell_type": "markdown",
   "metadata": {},
   "source": [
    "## Linear Transformation:-"
   ]
  },
  {
   "cell_type": "code",
   "execution_count": null,
   "metadata": {},
   "outputs": [],
   "source": []
  }
 ],
 "metadata": {
  "language_info": {
   "name": "python"
  }
 },
 "nbformat": 4,
 "nbformat_minor": 2
}
