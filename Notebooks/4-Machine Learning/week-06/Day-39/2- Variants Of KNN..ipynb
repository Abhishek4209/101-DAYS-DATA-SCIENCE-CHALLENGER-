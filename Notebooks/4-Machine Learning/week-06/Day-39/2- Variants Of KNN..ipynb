{
 "cells": [
  {
   "cell_type": "markdown",
   "metadata": {},
   "source": [
    "##  Variants Of KNN.:-"
   ]
  },
  {
   "cell_type": "markdown",
   "metadata": {},
   "source": [
    "### Two Varients:-\n",
    "```\n",
    "1.KD Tree\n",
    "2.Ball  Tree"
   ]
  },
  {
   "cell_type": "code",
   "execution_count": null,
   "metadata": {},
   "outputs": [],
   "source": []
  },
  {
   "cell_type": "markdown",
   "metadata": {},
   "source": [
    "## KD - Tree:-\n",
    "```\n",
    "step-1------>find the median of x-axis data. and plot a projection on x-axis\n",
    "\n",
    "step-2------>find the median of y-axis data. and plot a projection on y-axis\n",
    "\n",
    "step-3 -----> perform Backtracking to find out next k newarest data points.\n",
    "```\n",
    "![Alt text](\\3.png)"
   ]
  },
  {
   "cell_type": "code",
   "execution_count": null,
   "metadata": {},
   "outputs": [],
   "source": []
  },
  {
   "cell_type": "markdown",
   "metadata": {},
   "source": [
    "## Ball Tree:-\n",
    "```\n",
    "1. first every near data points are convert into a indivisual grupe then they are combine on the basis of their distances and finaly they become a single group\n",
    "\n",
    "\n",
    "```\n",
    "![Alt text](\\4.png)"
   ]
  }
 ],
 "metadata": {
  "language_info": {
   "name": "python"
  }
 },
 "nbformat": 4,
 "nbformat_minor": 2
}
