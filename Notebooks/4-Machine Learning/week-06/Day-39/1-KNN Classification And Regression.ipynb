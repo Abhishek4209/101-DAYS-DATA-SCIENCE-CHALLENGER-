{
 "cells": [
  {
   "cell_type": "markdown",
   "metadata": {},
   "source": [
    "## KNN Classification And Regression:-"
   ]
  },
  {
   "cell_type": "code",
   "execution_count": null,
   "metadata": {},
   "outputs": [],
   "source": []
  },
  {
   "cell_type": "markdown",
   "metadata": {},
   "source": [
    "![Alt text](\\1.png)"
   ]
  },
  {
   "cell_type": "code",
   "execution_count": null,
   "metadata": {},
   "outputs": [],
   "source": []
  },
  {
   "cell_type": "markdown",
   "metadata": {},
   "source": [
    "### Distance Matrics:-\n",
    "```\n",
    "1.Euclidian Distance:-\n",
    "              2          2\n",
    "dis = [(X2-X1)  + (Y2-Y1)  ]\n",
    "\n",
    "\n",
    "2.Manhatten Distance:-\n",
    "\n",
    "dis =  | ((X2-X1) |  + | (Y2-Y1)) |"
   ]
  },
  {
   "cell_type": "code",
   "execution_count": null,
   "metadata": {},
   "outputs": [],
   "source": []
  },
  {
   "cell_type": "markdown",
   "metadata": {},
   "source": [
    "![Alt text](\\2.png)"
   ]
  }
 ],
 "metadata": {
  "language_info": {
   "name": "python"
  }
 },
 "nbformat": 4,
 "nbformat_minor": 2
}
