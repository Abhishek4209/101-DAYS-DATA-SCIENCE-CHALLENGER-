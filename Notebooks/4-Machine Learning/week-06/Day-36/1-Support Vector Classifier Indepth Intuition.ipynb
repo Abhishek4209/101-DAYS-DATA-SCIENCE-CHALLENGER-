{
 "cells": [
  {
   "cell_type": "markdown",
   "metadata": {},
   "source": [
    "# Day-36:-\n"
   ]
  },
  {
   "cell_type": "markdown",
   "metadata": {},
   "source": [
    "## Support Vector Classifier Indepth Intuition:-"
   ]
  },
  {
   "cell_type": "code",
   "execution_count": null,
   "metadata": {},
   "outputs": [],
   "source": []
  },
  {
   "cell_type": "markdown",
   "metadata": {},
   "source": [
    "### Marginal Plane ----> maximum distance covered.\n",
    "### Support vector  ----> nearest point from best fit line.\n",
    "### best fit line"
   ]
  },
  {
   "cell_type": "code",
   "execution_count": null,
   "metadata": {},
   "outputs": [],
   "source": []
  },
  {
   "cell_type": "markdown",
   "metadata": {},
   "source": [
    "### Soft Margin:- `many points are missclassified`.\n",
    "### Hard Margin:- `No one points will be misclassified`."
   ]
  },
  {
   "cell_type": "code",
   "execution_count": null,
   "metadata": {},
   "outputs": [],
   "source": []
  },
  {
   "cell_type": "markdown",
   "metadata": {},
   "source": [
    "## Cost function:-\n",
    "```\n",
    "\n",
    "Maximize (w,b) = 2 ------------> Distance b/w marginal plane.\n",
    "                ---\n",
    "                ||w||\n",
    "\n",
    "\n",
    "```\n",
    "\n",
    "## Cost Function:-(HInge Loss)\n",
    "For Soft margin:-\n",
    "```\n",
    "                     n  \n",
    " Min   ||w||        -----\n",
    " w,b   -----  + C   \\     E\n",
    "         2       i  /      i \n",
    "                    ----- \n",
    "                    i=1\n",
    "\n",
    "* C ----> how many datapoints are misclassified(Hyperparameter)\n",
    "   i \n",
    "* E ---> Summation of all distance of incorrect data points from marginal plane.\n",
    "   i"
   ]
  }
 ],
 "metadata": {
  "language_info": {
   "name": "python"
  }
 },
 "nbformat": 4,
 "nbformat_minor": 2
}
