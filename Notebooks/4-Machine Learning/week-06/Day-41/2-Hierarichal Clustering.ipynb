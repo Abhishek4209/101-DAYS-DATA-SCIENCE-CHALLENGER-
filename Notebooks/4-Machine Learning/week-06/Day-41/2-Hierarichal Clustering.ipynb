{
 "cells": [
  {
   "cell_type": "markdown",
   "metadata": {},
   "source": [
    "## Hierarichal Clustering:-\n",
    "\n",
    "```\n",
    "A Hierarchical clustering method works via grouping data into a tree of clusters. Hierarchical clustering begins by treating every data point as a separate cluster. Then, it repeatedly executes the subsequent steps:\n",
    "\n",
    "Identify the 2 clusters which can be closest together, and\n",
    "Merge the 2 maximum comparable clusters. We need to continue these steps until all the clusters are merged together.\n",
    "🔴There will be no centroid value."
   ]
  },
  {
   "cell_type": "markdown",
   "metadata": {},
   "source": [
    "* Aglomerative Clustering\n",
    "* Devisive Clusteing"
   ]
  },
  {
   "cell_type": "code",
   "execution_count": null,
   "metadata": {},
   "outputs": [],
   "source": []
  },
  {
   "cell_type": "markdown",
   "metadata": {},
   "source": [
    "## 1.Aglomerative Clustering:-\n",
    "The algorithm for Agglomerative Hierarchical Clustering is:\n",
    "```\n",
    "\n",
    "1. Calculate the similarity of one cluster with all the other clusters (calculate proximity matrix)\n",
    "2. Consider every data point as an individual cluster\n",
    "3. Merge the clusters which are highly similar or close to each other.\n",
    "4. Recalculate the proximity matrix for each cluster\n",
    "5. Repeat Steps 3 and 4 until only a single cluster remains.\n",
    "\n",
    "```\n",
    "![Alt text](\\4.png)"
   ]
  },
  {
   "cell_type": "code",
   "execution_count": null,
   "metadata": {},
   "outputs": [],
   "source": []
  },
  {
   "cell_type": "code",
   "execution_count": null,
   "metadata": {},
   "outputs": [],
   "source": []
  },
  {
   "cell_type": "markdown",
   "metadata": {},
   "source": [
    "## Devisisve Clustering:-\n",
    "```\n",
    "Divisive clustering is a type of hierarchical clustering that groups data points into a single cluster and then recursively divides the clusters. It's also known as DIANA (DIvisive ANAlysis).\n",
    "\n",
    "Divisive clustering begins with all the data in a single cluster and then, in a top-down manner, splits each cluster into two daughter clusters.\n",
    "```\n",
    "## Steps:-\n",
    "```\n",
    "\n",
    "1. Start with all objects in a single cluster.\n",
    "2. At each step, divide the most heterogeneous cluster into two.\n",
    "3. Repeat until all objects are in their own cluster. \n",
    "```\n",
    "\n",
    "\n",
    "![image.png](./5.png)"
   ]
  },
  {
   "cell_type": "code",
   "execution_count": null,
   "metadata": {},
   "outputs": [],
   "source": []
  },
  {
   "cell_type": "markdown",
   "metadata": {},
   "source": [
    "## No of Cluster:-\n",
    "\n",
    "### Dendogram:-\n",
    "```\n",
    "A dendrogram is a tree-structured graph used in heat maps to visualize the result of a hierarchical clustering calculation\n",
    "```\n",
    "\n",
    "![image.png](./6.png)"
   ]
  }
 ],
 "metadata": {
  "language_info": {
   "name": "python"
  }
 },
 "nbformat": 4,
 "nbformat_minor": 2
}
