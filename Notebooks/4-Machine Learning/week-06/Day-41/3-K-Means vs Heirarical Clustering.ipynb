{
 "cells": [
  {
   "cell_type": "markdown",
   "metadata": {},
   "source": [
    "## K-Means vs Heirarical Clustering"
   ]
  },
  {
   "cell_type": "code",
   "execution_count": null,
   "metadata": {},
   "outputs": [],
   "source": []
  },
  {
   "cell_type": "markdown",
   "metadata": {},
   "source": [
    "```\n",
    "                    K-Means Clustering                                              |                            Heirarical Clutering\n",
    "1 . Data Size ----> Huge                                                            | 1. Data Size ---------> Small\n",
    "                                                                                    |\n",
    "                                                                                    |\n",
    "                                                                                    |\n",
    "                                                                                    |\n",
    "2.Type of Data-----> Numberical data                                                | 2. Type of Data -----> Varity of data (Both type of data)\n",
    "                                                                                    |\n",
    "                                                                                    |\n",
    "                                                                                    |\n",
    "                                                                                    |\n",
    "                                                                                    |\n",
    "3. Intialize some K centroids.                                                      | 3.They don't have Centroids value.\n",
    "                                                                                    |\n",
    "                                                                                    |\n",
    "                                                                                    |\n",
    "                                                                                    |\n",
    "                                                                                    |\n",
    "                                                                                    |\n",
    "```                                                                                "
   ]
  }
 ],
 "metadata": {
  "language_info": {
   "name": "python"
  }
 },
 "nbformat": 4,
 "nbformat_minor": 2
}
