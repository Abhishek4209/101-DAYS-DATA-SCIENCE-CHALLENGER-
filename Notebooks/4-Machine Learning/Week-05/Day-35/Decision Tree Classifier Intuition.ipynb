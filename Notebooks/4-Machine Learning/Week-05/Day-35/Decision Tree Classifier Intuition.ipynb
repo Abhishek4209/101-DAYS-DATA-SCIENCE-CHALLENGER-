{
 "cells": [
  {
   "cell_type": "markdown",
   "metadata": {},
   "source": [
    "# Day-35:-"
   ]
  },
  {
   "cell_type": "markdown",
   "metadata": {},
   "source": [
    "## Decision Tree Classifier Intuition:-"
   ]
  },
  {
   "cell_type": "code",
   "execution_count": null,
   "metadata": {},
   "outputs": [],
   "source": []
  },
  {
   "cell_type": "markdown",
   "metadata": {},
   "source": [
    "* Decision Tree Classifier\n",
    "* Decision Tree Regression"
   ]
  },
  {
   "cell_type": "code",
   "execution_count": null,
   "metadata": {},
   "outputs": [],
   "source": []
  },
  {
   "cell_type": "markdown",
   "metadata": {},
   "source": [
    "### Decision Tree Classifier:-\n",
    "* ID3[Iterative Dichotomiser 3] --------> More than binary child. \n",
    "\n",
    "* CART [Classification and Regression Tree]  --------> Binary child tree."
   ]
  },
  {
   "cell_type": "code",
   "execution_count": null,
   "metadata": {},
   "outputs": [],
   "source": []
  },
  {
   "cell_type": "markdown",
   "metadata": {},
   "source": [
    "## Purity Check :-\n",
    "\n",
    "* Pure Split   --------> No futher split that feature.\n",
    "* Impure Split --------> futher split that feature."
   ]
  },
  {
   "cell_type": "code",
   "execution_count": null,
   "metadata": {},
   "outputs": [],
   "source": []
  },
  {
   "cell_type": "markdown",
   "metadata": {},
   "source": [
    "### Measure the Purity of Split:-\n",
    "* Entropy   ------->\n",
    "```\n",
    "H(s) = -P+ Log ( P+ )  - P- Log ( P- )\n",
    "              2                2   \n",
    "  \n",
    "\n",
    "\n",
    "* P+ -----> Probability of postive Category.\n",
    "* P- -----> Probability of Negative Category.\n",
    "\n",
    "\n",
    "\n",
    "* Impure Split (50% -50%)  ----> H(s) =1\n",
    "* Pure Split (50% -50%)  ----> H(s) =0\n",
    "\n",
    " \n",
    "```\n",
    "\n",
    "\n",
    "\n",
    "\n",
    "\n",
    "* Gini Inpurity------>\n",
    "```\n",
    "            n\n",
    "           ------  \n",
    "G.I = 1 -  \\      2\n",
    "           /   (p)\n",
    "           ------\n",
    "           i=1\n",
    "\n",
    "* p is both positive and negative class Probability. \n",
    "* Impure Split (50% -50%)  ----> G>I = 0.5\n",
    "* Pure Split (50% -50%)  ----> G>I = 0\n",
    "\n",
    "```"
   ]
  },
  {
   "cell_type": "code",
   "execution_count": null,
   "metadata": {},
   "outputs": [],
   "source": []
  },
  {
   "cell_type": "markdown",
   "metadata": {},
   "source": [
    "## What `Feature` you need to `select to start` the split."
   ]
  },
  {
   "cell_type": "markdown",
   "metadata": {},
   "source": [
    "### Information Gain:-\n",
    "\n",
    "```\n",
    "                        \n",
    "                      -----\n",
    "Gain(s,f1) = H(s) -   \\      |Sv| \n",
    "                      /      ----- H(Sv)\n",
    "                      -----   |S|\n",
    "                      v E val\n",
    "\n",
    "\n",
    "```\n"
   ]
  },
  {
   "cell_type": "markdown",
   "metadata": {},
   "source": [
    "```\n",
    "* H(s) = -P+ Log ( P+ )  - P- Log ( P- )    ------> Root Node (Entropy)\n",
    "                2                2   \n",
    "  \n",
    "\n",
    "* H(Sv) = -P+ Log ( P+ )  - P- Log ( P- )   ---------> Child Node (Entropy)\n",
    "                 2                2   \n",
    "  \n",
    "*\n"
   ]
  },
  {
   "cell_type": "code",
   "execution_count": null,
   "metadata": {},
   "outputs": [],
   "source": []
  },
  {
   "cell_type": "markdown",
   "metadata": {},
   "source": [
    "* When Datasets is small  ---> Entropy\n",
    "* When Datasets is Huge----> G.I"
   ]
  }
 ],
 "metadata": {
  "language_info": {
   "name": "python"
  }
 },
 "nbformat": 4,
 "nbformat_minor": 2
}
