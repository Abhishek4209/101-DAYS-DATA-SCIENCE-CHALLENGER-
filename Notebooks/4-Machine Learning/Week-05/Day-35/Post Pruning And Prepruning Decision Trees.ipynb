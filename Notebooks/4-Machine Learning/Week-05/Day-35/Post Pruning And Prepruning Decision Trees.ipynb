{
 "cells": [
  {
   "cell_type": "markdown",
   "metadata": {},
   "source": [
    "## Post Pruning And Prepruning Decision Trees:-"
   ]
  },
  {
   "cell_type": "markdown",
   "metadata": {},
   "source": [
    "If we can perform Whole spplit on data then they faces overfitting.\n",
    "For reducet the overfitting we can used Pruning Technoique.\n"
   ]
  },
  {
   "cell_type": "code",
   "execution_count": null,
   "metadata": {},
   "outputs": [],
   "source": []
  },
  {
   "cell_type": "markdown",
   "metadata": {},
   "source": [
    "### Post Pruning:-\n",
    "\n",
    "```\n",
    "* If we have (9Y /0 N) then we can perform pruning technique.\n",
    "* First Construct Decision tree then perform Pruning Technique in our model.\n",
    "* max_depth "
   ]
  },
  {
   "cell_type": "code",
   "execution_count": null,
   "metadata": {},
   "outputs": [],
   "source": []
  },
  {
   "cell_type": "markdown",
   "metadata": {},
   "source": [
    "### Pre Pruning:-\n",
    "* By default chose a random no of states by which we can perform only this n steps for split.\n",
    "* After this we can perform tree split."
   ]
  },
  {
   "cell_type": "code",
   "execution_count": null,
   "metadata": {},
   "outputs": [],
   "source": []
  },
  {
   "cell_type": "markdown",
   "metadata": {},
   "source": [
    "### larger datasets:--------> Prepruning\n",
    "### Small datasets:--------> Postpruning"
   ]
  }
 ],
 "metadata": {
  "language_info": {
   "name": "python"
  }
 },
 "nbformat": 4,
 "nbformat_minor": 2
}
