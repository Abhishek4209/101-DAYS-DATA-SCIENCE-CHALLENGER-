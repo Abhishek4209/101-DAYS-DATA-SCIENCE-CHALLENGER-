{
 "cells": [
  {
   "cell_type": "markdown",
   "metadata": {},
   "source": [
    "# Performance Metrics Confusion Matrix, Accuracy, Precision & Recall:-"
   ]
  },
  {
   "cell_type": "code",
   "execution_count": null,
   "metadata": {},
   "outputs": [],
   "source": []
  },
  {
   "cell_type": "markdown",
   "metadata": {},
   "source": [
    "```\n",
    "1. Confusion Matrix\n",
    "2. Accuracy\n",
    "3. precision\n",
    "4.Recall\n",
    "5. F-beta Score"
   ]
  },
  {
   "cell_type": "code",
   "execution_count": null,
   "metadata": {},
   "outputs": [],
   "source": [
    "  _1_    _0_\n",
    "1|          |\n",
    "0|___    ___|"
   ]
  },
  {
   "cell_type": "markdown",
   "metadata": {},
   "source": [
    "## Confusion Matrix:-\n",
    "```\n",
    "   Actual Value---->\n",
    "\n",
    "Predict\n",
    "Value         _1_     _0_\n",
    "            1| TP    FP  |\n",
    "             |           |  \n",
    "            0| FN    TN  |\n",
    "             ---       --- \n",
    "            \n",
    "             \n",
    "             \n",
    "\n"
   ]
  },
  {
   "cell_type": "markdown",
   "metadata": {},
   "source": [
    "## ACCURACY SCORE:-\n",
    "```\n",
    "              TP + TN\n",
    "ACCURACY  =  -----------\n",
    "            TP+FP+FN+TN"
   ]
  },
  {
   "cell_type": "code",
   "execution_count": null,
   "metadata": {},
   "outputs": [],
   "source": []
  },
  {
   "cell_type": "markdown",
   "metadata": {},
   "source": [
    "## PRECISION:-\n",
    "* IMBALENCED DATASET ------> USED THIS .\n",
    "* WHEN `FP IS MORE IMPORTENT`-----> USED THIS\n",
    "* `REDUCED FP VALUE`."
   ]
  },
  {
   "cell_type": "markdown",
   "metadata": {},
   "source": [
    "```\n",
    "                TP \n",
    "PRECISION  =  --------\n",
    "                TP+FP"
   ]
  },
  {
   "cell_type": "code",
   "execution_count": null,
   "metadata": {},
   "outputs": [],
   "source": []
  },
  {
   "cell_type": "markdown",
   "metadata": {},
   "source": [
    "## RECALL:-\n",
    "* `FP IS MORE IMPORTENT` THEN USED THIS .\n",
    "* OUT OF ALL THE PREDICT VALUE HOW MANT ARE CORRECTLY PREDICTED WITH ACTUAL VALUE."
   ]
  },
  {
   "cell_type": "markdown",
   "metadata": {},
   "source": [
    "```\n",
    "                TP \n",
    "PRECISION  =  --------\n",
    "                TP+FN"
   ]
  },
  {
   "cell_type": "code",
   "execution_count": null,
   "metadata": {},
   "outputs": [],
   "source": []
  },
  {
   "cell_type": "markdown",
   "metadata": {},
   "source": [
    "## F-b score:-\n",
    "* when both `FP` and `FN` both is importent.\n",
    "\n",
    "\n",
    "\n",
    "\n",
    "```\n",
    "        2\n",
    "    (1+b ) (Precision x Recall) \n",
    "           --------------------\n",
    "           (Precision + Recall)"
   ]
  },
  {
   "cell_type": "code",
   "execution_count": null,
   "metadata": {},
   "outputs": [],
   "source": []
  },
  {
   "cell_type": "markdown",
   "metadata": {},
   "source": [
    "* when both `FP` and `FN` both is importent.\n",
    "\n",
    "F-1 score:-------> Harmonic mean.\n",
    "\n",
    "b=1\n",
    "\n",
    "```\n",
    "        2* (Precision x Recall) \n",
    "           --------------------\n",
    "           (Precision + Recall)"
   ]
  },
  {
   "cell_type": "markdown",
   "metadata": {},
   "source": [
    "* when  `FP` is much importent than `FN`.\n",
    "\n",
    "F-0.5 score:-------> \n",
    "\n",
    "b=0.5\n",
    "\n",
    "```\n",
    "(1+0.25) * (Precision x Recall) \n",
    "           --------------------\n",
    "           (Precision + Recall)"
   ]
  },
  {
   "cell_type": "code",
   "execution_count": null,
   "metadata": {},
   "outputs": [],
   "source": []
  },
  {
   "cell_type": "markdown",
   "metadata": {},
   "source": [
    "* when  `FN` is much importent than `FP`.\n",
    "\n",
    "F-2 score:-------> \n",
    "\n",
    "b=2\n",
    "\n",
    "```\n",
    "(5) * (Precision x Recall) \n",
    "           --------------------\n",
    "           (Precision + Recall)"
   ]
  },
  {
   "cell_type": "code",
   "execution_count": null,
   "metadata": {},
   "outputs": [],
   "source": []
  },
  {
   "cell_type": "markdown",
   "metadata": {},
   "source": []
  }
 ],
 "metadata": {
  "language_info": {
   "name": "python"
  }
 },
 "nbformat": 4,
 "nbformat_minor": 2
}
