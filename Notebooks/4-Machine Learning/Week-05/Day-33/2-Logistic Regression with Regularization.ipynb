{
 "cells": [
  {
   "cell_type": "markdown",
   "metadata": {},
   "source": [
    "##  Logistic Regression with Regularization:-"
   ]
  },
  {
   "cell_type": "code",
   "execution_count": null,
   "metadata": {},
   "outputs": [],
   "source": []
  },
  {
   "cell_type": "markdown",
   "metadata": {},
   "source": [
    "```\n",
    "J(0o,01) = -ylog(h0(x)) - (1-y)log(1-h0(x)) + L2 Regularization -----> Used for Reduced overfitting .\n",
    "\n",
    "\n",
    "J(0o,01) = -ylog(h0(x)) - (1-y)log(1-h0(x)) + L1 Regularization ------> Used fot Feature Selction.\n",
    "\n",
    "\n",
    "J(0o,01) = -ylog(h0(x)) - (1-y)log(1-h0(x)) + (L1 +L2) Regularization -------> used for both Operation."
   ]
  },
  {
   "cell_type": "code",
   "execution_count": null,
   "metadata": {},
   "outputs": [],
   "source": []
  },
  {
   "cell_type": "markdown",
   "metadata": {},
   "source": [
    "## L2 Regularization:-\n",
    "```\n",
    "                                                   n\n",
    "                                                  ------\n",
    "J(0o,01) = -ylog(h0(x)) - (1-y)log(1-h0(x))  + L  \\         2\n",
    "                                                  / (slope)\n",
    "                                                  ------\n",
    "                                                   i=1"
   ]
  },
  {
   "cell_type": "markdown",
   "metadata": {},
   "source": [
    "* `L ----> Hyperparameter`"
   ]
  },
  {
   "cell_type": "markdown",
   "metadata": {},
   "source": [
    "```\n",
    "L =  1\n",
    "    ----\n",
    "     c"
   ]
  },
  {
   "cell_type": "code",
   "execution_count": null,
   "metadata": {},
   "outputs": [],
   "source": []
  },
  {
   "cell_type": "markdown",
   "metadata": {},
   "source": [
    "## L1 Regularization :-   Feature Selection\n",
    "```\n",
    "                                                   n\n",
    "                                                  ------\n",
    "J(0o,01) = -ylog(h0(x)) - (1-y)log(1-h0(x))  + L  \\         \n",
    "                                                  / |slope|\n",
    "                                                  ------\n",
    "                                                   i=1"
   ]
  },
  {
   "cell_type": "code",
   "execution_count": null,
   "metadata": {},
   "outputs": [],
   "source": []
  },
  {
   "cell_type": "markdown",
   "metadata": {},
   "source": [
    "## Elasticnet  Regularization :-   Feature Selection , Reduce Overfiting---->\n",
    "```\n",
    "                                                   \n",
    "                                                 \n",
    "J(0o,01) = -ylog(h0(x)) - (1-y)log(1-h0(x))  + L2 + L1\n",
    "                                                  \n",
    "                                                  \n",
    "                                                  "
   ]
  }
 ],
 "metadata": {
  "kernelspec": {
   "display_name": "Python 3",
   "language": "python",
   "name": "python3"
  },
  "language_info": {
   "codemirror_mode": {
    "name": "ipython",
    "version": 3
   },
   "file_extension": ".py",
   "mimetype": "text/x-python",
   "name": "python",
   "nbconvert_exporter": "python",
   "pygments_lexer": "ipython3",
   "version": "3.12.0"
  }
 },
 "nbformat": 4,
 "nbformat_minor": 2
}
