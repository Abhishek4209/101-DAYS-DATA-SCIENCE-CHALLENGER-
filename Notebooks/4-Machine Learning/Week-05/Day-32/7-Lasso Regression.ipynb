{
 "cells": [
  {
   "cell_type": "markdown",
   "metadata": {},
   "source": [
    "## Lasso Regression:-"
   ]
  },
  {
   "cell_type": "markdown",
   "metadata": {},
   "source": [
    "* Used for `Feature Selection`.\n",
    "* `L1 Regularization`."
   ]
  },
  {
   "cell_type": "code",
   "execution_count": null,
   "metadata": {},
   "outputs": [],
   "source": []
  },
  {
   "cell_type": "markdown",
   "metadata": {},
   "source": [
    "\n",
    "## Cost Function:-\n",
    "```\n",
    "                 n                                              n\n",
    "                -----                             2            -----\n",
    "                \\     [Actual_value-Predict_Value]             \\         \n",
    "J(0o,01) =      /     -----------------------------    + L     /  |slope|\n",
    "                -----       n                                  ------ \n",
    "                 i=1                                            i=1\n"
   ]
  }
 ],
 "metadata": {
  "language_info": {
   "name": "python"
  }
 },
 "nbformat": 4,
 "nbformat_minor": 2
}
