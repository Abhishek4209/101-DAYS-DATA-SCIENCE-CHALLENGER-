{
 "cells": [
  {
   "cell_type": "markdown",
   "metadata": {},
   "source": [
    "## R squared Adjusted R squared"
   ]
  },
  {
   "cell_type": "markdown",
   "metadata": {},
   "source": [
    "```\n",
    "R_square=    1   -   SS\n",
    "                       (res)\n",
    "                    -------\n",
    "                     SS\n",
    "                       (total)\n"
   ]
  },
  {
   "cell_type": "markdown",
   "metadata": {},
   "source": [
    "* SS res = Sum of square Residual ( {error})\n",
    "* SS total = Sum of Square Total "
   ]
  },
  {
   "cell_type": "markdown",
   "metadata": {},
   "source": [
    "```\n",
    "                n\n",
    "R2_score=       -----                             2\n",
    "                \\     [Actual_value-Predict_Value]\n",
    "        1  -    /     ----------------------------- \n",
    "                -----       \n",
    "                i=1              \n",
    "               ---------------------------------------\n",
    "                n\n",
    "                -----                           \n",
    "                \\                2\n",
    "                /   [Yi - mean(Yi)]  \n",
    "                -----       \n",
    "                i=1  "
   ]
  },
  {
   "cell_type": "code",
   "execution_count": null,
   "metadata": {},
   "outputs": [],
   "source": []
  },
  {
   "cell_type": "code",
   "execution_count": null,
   "metadata": {},
   "outputs": [],
   "source": []
  },
  {
   "cell_type": "markdown",
   "metadata": {},
   "source": [
    "## Adjusted R squared:-\n",
    "\n",
    "```\n",
    "it is used when we have not importent feature is wotking in our model trainig."
   ]
  },
  {
   "cell_type": "markdown",
   "metadata": {},
   "source": [
    "```\n",
    "\n",
    "Adjusted R2_score  =   1 - (1-R^2)(N-1)\n",
    "                           -------------\n",
    "                            N-P-1\n",
    "\n",
    "                        "
   ]
  },
  {
   "cell_type": "markdown",
   "metadata": {},
   "source": [
    "* N =no of data points.\n",
    "* R2= R2_score.\n",
    "* p= No of Independent Features."
   ]
  },
  {
   "cell_type": "code",
   "execution_count": null,
   "metadata": {},
   "outputs": [],
   "source": []
  },
  {
   "cell_type": "markdown",
   "metadata": {},
   "source": []
  }
 ],
 "metadata": {
  "language_info": {
   "name": "python"
  }
 },
 "nbformat": 4,
 "nbformat_minor": 2
}
