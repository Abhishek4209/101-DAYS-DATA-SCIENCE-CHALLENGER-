{
 "cells": [
  {
   "cell_type": "markdown",
   "metadata": {},
   "source": [
    "# Day-34:-"
   ]
  },
  {
   "cell_type": "markdown",
   "metadata": {},
   "source": [
    "## Cross Validation & Types:-"
   ]
  },
  {
   "cell_type": "markdown",
   "metadata": {},
   "source": [
    "```\n",
    "Devide the whole data into 3 part.\n",
    "1.Train Data ------------> Train the model with this data.\n",
    "2.Validation Data ---------> Model Hyperparameter Tuning Of our model.\n",
    "3.Test Data -----------------> Test the model with this data. Test data always hide with your model on training time."
   ]
  },
  {
   "cell_type": "code",
   "execution_count": null,
   "metadata": {},
   "outputs": [],
   "source": []
  },
  {
   "cell_type": "code",
   "execution_count": null,
   "metadata": {},
   "outputs": [],
   "source": []
  },
  {
   "cell_type": "markdown",
   "metadata": {},
   "source": [
    "## Types:-"
   ]
  },
  {
   "cell_type": "markdown",
   "metadata": {},
   "source": [
    "### 1.Leave One Out Cross Validation(LOOCV):-\n",
    "```\n",
    "* One data is for model validation.\n",
    "* remaining all are used for model training.\n",
    "* If you have n number of data points they you are perform n times this process."
   ]
  },
  {
   "cell_type": "code",
   "execution_count": null,
   "metadata": {},
   "outputs": [],
   "source": []
  },
  {
   "cell_type": "markdown",
   "metadata": {},
   "source": [
    "### DisAdvantage:-\n",
    "```\n",
    "Time Complexcity is Huge for training biig dataset.\n",
    "Model Overfit -------> Training Acc--> High  Validation Acc --> Low "
   ]
  },
  {
   "cell_type": "code",
   "execution_count": null,
   "metadata": {},
   "outputs": [],
   "source": []
  },
  {
   "cell_type": "markdown",
   "metadata": {},
   "source": [
    "### 2.Leave P Out CV:-\n",
    "```\n",
    "* P data is for model validation. p---> Hyperparameter.\n",
    "* remaining all are used for model training."
   ]
  },
  {
   "cell_type": "code",
   "execution_count": null,
   "metadata": {},
   "outputs": [],
   "source": []
  },
  {
   "cell_type": "markdown",
   "metadata": {},
   "source": [
    "### 3. K fold Cross Validation:-\n",
    "```\n",
    "* K=5(Hyperparameter) ----------> How many times you can perform Cross Validation.\n",
    "\n",
    "* n=500 (Size of Datasets):-\n",
    "\n",
    "* Validation Size = 500\n",
    "                    --- = 100\n",
    "                     5\n",
    "\n",
    "* First 100  records will be Validation data and remaining 400 will be training data. \n",
    "\n",
    "* This can perform many times."
   ]
  },
  {
   "cell_type": "code",
   "execution_count": null,
   "metadata": {},
   "outputs": [],
   "source": []
  },
  {
   "cell_type": "markdown",
   "metadata": {},
   "source": [
    "### 4.Stratified K Fold  CV:-\n",
    "* Used for `Imbalanced Datasets`.\n",
    "```\n",
    "No of Value of output categories will be same."
   ]
  },
  {
   "cell_type": "code",
   "execution_count": null,
   "metadata": {},
   "outputs": [],
   "source": []
  },
  {
   "cell_type": "markdown",
   "metadata": {},
   "source": [
    "### 5.Time Series CV:-\n"
   ]
  },
  {
   "cell_type": "markdown",
   "metadata": {},
   "source": [
    "```\n",
    "* Used for Time Data."
   ]
  }
 ],
 "metadata": {
  "language_info": {
   "name": "python"
  }
 },
 "nbformat": 4,
 "nbformat_minor": 2
}
