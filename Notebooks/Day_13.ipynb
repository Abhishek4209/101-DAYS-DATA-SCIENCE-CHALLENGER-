# Day 13 Notebook

## Introduction

This is the notebook for Day 13.

## Tasks

- Task 1
- Task 2
- Task 3


## Conclusion

End of Day 13 notebook.
