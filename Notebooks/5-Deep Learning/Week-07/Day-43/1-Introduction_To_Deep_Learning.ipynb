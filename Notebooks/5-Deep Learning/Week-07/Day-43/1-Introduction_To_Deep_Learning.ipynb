{
 "cells": [
  {
   "cell_type": "markdown",
   "metadata": {},
   "source": [
    "# Introduction To Deep Learning:-\n",
    "```\n",
    "1. ML ----> (F.E)/(F.S)--->(Domain knowldge) ----> Tell by us.            | 1.  DL ----> (F.E)/(F.S)--->(Domain knowldge) -----> Automatic learn.\n",
    "                                                                          |\n",
    "                                                                          |\n",
    "2.Model Performence is decrese when Data is Increses.                     | 2. Model Performence is increse when Data is Increses.\n",
    "                                                                          |\n",
    "                                                                          |\n",
    "3.ML can not identify complex patterns                                    | 3. DL can identify complex patterns. \n",
    "                                                                          |\n"
   ]
  },
  {
   "cell_type": "code",
   "execution_count": null,
   "metadata": {},
   "outputs": [],
   "source": []
  },
  {
   "cell_type": "markdown",
   "metadata": {},
   "source": [
    "## Need For Deep Learning:-\n",
    "\n",
    "```\n",
    "1. TO solve very complex problems.\n",
    "2. Data managment become easier .\n",
    "3. Handling large data sets. "
   ]
  },
  {
   "cell_type": "code",
   "execution_count": null,
   "metadata": {},
   "outputs": [],
   "source": []
  },
  {
   "cell_type": "markdown",
   "metadata": {},
   "source": [
    "## Use case:-\n",
    "```\n",
    "1. Youtube recomendation system.\n",
    "2. Google Translate.\n",
    "3. Face Id's\n",
    "4. Chat-GPT"
   ]
  },
  {
   "cell_type": "code",
   "execution_count": null,
   "metadata": {},
   "outputs": [],
   "source": []
  },
  {
   "cell_type": "code",
   "execution_count": null,
   "metadata": {},
   "outputs": [],
   "source": []
  },
  {
   "cell_type": "markdown",
   "metadata": {},
   "source": [
    "## Deep laearning Types:-\n",
    "```\n",
    "Artificial NN                 |  Convolutional NN            | Recurrent NN                        | Graph NN\n",
    "1.Tabular Data                | 1.  Object detection         |1. Sequential Data(Text Data)        | 1. Graph Data(Social media Data).\n",
    "2.Fraud Detection             | 2. Image Recogation          |2. Transformer"
   ]
  },
  {
   "cell_type": "code",
   "execution_count": null,
   "metadata": {},
   "outputs": [],
   "source": []
  }
 ],
 "metadata": {
  "language_info": {
   "name": "python"
  }
 },
 "nbformat": 4,
 "nbformat_minor": 2
}
