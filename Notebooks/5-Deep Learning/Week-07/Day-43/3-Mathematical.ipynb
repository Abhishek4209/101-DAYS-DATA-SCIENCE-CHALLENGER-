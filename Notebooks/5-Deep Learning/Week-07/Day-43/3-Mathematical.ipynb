{
 "cells": [
  {
   "cell_type": "markdown",
   "metadata": {},
   "source": [
    "## Mathemetical :-\n",
    "* Vectors.\n",
    "* Diffrentiaons.\n",
    "* Partial Diffrention.\n",
    "* Gradient.\n",
    "* Maxima And Minima."
   ]
  }
 ],
 "metadata": {
  "language_info": {
   "name": "python"
  }
 },
 "nbformat": 4,
 "nbformat_minor": 2
}
