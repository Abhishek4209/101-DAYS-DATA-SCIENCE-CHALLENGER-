# Day 4 Notebook

## Introduction

This is the notebook for Day 4.

## Tasks

- Task 1
- Task 2
- Task 3


## Conclusion

End of Day 4 notebook.
