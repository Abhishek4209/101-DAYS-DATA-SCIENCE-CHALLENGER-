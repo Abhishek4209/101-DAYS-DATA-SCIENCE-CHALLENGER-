{
 "cells": [
  {
   "cell_type": "code",
   "execution_count": null,
   "metadata": {},
   "outputs": [],
   "source": [
    "Here are some common Python interview questions focused on numbers:\n",
    "\n",
    "### Basic Questions\n",
    "\n",
    "1. **Check if a number is prime:**\n",
    "    ```python\n",
    "    def is_prime(n):\n",
    "        if n <= 1:\n",
    "            return False\n",
    "        for i in range(2, int(n**0.5) + 1):\n",
    "            if n % i == 0:\n",
    "                return False\n",
    "        return True\n",
    "    ```\n",
    "\n",
    "2. **Generate Fibonacci sequence:**\n",
    "    ```python\n",
    "    def fibonacci(n):\n",
    "        sequence = [0, 1]\n",
    "        while len(sequence) < n:\n",
    "            sequence.append(sequence[-1] + sequence[-2])\n",
    "        return sequence\n",
    "    ```\n",
    "\n",
    "3. **Check if a number is a palindrome:**\n",
    "    ```python\n",
    "    def is_palindrome(n):\n",
    "        return str(n) == str(n)[::-1]\n",
    "    ```\n",
    "\n",
    "4. **Find the factorial of a number:**\n",
    "    ```python\n",
    "    def factorial(n):\n",
    "        if n == 0:\n",
    "            return 1\n",
    "        return n * factorial(n - 1)\n",
    "    ```\n",
    "\n",
    "5. **Check if a number is an Armstrong number:**\n",
    "    ```python\n",
    "    def is_armstrong(n):\n",
    "        num_str = str(n)\n",
    "        power = len(num_str)\n",
    "        total = sum(int(digit) ** power for digit in num_str)\n",
    "        return total == n\n",
    "    ```\n",
    "\n",
    "### Intermediate Questions\n",
    "\n",
    "1. **Find the greatest common divisor (GCD) of two numbers:**\n",
    "    ```python\n",
    "    def gcd(a, b):\n",
    "        while b:\n",
    "            a, b = b, a % b\n",
    "        return a\n",
    "    ```\n",
    "\n",
    "2. **Find the least common multiple (LCM) of two numbers:**\n",
    "    ```python\n",
    "    def lcm(a, b):\n",
    "        return abs(a * b) // gcd(a, b)\n",
    "    ```\n",
    "\n",
    "3. **Count the number of digits in a number:**\n",
    "    ```python\n",
    "    def count_digits(n):\n",
    "        return len(str(n))\n",
    "    ```\n",
    "\n",
    "4. **Sum of digits of a number:**\n",
    "    ```python\n",
    "    def sum_of_digits(n):\n",
    "        return sum(int(digit) for digit in str(n))\n",
    "    ```\n",
    "\n",
    "5. **Check if a number is a perfect number:**\n",
    "    ```python\n",
    "    def is_perfect(n):\n",
    "        return n == sum(i for i in range(1, n) if n % i == 0)\n",
    "    ```\n",
    "\n",
    "### Advanced Questions\n",
    "\n",
    "1. **Find all prime factors of a number:**\n",
    "    ```python\n",
    "    def prime_factors(n):\n",
    "        i = 2\n",
    "        factors = []\n",
    "        while i * i <= n:\n",
    "            if n % i:\n",
    "                i += 1\n",
    "            else:\n",
    "                n //= i\n",
    "                factors.append(i)\n",
    "        if n > 1:\n",
    "            factors.append(n)\n",
    "        return factors\n",
    "    ```\n",
    "\n",
    "2. **Check if a number is a happy number:**\n",
    "    ```python\n",
    "    def is_happy_number(n):\n",
    "        def get_next(number):\n",
    "            return sum(int(char) ** 2 for char in str(number))\n",
    "        \n",
    "        slow = n\n",
    "        fast = get_next(n)\n",
    "        while fast != 1 and slow != fast:\n",
    "            slow = get_next(slow)\n",
    "            fast = get_next(get_next(fast))\n",
    "        return fast == 1\n",
    "    ```\n",
    "\n",
    "3. **Find the nth prime number:**\n",
    "    ```python\n",
    "    def nth_prime(n):\n",
    "        count = 0\n",
    "        num = 1\n",
    "        while count < n:\n",
    "            num += 1\n",
    "            if is_prime(num):\n",
    "                count += 1\n",
    "        return num\n",
    "    ```\n",
    "\n",
    "4. **Find the sum of all primes below a given number:**\n",
    "    ```python\n",
    "    def sum_of_primes_below(n):\n",
    "        sieve = [True] * n\n",
    "        sieve[0:2] = [False, False]\n",
    "        for start in range(2, int(n**0.5) + 1):\n",
    "            if sieve[start]:\n",
    "                sieve[start*start:n:start] = [False] * len(range(start*start, n, start))\n",
    "        return sum(i for i, is_prime in enumerate(sieve) if is_prime)\n",
    "    ```\n",
    "\n",
    "5. **Check if two numbers are coprime:**\n",
    "    ```python\n",
    "    def are_coprime(a, b):\n",
    "        return gcd(a, b) == 1\n",
    "    ```\n",
    "\n",
    "These questions cover a range of difficulties and concepts, helping assess a candidate's understanding of Python and number manipulation."
   ]
  },
  {
   "cell_type": "code",
   "execution_count": 1,
   "metadata": {},
   "outputs": [],
   "source": [
    "import pyspark"
   ]
  },
  {
   "cell_type": "code",
   "execution_count": 2,
   "metadata": {},
   "outputs": [],
   "source": [
    "from pyspark.sql import SparkSession"
   ]
  },
  {
   "cell_type": "code",
   "execution_count": 4,
   "metadata": {},
   "outputs": [],
   "source": [
    "spark=SparkSession.builder.appName('car-dekho').getOrCreate()"
   ]
  },
  {
   "cell_type": "code",
   "execution_count": 5,
   "metadata": {},
   "outputs": [
    {
     "data": {
      "text/html": [
       "\n",
       "            <div>\n",
       "                <p><b>SparkSession - in-memory</b></p>\n",
       "                \n",
       "        <div>\n",
       "            <p><b>SparkContext</b></p>\n",
       "\n",
       "            <p><a href=\"http://host.docker.internal:4042\">Spark UI</a></p>\n",
       "\n",
       "            <dl>\n",
       "              <dt>Version</dt>\n",
       "                <dd><code>v3.5.1</code></dd>\n",
       "              <dt>Master</dt>\n",
       "                <dd><code>local[*]</code></dd>\n",
       "              <dt>AppName</dt>\n",
       "                <dd><code>car-dekho</code></dd>\n",
       "            </dl>\n",
       "        </div>\n",
       "        \n",
       "            </div>\n",
       "        "
      ],
      "text/plain": [
       "<pyspark.sql.session.SparkSession at 0x29edd36d1c0>"
      ]
     },
     "execution_count": 5,
     "metadata": {},
     "output_type": "execute_result"
    }
   ],
   "source": [
    "spark"
   ]
  },
  {
   "cell_type": "code",
   "execution_count": 6,
   "metadata": {},
   "outputs": [],
   "source": [
    "df=spark.read.csv(r'E:\\DATA SCIENCE 101 DAYS CHALENGE\\Notebooks\\8-Spark\\cardekho_dataset.csv',inferSchema=True,header=True)"
   ]
  },
  {
   "cell_type": "code",
   "execution_count": 8,
   "metadata": {},
   "outputs": [
    {
     "name": "stdout",
     "output_type": "stream",
     "text": [
      "+---+--------------------+-------------+-----------+-----------+---------+-----------+---------+-----------------+-------+------+---------+-----+-------------+\n",
      "|_c0|            car_name|        brand|      model|vehicle_age|km_driven|seller_type|fuel_type|transmission_type|mileage|engine|max_power|seats|selling_price|\n",
      "+---+--------------------+-------------+-----------+-----------+---------+-----------+---------+-----------------+-------+------+---------+-----+-------------+\n",
      "|  0|         Maruti Alto|       Maruti|       Alto|          9|   120000| Individual|   Petrol|           Manual|   19.7|   796|     46.3|    5|       120000|\n",
      "|  1|       Hyundai Grand|      Hyundai|      Grand|          5|    20000| Individual|   Petrol|           Manual|   18.9|  1197|     82.0|    5|       550000|\n",
      "|  2|         Hyundai i20|      Hyundai|        i20|         11|    60000| Individual|   Petrol|           Manual|   17.0|  1197|     80.0|    5|       215000|\n",
      "|  3|         Maruti Alto|       Maruti|       Alto|          9|    37000| Individual|   Petrol|           Manual|  20.92|   998|     67.1|    5|       226000|\n",
      "|  4|       Ford Ecosport|         Ford|   Ecosport|          6|    30000|     Dealer|   Diesel|           Manual|  22.77|  1498|    98.59|    5|       570000|\n",
      "|  5|      Maruti Wagon R|       Maruti|    Wagon R|          8|    35000| Individual|   Petrol|           Manual|   18.9|   998|     67.1|    5|       350000|\n",
      "|  6|         Hyundai i10|      Hyundai|        i10|          8|    40000|     Dealer|   Petrol|           Manual|  20.36|  1197|     78.9|    5|       315000|\n",
      "|  7|      Maruti Wagon R|       Maruti|    Wagon R|          3|    17512|     Dealer|   Petrol|           Manual|  20.51|   998|    67.04|    5|       410000|\n",
      "|  8|       Hyundai Venue|      Hyundai|      Venue|          2|    20000| Individual|   Petrol|        Automatic|  18.15|   998|   118.35|    5|      1050000|\n",
      "| 12|        Maruti Swift|       Maruti|      Swift|          4|    28321|     Dealer|   Petrol|           Manual|   16.6|  1197|     85.0|    5|       511000|\n",
      "| 14|       Hyundai Verna|      Hyundai|      Verna|          8|    65278|     Dealer|   Diesel|           Manual|  22.32|  1582|   126.32|    5|       425000|\n",
      "| 15|      Renault Duster|      Renault|     Duster|          5|    50000| Individual|   Diesel|           Manual|  19.64|  1461|   108.45|    5|       750000|\n",
      "| 16|         Mini Cooper|         Mini|     Cooper|          4|     6000|     Dealer|   Petrol|        Automatic|  14.41|  1998|   189.08|    5|      3250000|\n",
      "| 17|         Maruti Ciaz|       Maruti|       Ciaz|          5|    76000|     Dealer|   Diesel|           Manual|  28.09|  1248|     88.5|    5|       650000|\n",
      "| 18|        Maruti Swift|       Maruti|      Swift|          5|    20000| Individual|   Diesel|           Manual|   25.2|  1248|     74.0|    5|       627000|\n",
      "| 19|Mercedes-Benz C-C...|Mercedes-Benz|    C-Class|          7|    65000|     Dealer|   Diesel|        Automatic|  19.27|  2143|    170.0|    5|      1425000|\n",
      "| 20|        Maruti Swift|       Maruti|      Swift|          7|    62200|     Dealer|   Diesel|           Manual|   28.4|  1248|     74.0|    5|       425000|\n",
      "| 21|       Toyota Innova|       Toyota|     Innova|          8|   110000| Individual|   Diesel|           Manual|  12.99|  2494|    100.6|    8|       605000|\n",
      "| 22|       Maruti Baleno|       Maruti|     Baleno|          6|    20000| Individual|   Petrol|           Manual|   21.4|  1197|     83.1|    5|       600000|\n",
      "| 23|  Maruti Swift Dzire|       Maruti|Swift Dzire|          5|    40000| Individual|   Petrol|           Manual|  20.85|  1197|    83.14|    5|       575000|\n",
      "+---+--------------------+-------------+-----------+-----------+---------+-----------+---------+-----------------+-------+------+---------+-----+-------------+\n",
      "only showing top 20 rows\n",
      "\n"
     ]
    }
   ],
   "source": [
    "df.show()"
   ]
  },
  {
   "cell_type": "code",
   "execution_count": 10,
   "metadata": {},
   "outputs": [
    {
     "name": "stdout",
     "output_type": "stream",
     "text": [
      "root\n",
      " |-- _c0: integer (nullable = true)\n",
      " |-- car_name: string (nullable = true)\n",
      " |-- brand: string (nullable = true)\n",
      " |-- model: string (nullable = true)\n",
      " |-- vehicle_age: integer (nullable = true)\n",
      " |-- km_driven: integer (nullable = true)\n",
      " |-- seller_type: string (nullable = true)\n",
      " |-- fuel_type: string (nullable = true)\n",
      " |-- transmission_type: string (nullable = true)\n",
      " |-- mileage: double (nullable = true)\n",
      " |-- engine: integer (nullable = true)\n",
      " |-- max_power: double (nullable = true)\n",
      " |-- seats: integer (nullable = true)\n",
      " |-- selling_price: integer (nullable = true)\n",
      "\n"
     ]
    }
   ],
   "source": [
    "df.printSchema()"
   ]
  },
  {
   "cell_type": "code",
   "execution_count": 16,
   "metadata": {},
   "outputs": [
    {
     "name": "stdout",
     "output_type": "stream",
     "text": [
      "+-------+-----------------+----------+-----+------------------+------------------+-----------------+----------------+---------+-----------------+------------------+------------------+-----------------+-----------------+-----------------+\n",
      "|summary|              _c0|  car_name|brand|             model|       vehicle_age|        km_driven|     seller_type|fuel_type|transmission_type|           mileage|            engine|        max_power|            seats|    selling_price|\n",
      "+-------+-----------------+----------+-----+------------------+------------------+-----------------+----------------+---------+-----------------+------------------+------------------+-----------------+-----------------+-----------------+\n",
      "|  count|            15411|     15411|15411|             15411|             15411|            15411|           15411|    15411|            15411|             15411|             15411|            15411|            15411|            15411|\n",
      "|   mean|9811.857699046135|      NULL| NULL|4.3476923076923075|6.0363376808772955|55616.48063071832|            NULL|     NULL|             NULL|19.701151125819095|1486.0577509571085|100.5882538446622|5.325481798715203|774971.1164103562|\n",
      "| stddev|5643.418541882794|      NULL| NULL|1.4007391889297625| 3.013291461417931|51618.54842178997|            NULL|     NULL|             NULL| 4.171264603904163| 521.1066956281886|42.97297907656083|0.807628428967241|894128.3632627012|\n",
      "|    min|                0|   Audi A4| Audi|                 3|                 0|              100|          Dealer|      CNG|        Automatic|               4.0|               793|             38.4|                0|            40000|\n",
      "|    max|            19543|Volvo XC90|Volvo|           redi-GO|                29|          3800000|Trustmark Dealer|   Petrol|           Manual|             33.54|              6592|            626.0|                9|         39500000|\n",
      "+-------+-----------------+----------+-----+------------------+------------------+-----------------+----------------+---------+-----------------+------------------+------------------+-----------------+-----------------+-----------------+\n",
      "\n"
     ]
    }
   ],
   "source": [
    "df.describe().show()"
   ]
  },
  {
   "cell_type": "code",
   "execution_count": null,
   "metadata": {},
   "outputs": [],
   "source": []
  },
  {
   "cell_type": "code",
   "execution_count": null,
   "metadata": {},
   "outputs": [],
   "source": []
  },
  {
   "cell_type": "code",
   "execution_count": null,
   "metadata": {},
   "outputs": [],
   "source": []
  }
 ],
 "metadata": {
  "kernelspec": {
   "display_name": "Python 3",
   "language": "python",
   "name": "python3"
  },
  "language_info": {
   "codemirror_mode": {
    "name": "ipython",
    "version": 3
   },
   "file_extension": ".py",
   "mimetype": "text/x-python",
   "name": "python",
   "nbconvert_exporter": "python",
   "pygments_lexer": "ipython3",
   "version": "3.12.0"
  }
 },
 "nbformat": 4,
 "nbformat_minor": 2
}
