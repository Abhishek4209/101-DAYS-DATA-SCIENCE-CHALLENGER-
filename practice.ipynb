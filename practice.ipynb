{
 "cells": [
  {
   "cell_type": "markdown",
   "metadata": {},
   "source": [
    "Here are some common Python interview questions focused on numbers:\n",
    "\n",
    "### Basic Questions\n",
    "\n",
    "1. **Check if a number is prime:**\n",
    "    ```python\n",
    "    def is_prime(n):\n",
    "        if n <= 1:\n",
    "            return False\n",
    "        for i in range(2, int(n**0.5) + 1):\n",
    "            if n % i == 0:\n",
    "                return False\n",
    "        return True\n",
    "    ```\n",
    "\n",
    "2. **Generate Fibonacci sequence:**\n",
    "    ```python\n",
    "    def fibonacci(n):\n",
    "        sequence = [0, 1]\n",
    "        while len(sequence) < n:\n",
    "            sequence.append(sequence[-1] + sequence[-2])\n",
    "        return sequence\n",
    "    ```\n",
    "\n",
    "3. **Check if a number is a palindrome:**\n",
    "    ```python\n",
    "    def is_palindrome(n):\n",
    "        return str(n) == str(n)[::-1]\n",
    "    ```\n",
    "\n",
    "4. **Find the factorial of a number:**\n",
    "    ```python\n",
    "    def factorial(n):\n",
    "        if n == 0:\n",
    "            return 1\n",
    "        return n * factorial(n - 1)\n",
    "    ```\n",
    "\n",
    "5. **Check if a number is an Armstrong number:**\n",
    "    ```python\n",
    "    def is_armstrong(n):\n",
    "        num_str = str(n)\n",
    "        power = len(num_str)\n",
    "        total = sum(int(digit) ** power for digit in num_str)\n",
    "        return total == n\n",
    "    ```\n",
    "\n",
    "### Intermediate Questions\n",
    "\n",
    "1. **Find the greatest common divisor (GCD) of two numbers:**\n",
    "    ```python\n",
    "    def gcd(a, b):\n",
    "        while b:\n",
    "            a, b = b, a % b\n",
    "        return a\n",
    "    ```\n",
    "\n",
    "2. **Find the least common multiple (LCM) of two numbers:**\n",
    "    ```python\n",
    "    def lcm(a, b):\n",
    "        return abs(a * b) // gcd(a, b)\n",
    "    ```\n",
    "\n",
    "3. **Count the number of digits in a number:**\n",
    "    ```python\n",
    "    def count_digits(n):\n",
    "        return len(str(n))\n",
    "    ```\n",
    "\n",
    "4. **Sum of digits of a number:**\n",
    "    ```python\n",
    "    def sum_of_digits(n):\n",
    "        return sum(int(digit) for digit in str(n))\n",
    "    ```\n",
    "\n",
    "5. **Check if a number is a perfect number:**\n",
    "    ```python\n",
    "    def is_perfect(n):\n",
    "        return n == sum(i for i in range(1, n) if n % i == 0)\n",
    "    ```\n",
    "\n",
    "### Advanced Questions\n",
    "\n",
    "1. **Find all prime factors of a number:**\n",
    "    ```python\n",
    "    def prime_factors(n):\n",
    "        i = 2\n",
    "        factors = []\n",
    "        while i * i <= n:\n",
    "            if n % i:\n",
    "                i += 1\n",
    "            else:\n",
    "                n //= i\n",
    "                factors.append(i)\n",
    "        if n > 1:\n",
    "            factors.append(n)\n",
    "        return factors\n",
    "    ```\n",
    "\n",
    "2. **Check if a number is a happy number:**\n",
    "    ```python\n",
    "    def is_happy_number(n):\n",
    "        def get_next(number):\n",
    "            return sum(int(char) ** 2 for char in str(number))\n",
    "        \n",
    "        slow = n\n",
    "        fast = get_next(n)\n",
    "        while fast != 1 and slow != fast:\n",
    "            slow = get_next(slow)\n",
    "            fast = get_next(get_next(fast))\n",
    "        return fast == 1\n",
    "    ```\n",
    "\n",
    "3. **Find the nth prime number:**\n",
    "    ```python\n",
    "    def nth_prime(n):\n",
    "        count = 0\n",
    "        num = 1\n",
    "        while count < n:\n",
    "            num += 1\n",
    "            if is_prime(num):\n",
    "                count += 1\n",
    "        return num\n",
    "    ```\n",
    "\n",
    "4. **Find the sum of all primes below a given number:**\n",
    "    ```python\n",
    "    def sum_of_primes_below(n):\n",
    "        sieve = [True] * n\n",
    "        sieve[0:2] = [False, False]\n",
    "        for start in range(2, int(n**0.5) + 1):\n",
    "            if sieve[start]:\n",
    "                sieve[start*start:n:start] = [False] * len(range(start*start, n, start))\n",
    "        return sum(i for i, is_prime in enumerate(sieve) if is_prime)\n",
    "    ```\n",
    "\n",
    "5. **Check if two numbers are coprime:**\n",
    "    ```python\n",
    "    def are_coprime(a, b):\n",
    "        return gcd(a, b) == 1\n",
    "    ```\n",
    "\n",
    "These questions cover a range of difficulties and concepts, helping assess a candidate's understanding of Python and number manipulation."
   ]
  },
  {
   "cell_type": "code",
   "execution_count": 1,
   "metadata": {},
   "outputs": [],
   "source": [
    "class pwskills:\n",
    "    def welcome(self):\n",
    "        print('welcome to pw skills')"
   ]
  },
  {
   "cell_type": "code",
   "execution_count": 2,
   "metadata": {},
   "outputs": [
    {
     "data": {
      "text/plain": [
       "__main__.pwskills"
      ]
     },
     "execution_count": 2,
     "metadata": {},
     "output_type": "execute_result"
    }
   ],
   "source": [
    "rohan=pwskills()\n",
    "type(rohan)"
   ]
  },
  {
   "cell_type": "code",
   "execution_count": 3,
   "metadata": {},
   "outputs": [
    {
     "name": "stdout",
     "output_type": "stream",
     "text": [
      "welcome to pw skills\n"
     ]
    }
   ],
   "source": [
    "rohan.welcome()"
   ]
  },
  {
   "cell_type": "code",
   "execution_count": 4,
   "metadata": {},
   "outputs": [],
   "source": [
    "class person:\n",
    "    def __init__(self,name,age, email,address):\n",
    "        self.name1 = name\n",
    "        self.age1 = age\n",
    "        self.email1 = email\n",
    "        self.address1 = address\n",
    "    \n",
    "    def get_information(self):\n",
    "        return self.name1, self.age1, self.email1, self.address1"
   ]
  },
  {
   "cell_type": "code",
   "execution_count": 5,
   "metadata": {},
   "outputs": [],
   "source": [
    "abhishek=person('Abhishek',23,'abhishekupadhyay9336@gmail.com','bhadohi')"
   ]
  },
  {
   "cell_type": "code",
   "execution_count": 6,
   "metadata": {},
   "outputs": [
    {
     "data": {
      "text/plain": [
       "('Abhishek', 23, 'abhishekupadhyay9336@gmail.com', 'bhadohi')"
      ]
     },
     "execution_count": 6,
     "metadata": {},
     "output_type": "execute_result"
    }
   ],
   "source": [
    "abhishek.get_information()"
   ]
  },
  {
   "cell_type": "code",
   "execution_count": 7,
   "metadata": {},
   "outputs": [
    {
     "data": {
      "text/plain": [
       "__main__.person"
      ]
     },
     "execution_count": 7,
     "metadata": {},
     "output_type": "execute_result"
    }
   ],
   "source": [
    "type(abhishek)"
   ]
  },
  {
   "cell_type": "markdown",
   "metadata": {},
   "source": [
    "## PolyMorphism"
   ]
  },
  {
   "cell_type": "code",
   "execution_count": 8,
   "metadata": {},
   "outputs": [],
   "source": [
    "class Data_Sciecne:\n",
    "    def __init__(self,Course_name,course_prices,course_mentors,course_fee,course_duration):\n",
    "        self.course_name=Course_name\n",
    "        self.course_prices = course_prices\n",
    "        self.course_mentors=course_mentors\n",
    "        self.course_fee = course_fee\n",
    "        self.course_duration = course_duration\n",
    "    \n",
    "    def get_information(self):\n",
    "        print(self.course_name,self.course_prices,self.course_mentors,self.course_fee,self.course_duration)"
   ]
  },
  {
   "cell_type": "code",
   "execution_count": 9,
   "metadata": {},
   "outputs": [],
   "source": [
    "class Web_Dev:\n",
    "    def __init__(self,Course_name,course_prices,course_mentors,course_fee,course_duration):\n",
    "        self.course_name=Course_name\n",
    "        self.course_prices = course_prices\n",
    "        self.course_mentors=course_mentors\n",
    "        self.course_fee = course_fee\n",
    "        self.course_duration = course_duration\n",
    "    \n",
    "    def get_information(self):\n",
    "        print(self.course_name,self.course_prices,self.course_mentors,self.course_fee,self.course_duration)"
   ]
  },
  {
   "cell_type": "code",
   "execution_count": 10,
   "metadata": {},
   "outputs": [],
   "source": [
    "data_science=Data_Sciecne('Data Science',3500,['Shudansu kumar','Krish naik','Rishabh malhotra'],2800,10)\n",
    "web_dev=Web_Dev('Web Devlopment',11000,['Sanket jain'],8000,12)"
   ]
  },
  {
   "cell_type": "code",
   "execution_count": 11,
   "metadata": {},
   "outputs": [],
   "source": [
    "class_list=[data_science,web_dev]"
   ]
  },
  {
   "cell_type": "code",
   "execution_count": 12,
   "metadata": {},
   "outputs": [
    {
     "name": "stdout",
     "output_type": "stream",
     "text": [
      "Data Science 3500 ['Shudansu kumar', 'Krish naik', 'Rishabh malhotra'] 2800 10\n",
      "Web Devlopment 11000 ['Sanket jain'] 8000 12\n"
     ]
    }
   ],
   "source": [
    "for course in class_list:\n",
    "    course.get_information()"
   ]
  },
  {
   "cell_type": "code",
   "execution_count": null,
   "metadata": {},
   "outputs": [],
   "source": []
  },
  {
   "cell_type": "code",
   "execution_count": 13,
   "metadata": {},
   "outputs": [],
   "source": [
    "class Data_Sciecne1:\n",
    "    def __init__(self,Course_name,course_prices,course_mentors,course_fee,course_duration):\n",
    "        self.__course_name=Course_name\n",
    "        self.course_prices = course_prices\n",
    "        self.course_mentors=course_mentors\n",
    "        self.course_fee = course_fee\n",
    "        self.course_duration = course_duration\n",
    "    \n",
    "    def get_information(self):\n",
    "        print(self.course_name,self.course_prices,self.course_mentors,self.course_fee,self.course_duration)"
   ]
  },
  {
   "cell_type": "code",
   "execution_count": 14,
   "metadata": {},
   "outputs": [],
   "source": [
    "data_science1=Data_Sciecne1('data sciecne',2000,['shudanshu kumar','krish naik'],3500,12)"
   ]
  },
  {
   "cell_type": "code",
   "execution_count": 22,
   "metadata": {},
   "outputs": [
    {
     "data": {
      "text/plain": [
       "'data sciecne'"
      ]
     },
     "execution_count": 22,
     "metadata": {},
     "output_type": "execute_result"
    }
   ],
   "source": [
    "data_science1._Data_Sciecne1__course_name"
   ]
  },
  {
   "cell_type": "code",
   "execution_count": null,
   "metadata": {},
   "outputs": [],
   "source": []
  },
  {
   "cell_type": "code",
   "execution_count": 24,
   "metadata": {},
   "outputs": [
    {
     "data": {
      "text/plain": [
       "'data sciecne'"
      ]
     },
     "execution_count": 24,
     "metadata": {},
     "output_type": "execute_result"
    }
   ],
   "source": [
    "data_science1._Data_Sciecne1__course_name"
   ]
  },
  {
   "cell_type": "code",
   "execution_count": 27,
   "metadata": {},
   "outputs": [],
   "source": [
    "import abc\n",
    "class pwskills2:\n",
    "    @abc.abstractmethod\n",
    "    def students_details(self):\n",
    "        pass\n",
    "    @abc.abstractmethod\n",
    "    def students_assignment(self):\n",
    "        pass\n",
    "    @abc.abstractmethod\n",
    "    def students_mark(self):\n",
    "        pass\n",
    "    "
   ]
  },
  {
   "cell_type": "code",
   "execution_count": 28,
   "metadata": {},
   "outputs": [],
   "source": [
    "class students_details(pwskills2):\n",
    "    def students_details(self):\n",
    "        return 'this is method for taking students details'\n",
    "    def students_assignment(self):\n",
    "        return 'this is method for assigning students'"
   ]
  },
  {
   "cell_type": "code",
   "execution_count": 29,
   "metadata": {},
   "outputs": [],
   "source": [
    "Student=students_details()"
   ]
  },
  {
   "cell_type": "code",
   "execution_count": 31,
   "metadata": {},
   "outputs": [
    {
     "data": {
      "text/plain": [
       "'this is method for taking students details'"
      ]
     },
     "execution_count": 31,
     "metadata": {},
     "output_type": "execute_result"
    }
   ],
   "source": [
    "Student.students_details()"
   ]
  },
  {
   "cell_type": "code",
   "execution_count": 38,
   "metadata": {},
   "outputs": [],
   "source": [
    "class pwskills1:\n",
    "    def students_details(self,name,mail_id,numbers):\n",
    "        print(name,mail_id,numbers)\n",
    "    \n",
    "    @staticmethod\n",
    "    def mentor_class(list_mentor):\n",
    "        print(list_mentor)\n",
    "        \n",
    "    @classmethod\n",
    "    def class_name(cls):\n",
    "        cls.mentor_class()"
   ]
  },
  {
   "cell_type": "code",
   "execution_count": 41,
   "metadata": {},
   "outputs": [],
   "source": [
    "with open('file.txt','w') as f:\n",
    "    f.write('this is ')"
   ]
  },
  {
   "cell_type": "code",
   "execution_count": null,
   "metadata": {},
   "outputs": [],
   "source": []
  },
  {
   "cell_type": "code",
   "execution_count": null,
   "metadata": {},
   "outputs": [],
   "source": []
  },
  {
   "cell_type": "markdown",
   "metadata": {},
   "source": [
    "### [1] Explain in detail about solar cell power plant and its application.\n",
    "\n",
    "**Solar Cell Power Plant**  \n",
    "A solar cell power plant, also known as a photovoltaic (PV) power plant, converts sunlight into electricity using solar panels composed of photovoltaic cells. These cells use the photovoltaic effect to generate direct current (DC) electricity, which is then converted to alternating current (AC) through an inverter for various applications.  \n",
    "\n",
    "**Applications**:  \n",
    "1. **Residential**: Power supply for homes.  \n",
    "2. **Commercial**: Used in offices, malls, and industries to reduce dependence on grid electricity.  \n",
    "3. **Agriculture**: Water pumping and powering agricultural equipment.  \n",
    "4. **Grid-Connected Systems**: Feeding electricity into the grid to supply urban or rural areas.  \n",
    "5. **Remote Areas**: Providing electricity to off-grid locations.  \n",
    "\n",
    "---\n",
    "\n",
    "### [2] Illustrate briefly about different geothermal energy resources and mention its direct uses.\n",
    "\n",
    "**Geothermal Energy Resources**:  \n",
    "1. **Hydrothermal Resources**: Hot water and steam reservoirs found beneath the Earth's surface.  \n",
    "2. **Enhanced Geothermal Systems (EGS)**: Artificially created reservoirs by injecting water into hot dry rocks.  \n",
    "3. **Geopressured Resources**: Hot brine containing dissolved methane.  \n",
    "4. **Hot Dry Rocks**: Underground rocks with high heat content but no water.  \n",
    "\n",
    "**Direct Uses**:  \n",
    "- Space heating and cooling.  \n",
    "- Greenhouse heating.  \n",
    "- Industrial applications like drying wood, fish, and food.  \n",
    "- Bathing and spa facilities.  \n",
    "\n",
    "---\n",
    "\n",
    "### [3] Examine in brief about the tidal and wave energy mechanism.\n",
    "\n",
    "**Tidal Energy Mechanism**:  \n",
    "Tidal energy is generated by harnessing the kinetic and potential energy of tidal movements using tidal barrages, tidal turbines, or tidal fences.  \n",
    "\n",
    "**Wave Energy Mechanism**:  \n",
    "Wave energy is derived from the surface motion of sea waves. Devices such as oscillating water columns, point absorbers, and overtopping devices capture this energy and convert it to electricity.  \n",
    "\n",
    "---\n",
    "\n",
    "### [4] State briefly about solid biomass, liquid biofuels, and biogas generation process.\n",
    "\n",
    "1. **Solid Biomass**:  \n",
    "   Produced from organic materials like wood, agricultural residues, and municipal waste. Burned directly to produce heat or converted to electricity.  \n",
    "\n",
    "2. **Liquid Biofuels**:  \n",
    "   Derived from crops like sugarcane or soybeans. Includes ethanol and biodiesel, used in vehicles as an alternative to fossil fuels.  \n",
    "\n",
    "3. **Biogas**:  \n",
    "   Generated through anaerobic digestion of organic waste (manure, food scraps) by microorganisms in biogas digesters. Produces methane-rich gas used for heating and electricity.  \n",
    "\n",
    "---\n",
    "\n",
    "### [5] Discuss in detail about solar thermal power plant and its methodological process with a suitable process flow diagram.\n",
    "\n",
    "**Solar Thermal Power Plant**:  \n",
    "Uses mirrors to concentrate sunlight to produce heat, which drives a steam turbine connected to a generator for electricity.  \n",
    "\n",
    "**Process**:  \n",
    "1. **Solar Collectors**: Capture sunlight.  \n",
    "2. **Heat Transfer Fluid**: Transfers the captured heat.  \n",
    "3. **Heat Exchanger**: Converts the heat into steam.  \n",
    "4. **Steam Turbine**: Converts steam energy into mechanical energy.  \n",
    "5. **Generator**: Produces electricity.  \n",
    "\n",
    "**Flow Diagram**:  \n",
    "Solar Collector → Heat Transfer Fluid → Heat Exchanger → Steam Turbine → Generator → Electricity.  \n",
    "\n",
    "---\n",
    "\n",
    "### [6] Explain the working of solar black plate collectors with the help of a diagram and briefly explain its components.\n",
    "\n",
    "**Solar Black Plate Collectors**:  \n",
    "Solar black plate collectors absorb solar radiation to heat a fluid passing through tubes attached to the plate.  \n",
    "\n",
    "**Components**:  \n",
    "1. **Absorber Plate**: Coated black to maximize heat absorption.  \n",
    "2. **Glass Cover**: Reduces heat loss.  \n",
    "3. **Insulation**: Minimizes thermal losses.  \n",
    "4. **Tubes**: Carry fluid for heat transfer.  \n",
    "\n",
    "---\n",
    "\n",
    "### [7] Describe in detail about solar concentrator and the process involved in the making of solar concentrator with the help of a diagram.\n",
    "\n",
    "**Solar Concentrator**:  \n",
    "Uses mirrors or lenses to focus sunlight onto a small area to generate heat or electricity.  \n",
    "\n",
    "**Process**:  \n",
    "1. **Light Capture**: Large mirrors/lenses capture sunlight.  \n",
    "2. **Focus**: Sunlight is concentrated onto a receiver.  \n",
    "3. **Heat Transfer**: Heat is transferred to a fluid or used directly.  \n",
    "4. **Energy Conversion**: Heat is converted into electricity using turbines.  \n",
    "\n",
    "---\n",
    "\n",
    "### [8] Explain renewable energy and its classification with the help of a flow chart also state solar absorption, radiation, and the conversion process happening directly from the sun. Enlist the parameters for achieving high efficiency.\n",
    "\n",
    "**Renewable Energy**:  \n",
    "Energy derived from natural resources that replenish naturally over time, such as solar, wind, geothermal, tidal, and biomass.  \n",
    "\n",
    "**Classification**:  \n",
    "- Solar Energy.  \n",
    "- Wind Energy.  \n",
    "- Geothermal Energy.  \n",
    "- Biomass Energy.  \n",
    "- Hydropower.  \n",
    "\n",
    "**Conversion Process**:  \n",
    "Solar radiation → Absorption by PV cells → Conversion to electricity.  \n",
    "\n",
    "**Efficiency Parameters**:  \n",
    "- Material quality of panels.  \n",
    "- Optimal tilt and orientation.  \n",
    "- Effective cooling systems.  \n",
    "\n",
    "---\n",
    "\n",
    "### [9] Explain in detail about flash steam and dry steam plants systematic process with clear flow chart diagram.\n",
    "\n",
    "1. **Flash Steam Plants**:  \n",
    "   Hot water from geothermal reservoirs is depressurized into steam and used to drive turbines.  \n",
    "\n",
    "2. **Dry Steam Plants**:  \n",
    "   Extract steam directly from geothermal reservoirs to power turbines.  \n",
    "\n",
    "**Flow Diagram**:  \n",
    "Geothermal Source → Steam Separation → Turbine → Generator → Electricity.  \n",
    "\n",
    "---\n",
    "\n",
    "### [10] Illustrate in detail about MHRD power generation system. Classify its system with a clear flow chart diagram, application, and its uses.\n",
    "\n",
    "**MHRD Power Generation System**:  \n",
    "Refers to energy generation methods under the Ministry of Human Resource Development focusing on innovative and sustainable energy solutions.  \n",
    "\n",
    "**Flow Chart**:  \n",
    "Energy Resource → Conversion Technology → Storage → Application.  \n",
    "\n",
    "**Applications**:  \n",
    "- Research and development.  \n",
    "- Educational infrastructure power needs.  \n",
    "\n",
    "---\n",
    "\n",
    "### [11] Explain wind energy and its importance in detail. Describe briefly about the main components of a windmill.\n",
    "\n",
    "**Wind Energy**:  \n",
    "Harnesses wind power to drive turbines that generate electricity.  \n",
    "\n",
    "**Importance**:  \n",
    "- Reduces carbon emissions.  \n",
    "- Provides sustainable energy.  \n",
    "\n",
    "**Components of a Windmill**:  \n",
    "1. **Rotor Blades**: Capture wind energy.  \n",
    "2. **Nacelle**: Houses generator and gearbox.  \n",
    "3. **Tower**: Supports blades and nacelle.  \n",
    "4. **Foundation**: Stabilizes the windmill.  \n",
    "\n",
    "---\n",
    "\n",
    "### [12] State thermoelectrical conversion towards the field. Discuss in detail about performance and limitations of thermoelectric power generator.\n",
    "\n",
    "**Thermoelectric Conversion**:  \n",
    "Converts heat directly into electricity using thermoelectric materials through the Seebeck effect.  \n",
    "\n",
    "**Performance**:  \n",
    "- Efficiency depends on material properties (high Seebeck coefficient, low thermal conductivity).  \n",
    "\n",
    "**Limitations**:  \n",
    "- Low conversion efficiency.  \n",
    "- High cost of thermoelectric materials.  "
   ]
  }
 ],
 "metadata": {
  "kernelspec": {
   "display_name": "Python 3",
   "language": "python",
   "name": "python3"
  },
  "language_info": {
   "codemirror_mode": {
    "name": "ipython",
    "version": 3
   },
   "file_extension": ".py",
   "mimetype": "text/x-python",
   "name": "python",
   "nbconvert_exporter": "python",
   "pygments_lexer": "ipython3",
   "version": "3.12.0"
  }
 },
 "nbformat": 4,
 "nbformat_minor": 2
}
